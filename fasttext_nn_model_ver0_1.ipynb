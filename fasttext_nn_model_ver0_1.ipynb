{
  "nbformat": 4,
  "nbformat_minor": 0,
  "metadata": {
    "colab": {
      "name": "deeplearning_model_ver0.1.ipynb",
      "provenance": []
    },
    "kernelspec": {
      "name": "python3",
      "display_name": "Python 3"
    },
    "language_info": {
      "name": "python"
    },
    "accelerator": "GPU"
  },
  "cells": [
    {
      "cell_type": "code",
      "source": [
        "from google.colab import drive\n",
        "drive.mount('/content/MyDrive')"
      ],
      "metadata": {
        "colab": {
          "base_uri": "https://localhost:8080/"
        },
        "id": "-z-cxDo78sr3",
        "outputId": "b99b7855-5d5e-44ec-e256-1edf139b7e3e"
      },
      "execution_count": 1,
      "outputs": [
        {
          "output_type": "stream",
          "name": "stdout",
          "text": [
            "Mounted at /content/MyDrive\n"
          ]
        }
      ]
    },
    {
      "cell_type": "markdown",
      "source": [
        "\n",
        "\n",
        "\n",
        "# 학습된 Fasttext 적용 해서 X_train, y_train, X_test 만들기\n",
        "\n",
        "\n"
      ],
      "metadata": {
        "id": "hB3WVbBij78h"
      }
    },
    {
      "cell_type": "code",
      "source": [
        "import pandas as pd\n",
        "train_preprocessed = pd.read_csv(\"/content/MyDrive/MyDrive/통계청/train_preprocesed.csv\")\n",
        "test_preprocessed = pd.read_csv(\"/content/MyDrive/MyDrive/통계청/test_preprocessed.csv\")"
      ],
      "metadata": {
        "id": "jIcRoS3r8yAb"
      },
      "execution_count": 83,
      "outputs": []
    },
    {
      "cell_type": "code",
      "source": [
        "!pip install jamo"
      ],
      "metadata": {
        "colab": {
          "base_uri": "https://localhost:8080/"
        },
        "id": "1UlDCRL19Dev",
        "outputId": "c05bc766-5942-4708-c7f6-9370f6e8aac9"
      },
      "execution_count": 84,
      "outputs": [
        {
          "output_type": "stream",
          "name": "stdout",
          "text": [
            "Collecting jamo\n",
            "  Downloading jamo-0.4.1-py3-none-any.whl (9.5 kB)\n",
            "Installing collected packages: jamo\n",
            "Successfully installed jamo-0.4.1\n"
          ]
        }
      ]
    },
    {
      "cell_type": "code",
      "source": [
        "from jamo import h2j, j2hcj\n",
        "#자모단위 자르는 함수\n",
        "def word2jamo(sen):\n",
        "    return j2hcj(h2j(sen))\n",
        "train_preprocessed['jamo'] = train_preprocessed['document'].apply(word2jamo)\n",
        "test_preprocessed['jamo'] = test_preprocessed['document'].apply(word2jamo)"
      ],
      "metadata": {
        "id": "aJZzUAzM8yCP"
      },
      "execution_count": 85,
      "outputs": []
    },
    {
      "cell_type": "code",
      "source": [
        "import fasttext"
      ],
      "metadata": {
        "id": "rA-1iBqx-EWz"
      },
      "execution_count": 87,
      "outputs": []
    },
    {
      "cell_type": "code",
      "source": [
        ""
      ],
      "metadata": {
        "id": "W5-HnCWE88pi"
      },
      "execution_count": null,
      "outputs": []
    },
    {
      "cell_type": "markdown",
      "source": [
        "fasttext_embedding_학습_ver0.1에서 학습한 fasttext 임베딩 모델 불러오기"
      ],
      "metadata": {
        "id": "osWHP-_F886G"
      }
    },
    {
      "cell_type": "code",
      "source": [
        "model = fasttext.load_model('/content/MyDrive/MyDrive/통계청/embeddingmodels/fasttext_ver0.1.bin')"
      ],
      "metadata": {
        "colab": {
          "base_uri": "https://localhost:8080/"
        },
        "id": "qJIsm2429Khp",
        "outputId": "ed4f6b02-d545-405d-fb53-b854312c9ac3"
      },
      "execution_count": 88,
      "outputs": [
        {
          "output_type": "stream",
          "name": "stderr",
          "text": [
            "Warning : `load_model` does not return WordVectorModel or SupervisedModel any more, but a `FastText` object which is very similar.\n"
          ]
        }
      ]
    },
    {
      "cell_type": "code",
      "source": [
        "vec_list_train = []\n",
        "for i in train_preprocessed['jamo']:\n",
        "    vec = model.get_sentence_vector(i)\n",
        "    vec_list_train.append(vec)\n",
        "\n",
        "vec_list_test = []\n",
        "for i in test_preprocessed['jamo']:\n",
        "    vec = model.get_sentence_vector(i)\n",
        "    vec_list_test.append(vec)"
      ],
      "metadata": {
        "colab": {
          "base_uri": "https://localhost:8080/",
          "height": 137
        },
        "id": "YvD-VxaP9tDf",
        "outputId": "07e36b6e-3153-4df3-c5c7-d783d07d3833"
      },
      "execution_count": 89,
      "outputs": [
        {
          "output_type": "error",
          "ename": "SyntaxError",
          "evalue": "ignored",
          "traceback": [
            "\u001b[0;36m  File \u001b[0;32m\"<ipython-input-89-257cbe7391d4>\"\u001b[0;36m, line \u001b[0;32m3\u001b[0m\n\u001b[0;31m    vec = model.get_sentence_vector(i).\u001b[0m\n\u001b[0m                                       ^\u001b[0m\n\u001b[0;31mSyntaxError\u001b[0m\u001b[0;31m:\u001b[0m invalid syntax\n"
          ]
        }
      ]
    },
    {
      "cell_type": "markdown",
      "source": [
        "label 개수가 230개미만인것 없애기"
      ],
      "metadata": {
        "id": "Jgzp9f8X9usn"
      }
    },
    {
      "cell_type": "code",
      "source": [
        "train_preprocessed['emb_vec'] = vec_list_train\n",
        "test_preprocessed['emb_vec'] = vec_list_test"
      ],
      "metadata": {
        "id": "XgtYSPpp8yD3"
      },
      "execution_count": null,
      "outputs": []
    },
    {
      "cell_type": "code",
      "source": [
        "countdf = train_preprocessed.groupby('label').count().sort_values(by='document')\n",
        "over230labels = countdf[countdf['document']>230].index.to_list()\n",
        "train_preprocessed = train_preprocessed[train_preprocessed['label'].isin(over230labels)]"
      ],
      "metadata": {
        "id": "Y1J8vEWg_DoW"
      },
      "execution_count": null,
      "outputs": []
    },
    {
      "cell_type": "code",
      "source": [
        ""
      ],
      "metadata": {
        "id": "jMTtA3qBDBMj"
      },
      "execution_count": null,
      "outputs": []
    },
    {
      "cell_type": "markdown",
      "source": [
        "train_processed 에서 임베딩벡터와 label을 각각 X_train,y_train 로 뽑아내서 저장, test_preprecessed의 임베딩벡터를 X_test로 저장"
      ],
      "metadata": {
        "id": "Q8pFoFIO90GV"
      }
    },
    {
      "cell_type": "code",
      "source": [
        "X_train = np.array(train_preprocessed['emb_vec'].to_list())\n",
        "y_train = np.array(train_preprocessed['label'].to_list())\n",
        "X_test = np.array(test_preprocessed['emb_vec'].to_list())\n"
      ],
      "metadata": {
        "id": "7OaRGxsF-gho"
      },
      "execution_count": null,
      "outputs": []
    },
    {
      "cell_type": "code",
      "source": [
        "X_train.shape"
      ],
      "metadata": {
        "id": "U-vT7N9WE1Rp"
      },
      "execution_count": null,
      "outputs": []
    },
    {
      "cell_type": "code",
      "source": [
        "np.save('/content/MyDrive/MyDrive/통계청/embedded_numpy/X_train_ver0.1.npy', X_train)"
      ],
      "metadata": {
        "id": "WnQUfVJvBGuj"
      },
      "execution_count": null,
      "outputs": []
    },
    {
      "cell_type": "code",
      "source": [
        "np.save('/content/MyDrive/MyDrive/통계청/embedded_numpy/X_test_ver0.1.npy', X_test)"
      ],
      "metadata": {
        "id": "ZiFgKaeCBJGM"
      },
      "execution_count": null,
      "outputs": []
    },
    {
      "cell_type": "code",
      "source": [
        "np.save('/content/MyDrive/MyDrive/통계청/embedded_numpy/y_train_ver0.1.npy', y_train)"
      ],
      "metadata": {
        "id": "7zaVg68TBJIQ"
      },
      "execution_count": null,
      "outputs": []
    },
    {
      "cell_type": "markdown",
      "source": [
        "# 딥러닝 모델 구축 시작"
      ],
      "metadata": {
        "id": "pUZUHPvHksAI"
      }
    },
    {
      "cell_type": "code",
      "source": [
        "import numpy as np\n",
        "X_train = np.load('/content/MyDrive/MyDrive/통계청/embedded_numpy/X_train_ver0.1.npy',allow_pickle=True)\n",
        "y_train = np.load('/content/MyDrive/MyDrive/통계청/embedded_numpy/y_train_ver0.1.npy',allow_pickle=True)"
      ],
      "metadata": {
        "id": "iCrbY1aQBJL-"
      },
      "execution_count": 42,
      "outputs": []
    },
    {
      "cell_type": "code",
      "source": [
        ""
      ],
      "metadata": {
        "id": "bYaEGUki1SI9"
      },
      "execution_count": null,
      "outputs": []
    },
    {
      "cell_type": "markdown",
      "source": [
        ""
      ],
      "metadata": {
        "id": "Jn_nSEIfaoiz"
      }
    },
    {
      "cell_type": "code",
      "source": [
        "import tensorflow as tf\n",
        "import pandas as pd\n",
        "\n",
        "import matplotlib.pyplot as plt\n",
        "\n",
        "from tensorflow.keras.layers import Dense,BatchNormalization,Dropout\n",
        "from tensorflow.keras.optimizers import Adam\n",
        "from keras.callbacks import EarlyStopping\n"
      ],
      "metadata": {
        "id": "YTdGQoOy8ZsT"
      },
      "execution_count": 43,
      "outputs": []
    },
    {
      "cell_type": "markdown",
      "source": [
        ""
      ],
      "metadata": {
        "id": "9TcxTdak8ZS-"
      }
    },
    {
      "cell_type": "code",
      "source": [
        "x_train.astype(float)"
      ],
      "metadata": {
        "colab": {
          "base_uri": "https://localhost:8080/"
        },
        "id": "SA6HAnyY_lbY",
        "outputId": "a7c940e6-ee90-472a-a37f-5c2f139f1264"
      },
      "execution_count": 44,
      "outputs": [
        {
          "output_type": "execute_result",
          "data": {
            "text/plain": [
              "array([[-0.06599911,  0.05893984, -0.01424733, ...,  0.09704771,\n",
              "         0.07881667,  0.00334301],\n",
              "       [ 0.00033214,  0.08497984, -0.07324332, ...,  0.05424456,\n",
              "        -0.02190229, -0.03212171],\n",
              "       [ 0.03648109, -0.03468831, -0.06038803, ...,  0.07813241,\n",
              "         0.00637706,  0.0178444 ],\n",
              "       ...,\n",
              "       [ 0.06898117,  0.02758568,  0.03475236, ...,  0.07755586,\n",
              "        -0.02388088,  0.02220103],\n",
              "       [ 0.0861293 ,  0.05143277,  0.16811433, ...,  0.15496682,\n",
              "         0.06009046,  0.00797901],\n",
              "       [ 0.10387035,  0.04931091, -0.03208455, ...,  0.00954804,\n",
              "         0.06546913, -0.03701732]])"
            ]
          },
          "metadata": {},
          "execution_count": 44
        }
      ]
    },
    {
      "cell_type": "code",
      "source": [
        "y_train"
      ],
      "metadata": {
        "colab": {
          "base_uri": "https://localhost:8080/"
        },
        "id": "iOtD3sPOqEo5",
        "outputId": "6651f051-9dc4-407a-a7e3-7a18ac52c51c"
      },
      "execution_count": 45,
      "outputs": [
        {
          "output_type": "execute_result",
          "data": {
            "text/plain": [
              "array(['S95952', 'G47472', 'G46467', ..., 'G47474', 'P85856', 'I56561'],\n",
              "      dtype='<U6')"
            ]
          },
          "metadata": {},
          "execution_count": 45
        }
      ]
    },
    {
      "cell_type": "markdown",
      "source": [
        "X_train과 y_train을 trainset,validation set으로 분할"
      ],
      "metadata": {
        "id": "i1LXCqDO-b-S"
      }
    },
    {
      "cell_type": "code",
      "source": [
        "from sklearn.model_selection import train_test_split\n",
        "from sklearn.preprocessing import LabelEncoder\n",
        "encoder=LabelEncoder()\n",
        "encoder.fit(y_train)\n",
        "y_train_digit = encoder.transform(y_train)\n",
        "x_train, x_val, y_train, y_val = train_test_split(X_train,y_train_digit, \n",
        "                                                    test_size=0.2,  \n",
        "                                                    random_state=1004)\n",
        "\n"
      ],
      "metadata": {
        "id": "tm1ampEano0A"
      },
      "execution_count": 46,
      "outputs": []
    },
    {
      "cell_type": "code",
      "source": [
        "X_train.shape"
      ],
      "metadata": {
        "colab": {
          "base_uri": "https://localhost:8080/"
        },
        "id": "H8p6AHYXqqTR",
        "outputId": "a65b57f4-f7a0-4925-a09d-bc8e0695eee0"
      },
      "execution_count": 32,
      "outputs": [
        {
          "output_type": "execute_result",
          "data": {
            "text/plain": [
              "(995442, 100)"
            ]
          },
          "metadata": {},
          "execution_count": 32
        }
      ]
    },
    {
      "cell_type": "code",
      "source": [
        "y_train.shape"
      ],
      "metadata": {
        "colab": {
          "base_uri": "https://localhost:8080/"
        },
        "id": "4EuBgXlnqthx",
        "outputId": "6fa2356e-1823-42e3-c815-495e6cbde0cd"
      },
      "execution_count": 31,
      "outputs": [
        {
          "output_type": "execute_result",
          "data": {
            "text/plain": [
              "(796353,)"
            ]
          },
          "metadata": {},
          "execution_count": 31
        }
      ]
    },
    {
      "cell_type": "code",
      "source": [
        "\n",
        "#from tensorflow.keras.utils import plot_model\n",
        "\n",
        "model1 = Sequential(name = 'model1')\n",
        "model1.add(Dense(100, activation='relu', input_dim=(100)))\n",
        "model1.add(Dense(1024, activation='relu'))\n",
        "model1.add(Dropout(0.2))\n",
        "model1.add(Dense(1024, activation='relu'))\n",
        "model1.add(Dropout(0.2))\n",
        "model1.add(Dense(168, activation='softmax'))\n",
        "model1.summary()\n",
        "#plot_model(model, show_shapes=True)"
      ],
      "metadata": {
        "colab": {
          "base_uri": "https://localhost:8080/"
        },
        "id": "81H8D0JQ_MHA",
        "outputId": "8f28a263-183a-41bd-e095-f1ae862679b2"
      },
      "execution_count": 70,
      "outputs": [
        {
          "output_type": "stream",
          "name": "stdout",
          "text": [
            "Model: \"model1\"\n",
            "_________________________________________________________________\n",
            " Layer (type)                Output Shape              Param #   \n",
            "=================================================================\n",
            " dense_38 (Dense)            (None, 100)               10100     \n",
            "                                                                 \n",
            " dense_39 (Dense)            (None, 1024)              103424    \n",
            "                                                                 \n",
            " dropout_16 (Dropout)        (None, 1024)              0         \n",
            "                                                                 \n",
            " dense_40 (Dense)            (None, 1024)              1049600   \n",
            "                                                                 \n",
            " dropout_17 (Dropout)        (None, 1024)              0         \n",
            "                                                                 \n",
            " dense_41 (Dense)            (None, 168)               172200    \n",
            "                                                                 \n",
            "=================================================================\n",
            "Total params: 1,335,324\n",
            "Trainable params: 1,335,324\n",
            "Non-trainable params: 0\n",
            "_________________________________________________________________\n"
          ]
        }
      ]
    },
    {
      "cell_type": "code",
      "source": [
        "model1.compile(optimizer='adam',\n",
        "              loss='sparse_categorical_crossentropy',\n",
        "              metrics=['accuracy'])"
      ],
      "metadata": {
        "id": "4XTDZte6o5Jh"
      },
      "execution_count": 75,
      "outputs": []
    },
    {
      "cell_type": "code",
      "source": [
        ""
      ],
      "metadata": {
        "id": "o1x2XrlasJOP"
      },
      "execution_count": 72,
      "outputs": []
    },
    {
      "cell_type": "code",
      "source": [
        "from tensorflow import keras"
      ],
      "metadata": {
        "id": "u1vC15cjo9L4"
      },
      "execution_count": 73,
      "outputs": []
    },
    {
      "cell_type": "code",
      "source": [
        "early_stop = keras.callbacks.EarlyStopping(monitor='val_loss', patience=4,restore_best_weights=True)\n",
        "history = model1.fit(x_train,y_train,\n",
        "                    epochs=100,\n",
        "                    batch_size=100,\n",
        "                    validation_data=(x_val,y_val),\n",
        "                    callbacks=early_stop)"
      ],
      "metadata": {
        "colab": {
          "base_uri": "https://localhost:8080/"
        },
        "id": "5_NCPohQ-JkG",
        "outputId": "62fc844f-ed81-4b19-87e5-433d63c1fb92"
      },
      "execution_count": 76,
      "outputs": [
        {
          "output_type": "stream",
          "name": "stdout",
          "text": [
            "Epoch 1/100\n",
            "7964/7964 [==============================] - 29s 3ms/step - loss: 0.5350 - accuracy: 0.8538 - val_loss: 0.3907 - val_accuracy: 0.8902\n",
            "Epoch 2/100\n",
            "7964/7964 [==============================] - 28s 3ms/step - loss: 0.3848 - accuracy: 0.8917 - val_loss: 0.3561 - val_accuracy: 0.9009\n",
            "Epoch 3/100\n",
            "7964/7964 [==============================] - 26s 3ms/step - loss: 0.3545 - accuracy: 0.8997 - val_loss: 0.3442 - val_accuracy: 0.9038\n",
            "Epoch 4/100\n",
            "7964/7964 [==============================] - 26s 3ms/step - loss: 0.3376 - accuracy: 0.9038 - val_loss: 0.3421 - val_accuracy: 0.9045\n",
            "Epoch 5/100\n",
            "7964/7964 [==============================] - 35s 4ms/step - loss: 0.3253 - accuracy: 0.9067 - val_loss: 0.3335 - val_accuracy: 0.9068\n",
            "Epoch 6/100\n",
            "7964/7964 [==============================] - 35s 4ms/step - loss: 0.3163 - accuracy: 0.9090 - val_loss: 0.3364 - val_accuracy: 0.9064\n",
            "Epoch 7/100\n",
            "7964/7964 [==============================] - 28s 3ms/step - loss: 0.3092 - accuracy: 0.9109 - val_loss: 0.3373 - val_accuracy: 0.9069\n",
            "Epoch 8/100\n",
            "7964/7964 [==============================] - 26s 3ms/step - loss: 0.3030 - accuracy: 0.9122 - val_loss: 0.3321 - val_accuracy: 0.9090\n",
            "Epoch 9/100\n",
            "7964/7964 [==============================] - 28s 3ms/step - loss: 0.2984 - accuracy: 0.9134 - val_loss: 0.3339 - val_accuracy: 0.9086\n",
            "Epoch 10/100\n",
            "7964/7964 [==============================] - 28s 3ms/step - loss: 0.2944 - accuracy: 0.9142 - val_loss: 0.3361 - val_accuracy: 0.9084\n",
            "Epoch 11/100\n",
            "7964/7964 [==============================] - 28s 3ms/step - loss: 0.2901 - accuracy: 0.9153 - val_loss: 0.3386 - val_accuracy: 0.9079\n",
            "Epoch 12/100\n",
            "7964/7964 [==============================] - 32s 4ms/step - loss: 0.2872 - accuracy: 0.9159 - val_loss: 0.3406 - val_accuracy: 0.9087\n"
          ]
        }
      ]
    },
    {
      "cell_type": "code",
      "source": [
        "model2 = Sequential(name = 'model1')\n",
        "model2.add(Dense(100, activation='relu', input_dim=(100)))\n",
        "model2.add(Dense(512, activation='relu'))\n",
        "model2.add(Dropout(0.25))\n",
        "model2.add(Dense(512, activation='relu'))\n",
        "model2.add(Dropout(0.25))\n",
        "model2.add(Dense(168, activation='softmax'))\n",
        "model2.summary()\n",
        "\n",
        "model2.compile(optimizer='adam',\n",
        "              loss='sparse_categorical_crossentropy',\n",
        "              metrics=['accuracy'])\n",
        "\n",
        "early_stop = keras.callbacks.EarlyStopping(monitor='val_loss', patience=4,restore_best_weights=True)\n",
        "history_model2 = model2.fit(x_train,y_train,\n",
        "                    epochs=100,\n",
        "                    batch_size=100,\n",
        "                    validation_data=(x_val,y_val),\n",
        "                    callbacks=early_stop)"
      ],
      "metadata": {
        "colab": {
          "base_uri": "https://localhost:8080/"
        },
        "id": "AyTSHCOVtXZr",
        "outputId": "7ef6b1a1-c101-4391-b541-899a0073ccb2"
      },
      "execution_count": 77,
      "outputs": [
        {
          "output_type": "stream",
          "name": "stdout",
          "text": [
            "Model: \"model1\"\n",
            "_________________________________________________________________\n",
            " Layer (type)                Output Shape              Param #   \n",
            "=================================================================\n",
            " dense_42 (Dense)            (None, 100)               10100     \n",
            "                                                                 \n",
            " dense_43 (Dense)            (None, 512)               51712     \n",
            "                                                                 \n",
            " dropout_18 (Dropout)        (None, 512)               0         \n",
            "                                                                 \n",
            " dense_44 (Dense)            (None, 512)               262656    \n",
            "                                                                 \n",
            " dropout_19 (Dropout)        (None, 512)               0         \n",
            "                                                                 \n",
            " dense_45 (Dense)            (None, 168)               86184     \n",
            "                                                                 \n",
            "=================================================================\n",
            "Total params: 410,652\n",
            "Trainable params: 410,652\n",
            "Non-trainable params: 0\n",
            "_________________________________________________________________\n",
            "Epoch 1/100\n",
            "7964/7964 [==============================] - 30s 4ms/step - loss: 0.5945 - accuracy: 0.8386 - val_loss: 0.4130 - val_accuracy: 0.8842\n",
            "Epoch 2/100\n",
            "7964/7964 [==============================] - 35s 4ms/step - loss: 0.4139 - accuracy: 0.8847 - val_loss: 0.3686 - val_accuracy: 0.8964\n",
            "Epoch 3/100\n",
            "7964/7964 [==============================] - 26s 3ms/step - loss: 0.3815 - accuracy: 0.8929 - val_loss: 0.3524 - val_accuracy: 0.9013\n",
            "Epoch 4/100\n",
            "7964/7964 [==============================] - 25s 3ms/step - loss: 0.3651 - accuracy: 0.8976 - val_loss: 0.3420 - val_accuracy: 0.9045\n",
            "Epoch 5/100\n",
            "7964/7964 [==============================] - 28s 4ms/step - loss: 0.3543 - accuracy: 0.9000 - val_loss: 0.3372 - val_accuracy: 0.9057\n",
            "Epoch 6/100\n",
            "7964/7964 [==============================] - 27s 3ms/step - loss: 0.3462 - accuracy: 0.9022 - val_loss: 0.3380 - val_accuracy: 0.9051\n",
            "Epoch 7/100\n",
            "7964/7964 [==============================] - 27s 3ms/step - loss: 0.3409 - accuracy: 0.9036 - val_loss: 0.3316 - val_accuracy: 0.9070\n",
            "Epoch 8/100\n",
            "7964/7964 [==============================] - 27s 3ms/step - loss: 0.3367 - accuracy: 0.9048 - val_loss: 0.3364 - val_accuracy: 0.9062\n",
            "Epoch 9/100\n",
            "7964/7964 [==============================] - 27s 3ms/step - loss: 0.3325 - accuracy: 0.9052 - val_loss: 0.3326 - val_accuracy: 0.9071\n",
            "Epoch 10/100\n",
            "7964/7964 [==============================] - 29s 4ms/step - loss: 0.3311 - accuracy: 0.9060 - val_loss: 0.3341 - val_accuracy: 0.9070\n",
            "Epoch 11/100\n",
            "7964/7964 [==============================] - 27s 3ms/step - loss: 0.3287 - accuracy: 0.9064 - val_loss: 0.3339 - val_accuracy: 0.9073\n"
          ]
        }
      ]
    },
    {
      "cell_type": "markdown",
      "source": [
        ""
      ],
      "metadata": {
        "id": "IME6_rQ8tk9t"
      }
    },
    {
      "cell_type": "code",
      "source": [
        "model3 = Sequential(name = 'model3')\n",
        "model3.add(Dense(100, activation='relu', input_dim=(100)))\n",
        "model3.add(Dense(256, activation='relu'))\n",
        "model3.add(Dropout(0.25))\n",
        "model3.add(Dense(256, activation='relu'))\n",
        "model3.add(Dropout(0.25))\n",
        "model3.add(Dense(256, activation='relu'))\n",
        "model3.add(Dropout(0.25))\n",
        "model3.add(Dense(168, activation='softmax'))\n",
        "model3.summary()\n",
        "\n",
        "model3.compile(optimizer='adam',\n",
        "              loss='sparse_categorical_crossentropy',\n",
        "              metrics=['accuracy'])\n",
        "\n",
        "early_stop = keras.callbacks.EarlyStopping(monitor='val_loss', patience=4,restore_best_weights=True)\n",
        "history_model3 = model3.fit(x_train,y_train,\n",
        "                    epochs=100,\n",
        "                    batch_size=100,\n",
        "                    validation_data=(x_val,y_val),\n",
        "                    callbacks=early_stop)"
      ],
      "metadata": {
        "colab": {
          "base_uri": "https://localhost:8080/"
        },
        "id": "D2W_4MYBtYVh",
        "outputId": "6d7bdc5c-bb6e-43f4-c6f5-15aa15fe0d37"
      },
      "execution_count": 78,
      "outputs": [
        {
          "output_type": "stream",
          "name": "stdout",
          "text": [
            "Model: \"model3\"\n",
            "_________________________________________________________________\n",
            " Layer (type)                Output Shape              Param #   \n",
            "=================================================================\n",
            " dense_46 (Dense)            (None, 100)               10100     \n",
            "                                                                 \n",
            " dense_47 (Dense)            (None, 256)               25856     \n",
            "                                                                 \n",
            " dropout_20 (Dropout)        (None, 256)               0         \n",
            "                                                                 \n",
            " dense_48 (Dense)            (None, 256)               65792     \n",
            "                                                                 \n",
            " dropout_21 (Dropout)        (None, 256)               0         \n",
            "                                                                 \n",
            " dense_49 (Dense)            (None, 256)               65792     \n",
            "                                                                 \n",
            " dropout_22 (Dropout)        (None, 256)               0         \n",
            "                                                                 \n",
            " dense_50 (Dense)            (None, 168)               43176     \n",
            "                                                                 \n",
            "=================================================================\n",
            "Total params: 210,716\n",
            "Trainable params: 210,716\n",
            "Non-trainable params: 0\n",
            "_________________________________________________________________\n",
            "Epoch 1/100\n",
            "7964/7964 [==============================] - 29s 4ms/step - loss: 0.7122 - accuracy: 0.8105 - val_loss: 0.4446 - val_accuracy: 0.8770\n",
            "Epoch 2/100\n",
            "7964/7964 [==============================] - 28s 4ms/step - loss: 0.4820 - accuracy: 0.8693 - val_loss: 0.3985 - val_accuracy: 0.8897\n",
            "Epoch 3/100\n",
            "7964/7964 [==============================] - 28s 4ms/step - loss: 0.4466 - accuracy: 0.8788 - val_loss: 0.3792 - val_accuracy: 0.8957\n",
            "Epoch 4/100\n",
            "7964/7964 [==============================] - 31s 4ms/step - loss: 0.4294 - accuracy: 0.8835 - val_loss: 0.3707 - val_accuracy: 0.8982\n",
            "Epoch 5/100\n",
            "7964/7964 [==============================] - 27s 3ms/step - loss: 0.4175 - accuracy: 0.8864 - val_loss: 0.3670 - val_accuracy: 0.8987\n",
            "Epoch 6/100\n",
            "7964/7964 [==============================] - 27s 3ms/step - loss: 0.4110 - accuracy: 0.8881 - val_loss: 0.3613 - val_accuracy: 0.9010\n",
            "Epoch 7/100\n",
            "7964/7964 [==============================] - 27s 3ms/step - loss: 0.4057 - accuracy: 0.8898 - val_loss: 0.3601 - val_accuracy: 0.9004\n",
            "Epoch 8/100\n",
            "7964/7964 [==============================] - 28s 4ms/step - loss: 0.4023 - accuracy: 0.8909 - val_loss: 0.3575 - val_accuracy: 0.9018\n",
            "Epoch 9/100\n",
            "7964/7964 [==============================] - 29s 4ms/step - loss: 0.3997 - accuracy: 0.8915 - val_loss: 0.3595 - val_accuracy: 0.9012\n",
            "Epoch 10/100\n",
            "7964/7964 [==============================] - 28s 4ms/step - loss: 0.3984 - accuracy: 0.8919 - val_loss: 0.3572 - val_accuracy: 0.9018\n",
            "Epoch 11/100\n",
            "7964/7964 [==============================] - 29s 4ms/step - loss: 0.3977 - accuracy: 0.8923 - val_loss: 0.3594 - val_accuracy: 0.9025\n",
            "Epoch 12/100\n",
            "7964/7964 [==============================] - 27s 3ms/step - loss: 0.3958 - accuracy: 0.8933 - val_loss: 0.3564 - val_accuracy: 0.9016\n",
            "Epoch 13/100\n",
            "7964/7964 [==============================] - 27s 3ms/step - loss: 0.3948 - accuracy: 0.8934 - val_loss: 0.3559 - val_accuracy: 0.9025\n",
            "Epoch 14/100\n",
            "7964/7964 [==============================] - 28s 4ms/step - loss: 0.3942 - accuracy: 0.8934 - val_loss: 0.3544 - val_accuracy: 0.9026\n",
            "Epoch 15/100\n",
            "7964/7964 [==============================] - 28s 4ms/step - loss: 0.3936 - accuracy: 0.8937 - val_loss: 0.3564 - val_accuracy: 0.9031\n",
            "Epoch 16/100\n",
            "7964/7964 [==============================] - 28s 4ms/step - loss: 0.3933 - accuracy: 0.8940 - val_loss: 0.3577 - val_accuracy: 0.9029\n",
            "Epoch 17/100\n",
            "7964/7964 [==============================] - 28s 4ms/step - loss: 0.3941 - accuracy: 0.8940 - val_loss: 0.3565 - val_accuracy: 0.9026\n",
            "Epoch 18/100\n",
            "7964/7964 [==============================] - 29s 4ms/step - loss: 0.3935 - accuracy: 0.8940 - val_loss: 0.3564 - val_accuracy: 0.9033\n"
          ]
        }
      ]
    },
    {
      "cell_type": "code",
      "source": [
        "\n",
        "model5.compile(optimizer='adam',\n",
        "              loss='sparse_categorical_crossentropy',\n",
        "              metrics=['accuracy'])\n",
        "\n",
        "early_stop = keras.callbacks.EarlyStopping(monitor='val_loss', patience=4,restore_best_weights=True)\n",
        "history_model5 = model5.fit(x_train,y_train,\n",
        "                    epochs=100,\n",
        "                    batch_size=100,\n",
        "                    validation_data=(x_val,y_val),\n",
        "                    callbacks=early_stop)"
      ],
      "metadata": {
        "colab": {
          "base_uri": "https://localhost:8080/"
        },
        "id": "dP6CumzdtYfG",
        "outputId": "48591c92-febd-4b5f-ae03-c73e4a665229"
      },
      "execution_count": 82,
      "outputs": [
        {
          "output_type": "stream",
          "name": "stdout",
          "text": [
            "Epoch 1/100\n",
            "7964/7964 [==============================] - 28s 4ms/step - loss: 0.5236 - accuracy: 0.8567 - val_loss: 0.3933 - val_accuracy: 0.8896\n",
            "Epoch 2/100\n",
            "7964/7964 [==============================] - 29s 4ms/step - loss: 0.3803 - accuracy: 0.8934 - val_loss: 0.3541 - val_accuracy: 0.9012\n",
            "Epoch 3/100\n",
            "7964/7964 [==============================] - 29s 4ms/step - loss: 0.3509 - accuracy: 0.9009 - val_loss: 0.3470 - val_accuracy: 0.9028\n",
            "Epoch 4/100\n",
            "7964/7964 [==============================] - 29s 4ms/step - loss: 0.3339 - accuracy: 0.9049 - val_loss: 0.3404 - val_accuracy: 0.9043\n",
            "Epoch 5/100\n",
            "7964/7964 [==============================] - 29s 4ms/step - loss: 0.3215 - accuracy: 0.9079 - val_loss: 0.3415 - val_accuracy: 0.9056\n",
            "Epoch 6/100\n",
            "7964/7964 [==============================] - 29s 4ms/step - loss: 0.3129 - accuracy: 0.9101 - val_loss: 0.3373 - val_accuracy: 0.9073\n",
            "Epoch 7/100\n",
            "7964/7964 [==============================] - 30s 4ms/step - loss: 0.3059 - accuracy: 0.9117 - val_loss: 0.3371 - val_accuracy: 0.9083\n",
            "Epoch 8/100\n",
            "7964/7964 [==============================] - 29s 4ms/step - loss: 0.3003 - accuracy: 0.9130 - val_loss: 0.3386 - val_accuracy: 0.9076\n",
            "Epoch 9/100\n",
            "7964/7964 [==============================] - 28s 3ms/step - loss: 0.2958 - accuracy: 0.9143 - val_loss: 0.3406 - val_accuracy: 0.9079\n",
            "Epoch 10/100\n",
            "7964/7964 [==============================] - 29s 4ms/step - loss: 0.2907 - accuracy: 0.9156 - val_loss: 0.3413 - val_accuracy: 0.9082\n",
            "Epoch 11/100\n",
            "7964/7964 [==============================] - 28s 3ms/step - loss: 0.2869 - accuracy: 0.9162 - val_loss: 0.3477 - val_accuracy: 0.9081\n"
          ]
        }
      ]
    },
    {
      "cell_type": "code",
      "source": [
        ""
      ],
      "metadata": {
        "id": "xsBwjovVtYhX"
      },
      "execution_count": null,
      "outputs": []
    },
    {
      "cell_type": "code",
      "source": [
        ""
      ],
      "metadata": {
        "id": "IP1Ia26t8sqM"
      },
      "execution_count": null,
      "outputs": []
    }
  ]
}