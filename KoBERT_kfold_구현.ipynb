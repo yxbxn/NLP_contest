{
  "nbformat": 4,
  "nbformat_minor": 0,
  "metadata": {
    "colab": {
      "name": "KoBERT kfold 구현.ipynb",
      "private_outputs": true,
      "provenance": [],
      "collapsed_sections": [],
      "authorship_tag": "ABX9TyNGWRKFq4UBlh1kdtuNWLP+",
      "include_colab_link": true
    },
    "kernelspec": {
      "name": "python3",
      "display_name": "Python 3"
    },
    "language_info": {
      "name": "python"
    },
    "accelerator": "GPU"
  },
  "cells": [
    {
      "cell_type": "markdown",
      "metadata": {
        "id": "view-in-github",
        "colab_type": "text"
      },
      "source": [
        "<a href=\"https://colab.research.google.com/github/yxbxn/NLP_contest/blob/main/KoBERT_kfold_%EA%B5%AC%ED%98%84.ipynb\" target=\"_parent\"><img src=\"https://colab.research.google.com/assets/colab-badge.svg\" alt=\"Open In Colab\"/></a>"
      ]
    },
    {
      "cell_type": "code",
      "execution_count": null,
      "metadata": {
        "id": "zsv7j-rr8yA1"
      },
      "outputs": [],
      "source": [
        "!pip install mxnet\n",
        "!pip install gluonnlp pandas tqdm\n",
        "!pip install sentencepiece\n",
        "!pip install transformers==3.0.2\n",
        "!pip install torch"
      ]
    },
    {
      "cell_type": "code",
      "source": [
        "#깃허브에서 KoBERT 파일 로드\n",
        "!pip install git+https://git@github.com/SKTBrain/KoBERT.git@master"
      ],
      "metadata": {
        "id": "jjNeAl-V_5C6"
      },
      "execution_count": null,
      "outputs": []
    },
    {
      "cell_type": "code",
      "source": [
        "import torch\n",
        "from torch import nn\n",
        "import torch.nn.functional as F\n",
        "import torch.optim as optim\n",
        "from torch.utils.data import Dataset, DataLoader\n",
        "import gluonnlp as nlp\n",
        "import numpy as np\n",
        "from tqdm import tqdm, tqdm_notebook\n",
        "\n",
        "from gluonnlp.data import SentencepieceTokenizer"
      ],
      "metadata": {
        "id": "IzmR6U-MBXML"
      },
      "execution_count": null,
      "outputs": []
    },
    {
      "cell_type": "code",
      "source": [
        "#kobert\n",
        "from kobert.utils import get_tokenizer\n",
        "from kobert.pytorch_kobert import get_pytorch_kobert_model\n",
        "\n",
        "#transformers\n",
        "from transformers import AdamW\n",
        "from transformers.optimization import get_cosine_schedule_with_warmup"
      ],
      "metadata": {
        "id": "aXAckokWBXIf"
      },
      "execution_count": null,
      "outputs": []
    },
    {
      "cell_type": "code",
      "source": [
        "#GPU 사용\n",
        "device = torch.device(\"cuda:0\")"
      ],
      "metadata": {
        "id": "q6kvIa24BXF2"
      },
      "execution_count": null,
      "outputs": []
    },
    {
      "cell_type": "code",
      "source": [
        "#BERT 모델, Vocabulary 불러오기\n",
        "bertmodel, vocab = get_pytorch_kobert_model()"
      ],
      "metadata": {
        "id": "H6H77sZCBXDC"
      },
      "execution_count": null,
      "outputs": []
    },
    {
      "cell_type": "code",
      "source": [
        "# 구글드라이브 연동\n",
        "from google.colab import drive\n",
        "drive.mount('/content/MyDrive')"
      ],
      "metadata": {
        "id": "X09ehhqCBW6s"
      },
      "execution_count": null,
      "outputs": []
    },
    {
      "cell_type": "code",
      "source": [
        "# 특정 파일 불러오기\n",
        "import pandas as pd\n",
        "train_preprocessed = pd.read_csv(\"/content/MyDrive/MyDrive/test/train_preprocessed_ver2.csv\").iloc[:5000,:]\n",
        "test_preprocessed = pd.read_csv(\"/content/MyDrive/MyDrive/test/test_preprocessed_ver2.csv\").iloc[:500,:]\n",
        "\n",
        "# Dataset 변환 위해 test label NaN 채우기\n",
        "test_preprocessed[\"label\"] = 0"
      ],
      "metadata": {
        "id": "wKg1kvzxBVfr"
      },
      "execution_count": null,
      "outputs": []
    },
    {
      "cell_type": "code",
      "source": [
        "import random\n",
        "random_seed = 0\n",
        "\n",
        "torch.manual_seed(random_seed)\n",
        "\n",
        "torch.backends.cudnn.deterministic = True\n",
        "torch.backends.cudnn.benchmark = False\n",
        "\n",
        "torch.cuda.manual_seed(random_seed)\n",
        "torch.cuda.manual_seed_all(random_seed)\n",
        "\n",
        "random.seed(random_seed)\n",
        "np.random.seed(random_seed)"
      ],
      "metadata": {
        "id": "VzOc-uZacO5y"
      },
      "execution_count": null,
      "outputs": []
    },
    {
      "cell_type": "markdown",
      "source": [
        "## PreProcess\n",
        "- 중복 확인하기"
      ],
      "metadata": {
        "id": "IlHSHdCFLJfo"
      }
    },
    {
      "cell_type": "code",
      "source": [
        "train_preprocessed[\"document\"] = train_preprocessed[\"document\"].apply(lambda x : x.strip())\n",
        "\n",
        "train_preprocessed = train_preprocessed.drop_duplicates([\"document\",\"label\"], keep='first', inplace=False, ignore_index=False).reset_index(drop=True)\n",
        "# document, label 중복 drop하기\n",
        "\n",
        "train_preprocessed = train_preprocessed.drop_duplicates([\"document\"],keep=False).sort_values(\"document\").reset_index(drop=True)\n",
        "# document만 중복인 것들까지 전부 drop"
      ],
      "metadata": {
        "id": "2hSnSr_-8zwC"
      },
      "execution_count": null,
      "outputs": []
    },
    {
      "cell_type": "markdown",
      "source": [
        "label 너무 적은 것들 제외하기\n",
        "- 2개미만인 label 제거"
      ],
      "metadata": {
        "id": "rhynBELoKWMF"
      }
    },
    {
      "cell_type": "code",
      "source": [
        "except_label = train_preprocessed[\"label\"].value_counts()[train_preprocessed[\"label\"].value_counts() < 2].index\n",
        "mask = train_preprocessed['label'].isin(except_label)\n",
        "train_preprocessed = train_preprocessed[~mask].reset_index(drop=True)\n",
        "\n",
        "train_preprocessed[\"label\"].value_counts()"
      ],
      "metadata": {
        "id": "NQPBkpB2H4Nc"
      },
      "execution_count": null,
      "outputs": []
    },
    {
      "cell_type": "markdown",
      "source": [
        "KoBERT 모델의 입력형식에 맞게 데이터 형식 변환하기\n",
        "- label을 인코딩하기"
      ],
      "metadata": {
        "id": "Wa01IBwdFRb4"
      }
    },
    {
      "cell_type": "code",
      "source": [
        "from sklearn.preprocessing import LabelEncoder\n",
        "le = LabelEncoder()\n",
        "le.fit(train_preprocessed[\"label\"])\n",
        "\n",
        "label = le.transform(train_preprocessed[\"label\"])\n",
        "train_preprocessed[\"encoded_label\"] = label"
      ],
      "metadata": {
        "id": "33fqQv00FPaG"
      },
      "execution_count": null,
      "outputs": []
    },
    {
      "cell_type": "markdown",
      "source": [
        "텍스트 데이터와 label 데이터 담기"
      ],
      "metadata": {
        "id": "3tgyng3FRFQZ"
      }
    },
    {
      "cell_type": "code",
      "source": [
        "# dataframe 형태의 데이터를 리스트 형태로 변경\n",
        "# bert 모델을 위한 데이터\n",
        "def transform_df_lst(df):\n",
        "    data_lst = []\n",
        "    try:\n",
        "        for q, label in zip(df['document'], df['encoded_label'])  :\n",
        "            data = []\n",
        "            data.append(q)\n",
        "            data.append(str(label))\n",
        "\n",
        "            data_lst.append(data)\n",
        "    except:\n",
        "        for q, label in zip(df['document'], df['label'])  :\n",
        "            data = []\n",
        "            data.append(q)\n",
        "            data.append(str(label))\n",
        "\n",
        "            data_lst.append(data)        \n",
        "    return data_lst"
      ],
      "metadata": {
        "id": "j8Y_IwviQSqh"
      },
      "execution_count": null,
      "outputs": []
    },
    {
      "cell_type": "markdown",
      "source": [
        "학습, 평가 데이터 20% 비율로 나누기\n",
        "- stratify 추가"
      ],
      "metadata": {
        "id": "wIXDa0slRUpa"
      }
    },
    {
      "cell_type": "code",
      "source": [
        "len(train_preprocessed)"
      ],
      "metadata": {
        "id": "D7swy1Ghbx34"
      },
      "execution_count": null,
      "outputs": []
    },
    {
      "cell_type": "code",
      "source": [
        "# fold 개수\n",
        "fold_num = 5"
      ],
      "metadata": {
        "id": "sMUiol5QdINX"
      },
      "execution_count": null,
      "outputs": []
    },
    {
      "cell_type": "code",
      "source": [
        "# Cross validation, StratifiedKfold\n",
        "from sklearn.model_selection import train_test_split, KFold, cross_val_score\n",
        "from sklearn.model_selection import StratifiedKFold\n",
        "skf = StratifiedKFold(n_splits=fold_num, shuffle=True, random_state=0)\n",
        "folds=[]\n",
        "\n",
        "# Unusual sentences must be included in the training data\n",
        "# Seperate train set and validation set in each folds\n",
        "for dataset_train, dataset_test in skf.split(train_preprocessed, train_preprocessed['encoded_label']):\n",
        "  folds.append((dataset_train, dataset_test))"
      ],
      "metadata": {
        "id": "fw-Rm-J1bRpU"
      },
      "execution_count": null,
      "outputs": []
    },
    {
      "cell_type": "markdown",
      "source": [
        "Fold1:dataset_train_0, dataset_test_0\\\n",
        "Fold2:dataset_train_1, dataset_test_1\\\n",
        "Fold3:dataset_train_2, dataset_test_2\\\n",
        "Fold4:dataset_train_3, dataset_test_3\\\n",
        "Fold5:dataset_train_4, dataset_test_4"
      ],
      "metadata": {
        "id": "MX_RdLLabbQU"
      }
    },
    {
      "cell_type": "code",
      "source": [
        "for i in range(len(folds)):\n",
        "  globals()['dataset_train_{}'.format(i)]= transform_df_lst(train_preprocessed.iloc[folds[i][0]])\n",
        "  globals()['dataset_test_{}'.format(i)] = transform_df_lst(train_preprocessed.iloc[folds[i][1]])\n",
        "  \n",
        "dataset_list = [[dataset_train_0, dataset_test_0],[dataset_train_1, dataset_test_1],[dataset_train_2, dataset_test_2],\n",
        "                [dataset_train_3, dataset_test_3],[dataset_train_4, dataset_test_4]]"
      ],
      "metadata": {
        "id": "G7_EPHV_beXZ"
      },
      "execution_count": null,
      "outputs": []
    },
    {
      "cell_type": "code",
      "source": [
        "print(\"학습 데이터 개수\",len(dataset_train_1))"
      ],
      "metadata": {
        "id": "xOML3g0tbq_k"
      },
      "execution_count": null,
      "outputs": []
    },
    {
      "cell_type": "code",
      "source": [
        "# 형식 확인\n",
        "dataset_train_1[0]"
      ],
      "metadata": {
        "id": "mjL1I9RHV3sc"
      },
      "execution_count": null,
      "outputs": []
    },
    {
      "cell_type": "code",
      "source": [
        "# 형식 확인\n",
        "dataset_test_0[0]"
      ],
      "metadata": {
        "id": "Qoad8rBmV3jR"
      },
      "execution_count": null,
      "outputs": []
    },
    {
      "cell_type": "markdown",
      "source": [
        "KoBERT의 입력데이터로 만들기"
      ],
      "metadata": {
        "id": "4-XtVhDxRkea"
      }
    },
    {
      "cell_type": "code",
      "source": [
        "class BERTDataset(Dataset):\n",
        "    def __init__(self, dataset, sent_idx, label_idx, bert_tokenizer, max_len,\n",
        "                 pad, pair):\n",
        "        transform = nlp.data.BERTSentenceTransform(\n",
        "            bert_tokenizer, max_seq_length=max_len, pad=pad, pair=pair)\n",
        "\n",
        "        self.sentences = [transform([i[sent_idx]]) for i in dataset]\n",
        "        self.labels = [np.int32(i[label_idx]) for i in dataset]\n",
        "\n",
        "    def __getitem__(self, i):\n",
        "        return (self.sentences[i] + (self.labels[i], ))\n",
        "\n",
        "    def __len__(self):\n",
        "        return (len(self.labels))"
      ],
      "metadata": {
        "id": "oWet9w6DFPz8"
      },
      "execution_count": null,
      "outputs": []
    },
    {
      "cell_type": "code",
      "source": [
        "# 파라미터 셋팅\n",
        "max_len = 64\n",
        "batch_size = 64\n",
        "warmup_ratio = 0.1\n",
        "num_epochs = 2\n",
        "max_grad_norm = 1\n",
        "log_interval = 200\n",
        "learning_rate =  5e-5"
      ],
      "metadata": {
        "id": "9jnIj3N0FQo4"
      },
      "execution_count": null,
      "outputs": []
    },
    {
      "cell_type": "markdown",
      "source": [
        "torch 형식의 데이터로 만들기"
      ],
      "metadata": {
        "id": "I3CzWxK4SkLW"
      }
    },
    {
      "cell_type": "code",
      "source": [
        "#fold 별 학습데이터 리스트\n",
        "fold_train_dataloader = []\n",
        "\n",
        "#fold 별 검증데이터 리스트\n",
        "fold_test_dataloader = []"
      ],
      "metadata": {
        "id": "Sb_UdOegeeR0"
      },
      "execution_count": null,
      "outputs": []
    },
    {
      "cell_type": "code",
      "source": [
        "#토큰화\n",
        "tokenizer = get_tokenizer()\n",
        "tok = nlp.data.BERTSPTokenizer(tokenizer, vocab, lower=False)\n",
        "\n",
        "\n",
        "for i in tqdm(range(len(dataset_list))):\n",
        "   globals()['data_train_{}'.format(i)] = BERTDataset(globals()['dataset_train_{}'.format(i)], 0, 1, tok, max_len, True, False)\n",
        "   globals()['data_test_{}'.format(i)] = BERTDataset(globals()['dataset_test_{}'.format(i)], 0, 1, tok, max_len, True, False)\n",
        "\n",
        "#torch 형식의 데이터로 만들기\n",
        "for i in tqdm(range(5)):\n",
        "    globals()['train_dataloader_{}'.format(i)] = torch.utils.data.DataLoader(globals()['data_train_{}'.format(i)], batch_size=batch_size, num_workers=5)\n",
        "    globals()['test_dataloader_{}'.format(i)] = torch.utils.data.DataLoader(globals()['data_test_{}'.format(i)], batch_size=batch_size, num_workers=5)\n",
        "\n",
        "    fold_train_dataloader.append(globals()['data_train_{}'.format(i)])\n",
        "    fold_test_dataloader.append(globals()['data_test_{}'.format(i)])"
      ],
      "metadata": {
        "id": "FF7eIg4fFQw7"
      },
      "execution_count": null,
      "outputs": []
    },
    {
      "cell_type": "code",
      "source": [
        "# 학습 fold 0번째의 0번째 데이터\n",
        "print(fold_train_dataloader[0][0][0])"
      ],
      "metadata": {
        "id": "zXLaFQ3SesrR"
      },
      "execution_count": null,
      "outputs": []
    },
    {
      "cell_type": "code",
      "source": [
        "# 학습 fold 1번째의 0번째 데이터\n",
        "print(fold_train_dataloader[0][1][0])"
      ],
      "metadata": {
        "id": "JrJYRiK6e1m9"
      },
      "execution_count": null,
      "outputs": []
    },
    {
      "cell_type": "markdown",
      "source": [
        "KoBERT 학습모델 만들기\n",
        "- 클래스 수 조정하기"
      ],
      "metadata": {
        "id": "rDU95MaaSsTW"
      }
    },
    {
      "cell_type": "code",
      "source": [
        "class BERTClassifier(nn.Module):\n",
        "    def __init__(self,\n",
        "                 bert,\n",
        "                 hidden_size = 768,\n",
        "                 num_classes = 149 ,   ##클래스 수 조정##\n",
        "                 dr_rate=None,\n",
        "                 params=None):\n",
        "        super(BERTClassifier, self).__init__()\n",
        "        self.bert = bert\n",
        "        self.dr_rate = dr_rate\n",
        "                 \n",
        "        self.classifier = nn.Linear(hidden_size , num_classes)\n",
        "        if dr_rate:\n",
        "            self.dropout = nn.Dropout(p=dr_rate)\n",
        "    \n",
        "    def gen_attention_mask(self, token_ids, valid_length):\n",
        "        attention_mask = torch.zeros_like(token_ids)\n",
        "        for i, v in enumerate(valid_length):\n",
        "            attention_mask[i][:v] = 1\n",
        "        return attention_mask.float()\n",
        "\n",
        "    def forward(self, token_ids, valid_length, segment_ids):\n",
        "        attention_mask = self.gen_attention_mask(token_ids, valid_length)\n",
        "        \n",
        "        _, pooler = self.bert(input_ids = token_ids, token_type_ids = segment_ids.long(), attention_mask = attention_mask.float().to(token_ids.device))\n",
        "        if self.dr_rate:\n",
        "            out = self.dropout(pooler)\n",
        "        return self.classifier(out)\n",
        "\n",
        "#정확도 측정을 위한 함수 정의\n",
        "def calc_accuracy(X,Y):\n",
        "    max_vals, max_indices = torch.max(X, 1)\n",
        "    train_acc = (max_indices == Y).sum().data.cpu().numpy()/max_indices.size()[0]\n",
        "    return train_acc"
      ],
      "metadata": {
        "id": "MFT3Hc_0SmHD"
      },
      "execution_count": null,
      "outputs": []
    },
    {
      "cell_type": "markdown",
      "source": [
        "### KFold 때 마다 다르게 모델 선언"
      ],
      "metadata": {
        "id": "hW6QXDSCc5d8"
      }
    },
    {
      "cell_type": "code",
      "source": [
        "import warnings\n",
        "warnings.filterwarnings('ignore')"
      ],
      "metadata": {
        "id": "w3S6bGC5eAhP"
      },
      "execution_count": null,
      "outputs": []
    },
    {
      "cell_type": "code",
      "source": [
        "#학습 데이터 셋 길이 = 배치 개수\n",
        "batch_num = len(train_dataloader_1)\n",
        "fold_train_acc_lst = []\n",
        "fold_test_acc_lst = []\n",
        "\n",
        "#fold 별 학습데이터 리스트 : fold_train_dataloader\n",
        "\n",
        "#fold 별 검증데이터 리스트 : fold_test_dataloader\n",
        "\n",
        "# Fold 개수만큼 모델 생성 후, 앙상블\n",
        "for fold in range(fold_num):\n",
        "\n",
        "    model = BERTClassifier(bertmodel,  dr_rate=0.2).to(device)\n",
        "\n",
        "    #optimizer와 schedule 설정\n",
        "    no_decay = ['bias', 'LayerNorm.weight']\n",
        "    optimizer_grouped_parameters = [\n",
        "        {'params': [p for n, p in model.named_parameters() if not any(nd in n for nd in no_decay)], 'weight_decay': 0.01},\n",
        "        {'params': [p for n, p in model.named_parameters() if any(nd in n for nd in no_decay)], 'weight_decay': 0.0}\n",
        "    ]\n",
        "\n",
        "    optimizer = AdamW(optimizer_grouped_parameters, lr=learning_rate)\n",
        "    loss_fn = nn.CrossEntropyLoss() # focal loss ->\n",
        "\n",
        "    t_total = batch_num * num_epochs\n",
        "    warmup_step = int(t_total * warmup_ratio)\n",
        "\n",
        "    scheduler = get_cosine_schedule_with_warmup(optimizer,\n",
        "                                                num_warmup_steps = warmup_step,\n",
        "                                                num_training_steps = t_total\n",
        "                                                )\n",
        "    \n",
        "    ## 데이터 학습하기\n",
        "\n",
        "    for e in range(num_epochs):\n",
        "        train_acc = 0.0\n",
        "        test_acc = 0.0\n",
        "        train_acc_lst_1d = []\n",
        "        test_acc_lst_1d = []\n",
        "\n",
        "        model.train()\n",
        "        for batch_id, (token_ids, valid_length, segment_ids, label) in enumerate(tqdm_notebook(globals()['train_dataloader_{}'.format(fold)])):\n",
        "            optimizer.zero_grad()\n",
        "            token_ids = token_ids.long().to(device)\n",
        "            segment_ids = segment_ids.long().to(device)\n",
        "            valid_length= valid_length\n",
        "            label = label.long().to(device)\n",
        "            out = model(token_ids, valid_length, segment_ids)\n",
        "            loss = loss_fn(out, label)\n",
        "            loss.backward()\n",
        "            torch.nn.utils.clip_grad_norm_(model.parameters(), max_grad_norm)\n",
        "            optimizer.step()\n",
        "            scheduler.step() \n",
        "            train_acc += calc_accuracy(out, label)\n",
        "            if batch_id % log_interval == 0:\n",
        "                print(\"fold {} epoch {} batch id {} loss {} train acc {}\".\n",
        "                      format(fold, e+1, batch_id+1, loss.data.cpu().numpy(), train_acc / (batch_id+1)))\n",
        "        print(\"fold {} epoch {} train acc {}\".format(fold, e+1, train_acc / (batch_id+1)))\n",
        "        train_acc_lst_1d.append(train_acc)\n",
        "\n",
        "        model.eval()\n",
        "        for batch_id, (token_ids, valid_length, segment_ids, label) in enumerate(tqdm_notebook(globals()['test_dataloader_{}'.format(fold)])):\n",
        "            token_ids = token_ids.long().to(device)\n",
        "            segment_ids = segment_ids.long().to(device)\n",
        "            valid_length= valid_length\n",
        "            label = label.long().to(device)\n",
        "            out = model(token_ids, valid_length, segment_ids)\n",
        "            test_acc += calc_accuracy(out, label)\n",
        "\n",
        "        print(\"fold {} epoch {} test acc {}\".format(fold, e+1, test_acc / (batch_id+1)))\n",
        "        test_acc_lst_1d.append(test_acc)\n",
        "\n",
        "    ## fold 1번 끝날 때 최종 acc 기록\n",
        "    fold_train_acc_lst.append(train_acc_lst_1d)\n",
        "    fold_test_acc_lst.append(test_acc_lst_1d)\n",
        "\n",
        "    model_save_name = F'classifier_fulllabel_over_noclean_ver2_e5_fold{i}.bert'\n",
        "    path = F\"/content/MyDrive/MyDrive/test/{model_save_name}\"\n",
        "    torch.save(model.state_dict(), path)"
      ],
      "metadata": {
        "id": "7OMVguF_c4kl"
      },
      "execution_count": null,
      "outputs": []
    },
    {
      "cell_type": "code",
      "source": [
        "fold_train_acc_lst"
      ],
      "metadata": {
        "id": "NgoNuj4jjMZ0"
      },
      "execution_count": null,
      "outputs": []
    },
    {
      "cell_type": "markdown",
      "source": [
        "데이터 학습하기"
      ],
      "metadata": {
        "id": "RzUzS2rfTK_q"
      }
    },
    {
      "cell_type": "code",
      "source": [
        "for e in range(num_epochs):\n",
        "    train_acc = 0.0\n",
        "    test_acc = 0.0\n",
        "    model.train()\n",
        "    for batch_id, (token_ids, valid_length, segment_ids, label) in enumerate(tqdm_notebook(train_dataloader)):\n",
        "        optimizer.zero_grad()\n",
        "        token_ids = token_ids.long().to(device)\n",
        "        segment_ids = segment_ids.long().to(device)\n",
        "        valid_length= valid_length\n",
        "        label = label.long().to(device)\n",
        "        out = model(token_ids, valid_length, segment_ids)\n",
        "        loss = loss_fn(out, label)\n",
        "        loss.backward()\n",
        "        torch.nn.utils.clip_grad_norm_(model.parameters(), max_grad_norm)\n",
        "        optimizer.step()\n",
        "        scheduler.step() \n",
        "        train_acc += calc_accuracy(out, label)\n",
        "        if batch_id % log_interval == 0:\n",
        "            print(\"epoch {} batch id {} loss {} train acc {}\".format(e+1, batch_id+1, loss.data.cpu().numpy(), train_acc / (batch_id+1)))\n",
        "    print(\"epoch {} train acc {}\".format(e+1, train_acc / (batch_id+1)))\n",
        "\n",
        "    model.eval()\n",
        "    for batch_id, (token_ids, valid_length, segment_ids, label) in enumerate(tqdm_notebook(test_dataloader)):\n",
        "        token_ids = token_ids.long().to(device)\n",
        "        segment_ids = segment_ids.long().to(device)\n",
        "        valid_length= valid_length\n",
        "        label = label.long().to(device)\n",
        "        out = model(token_ids, valid_length, segment_ids)\n",
        "        test_acc += calc_accuracy(out, label)\n",
        "\n",
        "    print(\"epoch {} test acc {}\".format(e+1, test_acc / (batch_id+1)))"
      ],
      "metadata": {
        "id": "lJm2R2WES3eY"
      },
      "execution_count": null,
      "outputs": []
    },
    {
      "cell_type": "markdown",
      "source": [
        "모델 저장하기"
      ],
      "metadata": {
        "id": "plocCOUIugur"
      }
    },
    {
      "cell_type": "code",
      "source": [
        "model_save_name = 'classifier_fulllabel_nodup_ver2_e15.bert'\n",
        "path = F\"/content/MyDrive/MyDrive/test/{model_save_name}\" \n",
        "torch.save(model.state_dict(), path)"
      ],
      "metadata": {
        "id": "sQIBf21hS3hB"
      },
      "execution_count": null,
      "outputs": []
    },
    {
      "cell_type": "markdown",
      "source": [
        "모델 불러오기"
      ],
      "metadata": {
        "id": "ZCRHACNFuhPD"
      }
    },
    {
      "cell_type": "code",
      "source": [
        "model_save_name = 'classifier_fulllabel_nodup_ver2_e5.bert'\n",
        "path = F\"/content/MyDrive/MyDrive/test/{model_save_name}\"\n",
        "model.load_state_dict(torch.load(path))"
      ],
      "metadata": {
        "id": "FTkL5Sq_S3jc"
      },
      "execution_count": null,
      "outputs": []
    },
    {
      "cell_type": "markdown",
      "source": [
        "val 기반 예측"
      ],
      "metadata": {
        "id": "W6v0vz-9IqCf"
      }
    },
    {
      "cell_type": "code",
      "source": [
        "dataset_test = nlp.data.TSVDataset('/content/MyDrive/MyDrive/test/val_preprocessed_ver2.tsv', field_indices=[4,6], num_discard_samples=1)\n",
        "data_test = BERTDataset(dataset_test, 0, 1, tok, max_len, True, False)\n",
        "test_dataloader = torch.utils.data.DataLoader(data_test, batch_size=1, num_workers=0)"
      ],
      "metadata": {
        "id": "o3H1PfQMIpJi"
      },
      "execution_count": null,
      "outputs": []
    },
    {
      "cell_type": "code",
      "source": [
        "predict_val = []\n",
        "predict_num_lst = []\n",
        "\n",
        "for batch_id, (token_ids, valid_length, segment_ids, label) in enumerate(tqdm_notebook(test_dataloader)): \n",
        "  token_ids = token_ids.long().to(device) \n",
        "  segment_ids = segment_ids.long().to(device) \n",
        "  valid_length= valid_length \n",
        "  out = model(token_ids, valid_length, segment_ids)\n",
        "  prediction = out.cpu().detach().numpy().argmax()\n",
        "  predict_val.append(prediction)\n",
        "  predict_num_lst.append(out.cpu().detach().numpy())\n",
        "  if batch_id % 5000 == 0:\n",
        "     print(str(batch_id) + \"번째 문장의 분류 예측값은\" + str(prediction) + \"입니다.\")"
      ],
      "metadata": {
        "id": "V0yukI3PFh1w"
      },
      "execution_count": null,
      "outputs": []
    },
    {
      "cell_type": "markdown",
      "source": [
        "예측값 비교"
      ],
      "metadata": {
        "id": "mbdP7SBsO32O"
      }
    },
    {
      "cell_type": "code",
      "source": [
        "# predict_val : 예측된 라벨값\n",
        "# label_pred : 예측된 라벨\n",
        "label_pred = le.inverse_transform(predict_val)\n",
        "\n",
        "# 예측된 값을 다시 텍스트 라벨로 되돌린다\n",
        "target = test_dataloader.dataset.labels\n",
        "label_target = le.inverse_transform(target)"
      ],
      "metadata": {
        "id": "Wg2LTS1XKyGu"
      },
      "execution_count": null,
      "outputs": []
    },
    {
      "cell_type": "code",
      "source": [
        "dataset_test_df = pd.read_csv(\"/content/MyDrive/MyDrive/test/val_preprocessed_ver2.tsv\",sep='\\t')"
      ],
      "metadata": {
        "id": "xOunzyqvKx_h"
      },
      "execution_count": null,
      "outputs": []
    },
    {
      "cell_type": "code",
      "source": [
        "dataset_test_df[\"pred\"] = label_pred\n",
        "dataset_test_df.head(3)"
      ],
      "metadata": {
        "id": "5G6mY6YlPVr5"
      },
      "execution_count": null,
      "outputs": []
    },
    {
      "cell_type": "code",
      "source": [
        "dataset_test_df.to_csv(\"/content/MyDrive/MyDrive/test/compare.csv\",encoding=\"utf-8-sig\",index=False)"
      ],
      "metadata": {
        "id": "AhEQD7J6Kx2v"
      },
      "execution_count": null,
      "outputs": []
    },
    {
      "cell_type": "markdown",
      "source": [
        "accuracy"
      ],
      "metadata": {
        "id": "2UdlsQ8HQP2U"
      }
    },
    {
      "cell_type": "code",
      "source": [
        "from sklearn.metrics import accuracy_score\n",
        "accuracy_score(target,predict_val)"
      ],
      "metadata": {
        "id": "LDH-Ao3zQPpM"
      },
      "execution_count": null,
      "outputs": []
    },
    {
      "cell_type": "code",
      "source": [
        "dataset_test_df[dataset_test_df[\"label\"] != dataset_test_df[\"pred\"]]"
      ],
      "metadata": {
        "id": "u8IbBkWbQiUU"
      },
      "execution_count": null,
      "outputs": []
    },
    {
      "cell_type": "markdown",
      "source": [
        "예측하기"
      ],
      "metadata": {
        "id": "ivxteQyzGcDm"
      }
    },
    {
      "cell_type": "code",
      "source": [
        "max_len = 64\n",
        "#토큰화\n",
        "tokenizer = get_tokenizer()\n",
        "tok = nlp.data.BERTSPTokenizer(tokenizer, vocab, lower=False)"
      ],
      "metadata": {
        "id": "1cMkOUO3It0G"
      },
      "execution_count": null,
      "outputs": []
    },
    {
      "cell_type": "code",
      "source": [
        "new_test = nlp.data.TSVDataset('/content/MyDrive/MyDrive/test/train_preprocessed.tsv', field_indices=[4,5], num_discard_samples=1)"
      ],
      "metadata": {
        "id": "WYpexvMoOA_T"
      },
      "execution_count": null,
      "outputs": []
    },
    {
      "cell_type": "code",
      "source": [
        "test_preprocessed"
      ],
      "metadata": {
        "id": "-eFLo0xb5LjJ"
      },
      "execution_count": null,
      "outputs": []
    },
    {
      "cell_type": "code",
      "source": [
        "test_set = BERTDataset(new_test , 0, 1, tok, max_len, True, False)\n",
        "test_input = torch.utils.data.DataLoader(test_set, batch_size=1, num_workers=4)"
      ],
      "metadata": {
        "id": "i0Tue0j_7NXR"
      },
      "execution_count": null,
      "outputs": []
    },
    {
      "cell_type": "code",
      "source": [
        "predict_val = []\n",
        "predict_num_lst = []\n",
        "for batch_id, (token_ids, valid_length, segment_ids, label) in enumerate(tqdm_notebook(test_input)): \n",
        "  token_ids = token_ids.long().to(device) \n",
        "  segment_ids = segment_ids.long().to(device) \n",
        "  valid_length= valid_length \n",
        "  out = model(token_ids, valid_length, segment_ids)\n",
        "  prediction = out.cpu().detach().numpy().argmax()\n",
        "  predict_val.append(prediction)\n",
        "  predict_num_lst.append(out.cpu().detach().numpy())\n",
        "  if batch_id % 5000 == 0:\n",
        "     print(str(batch_id) + \"번째 문장의 분류 예측값은\" + str(prediction) + \"입니다.\")"
      ],
      "metadata": {
        "id": "0HLRlPNhGdav"
      },
      "execution_count": null,
      "outputs": []
    },
    {
      "cell_type": "markdown",
      "source": [
        "인코딩된 label 값 디코딩하기"
      ],
      "metadata": {
        "id": "FUFeb42Wu2Hn"
      }
    },
    {
      "cell_type": "code",
      "source": [
        "np.save(\"/content/MyDrive/MyDrive/test/classifier_fulllabel_nodup_ver2_e15.npy\",predict_num_lst)"
      ],
      "metadata": {
        "id": "srjPE5EQBLv7"
      },
      "execution_count": null,
      "outputs": []
    },
    {
      "cell_type": "code",
      "source": [
        ""
      ],
      "metadata": {
        "id": "t2xJVlozP5em"
      },
      "execution_count": null,
      "outputs": []
    },
    {
      "cell_type": "code",
      "source": [
        "le.get_params"
      ],
      "metadata": {
        "id": "EqMKfu4WBRRC"
      },
      "execution_count": null,
      "outputs": []
    },
    {
      "cell_type": "code",
      "source": [
        "le.inverse_transform(predict_val)"
      ],
      "metadata": {
        "id": "crv6NYzpQMZz"
      },
      "execution_count": null,
      "outputs": []
    },
    {
      "cell_type": "code",
      "source": [
        "predict_df = test_preprocessed.copy()\n",
        "predict_df[\"label\"] = le.inverse_transform(predict_val)\n",
        "predict_df.head()"
      ],
      "metadata": {
        "id": "CiTnTge8QPES"
      },
      "execution_count": null,
      "outputs": []
    },
    {
      "cell_type": "markdown",
      "source": [
        "저장 형식 맞춰주기"
      ],
      "metadata": {
        "id": "6GxsPKE2RVeo"
      }
    },
    {
      "cell_type": "code",
      "source": [
        "test_id = []\n",
        "for i in range(1,100001):\n",
        "    num = str(i).zfill(6)\n",
        "    test_id.append(\"id_\" + num)"
      ],
      "metadata": {
        "id": "eIgsi57XRVIi"
      },
      "execution_count": null,
      "outputs": []
    },
    {
      "cell_type": "markdown",
      "source": [
        "label 길이에 따라서 다르게 분할"
      ],
      "metadata": {
        "id": "f7050pV5WLDl"
      }
    },
    {
      "cell_type": "code",
      "source": [
        "# label 분할\n",
        "#predict_df[\"AI_id\"] = test_id\n",
        "predict_df[\"digit_1\"] = predict_df[\"label\"].apply(lambda x : x[0])\n",
        "predict_df[\"digit_2\"] = predict_df[\"label\"].apply(lambda x : x[1:3] if len(x) == 6 else x[1]) # 4글자, 6글자인 경우 다르게 출력\n",
        "predict_df[\"digit_3\"] = predict_df[\"label\"].apply(lambda x : x[3:] if len(x) == 6 else x[-2:]) # 4글자, 6글자인 경우 다르게 출력"
      ],
      "metadata": {
        "id": "Zp9c1BUkRVAO"
      },
      "execution_count": null,
      "outputs": []
    },
    {
      "cell_type": "code",
      "source": [
        "predict_df"
      ],
      "metadata": {
        "id": "rvxwmIahWg-w"
      },
      "execution_count": null,
      "outputs": []
    },
    {
      "cell_type": "code",
      "source": [
        "predict_df = predict_df[[\"AI_id\",\"digit_1\",\"digit_2\",\"digit_3\"]]\n",
        "predict_df.head()"
      ],
      "metadata": {
        "id": "JvP3VYI3Rl4Y"
      },
      "execution_count": null,
      "outputs": []
    },
    {
      "cell_type": "markdown",
      "source": [
        "예측된 결과물 저장"
      ],
      "metadata": {
        "id": "i89XYjjJu48Q"
      }
    },
    {
      "cell_type": "code",
      "source": [
        "predict_df.to_csv(\"/content/MyDrive/MyDrive/test/predict_0407.csv\",encoding=\"utf-8-sig\",index=False)"
      ],
      "metadata": {
        "id": "p58ffhuIX0kh"
      },
      "execution_count": null,
      "outputs": []
    },
    {
      "cell_type": "markdown",
      "source": [
        ""
      ],
      "metadata": {
        "id": "yqnaV1tLXhjv"
      }
    },
    {
      "cell_type": "code",
      "source": [
        "predict_df[predict_df[\"AI_id\"] == \"id_000054\"]"
      ],
      "metadata": {
        "id": "TJFci2f2YFvo"
      },
      "execution_count": null,
      "outputs": []
    },
    {
      "cell_type": "code",
      "source": [
        "predict1 = pd.read_csv(\"/content/MyDrive/MyDrive/test/predict.csv\",encoding=\"utf-8-sig\")\n",
        "predict2 = test_preprocessed.copy()\n",
        "predict2[\"label\"] = le.inverse_transform(predict_val)\n",
        "predict2.head()"
      ],
      "metadata": {
        "id": "_u-WZNy_SZBw"
      },
      "execution_count": null,
      "outputs": []
    },
    {
      "cell_type": "markdown",
      "source": [
        "### predict 1 2 비교\n",
        "- label 169개\n",
        "- label 223개"
      ],
      "metadata": {
        "id": "JHoCPP_LS1JB"
      }
    },
    {
      "cell_type": "code",
      "source": [
        "predict_compare = predict1\n",
        "predict_compare.columns = ['text_obj', 'text_mthd', 'text_deal', 'document', 'label1']\n",
        "\n",
        "predict_compare[\"label2\"] = predict2[\"label\"]"
      ],
      "metadata": {
        "id": "C-9e4IGkSY7k"
      },
      "execution_count": null,
      "outputs": []
    },
    {
      "cell_type": "code",
      "source": [
        "predict_compare[predict_compare[\"label1\"] != predict_compare[\"label2\"]]"
      ],
      "metadata": {
        "id": "L6qleTjQSs8L"
      },
      "execution_count": null,
      "outputs": []
    },
    {
      "cell_type": "code",
      "source": [
        "predict_compare.to_csv(\"/content/MyDrive/MyDrive/test/predict_compare.csv\",encoding=\"utf-8-sig\",index=False)"
      ],
      "metadata": {
        "id": "SdlF6vZjTD3o"
      },
      "execution_count": null,
      "outputs": []
    },
    {
      "cell_type": "code",
      "source": [
        ""
      ],
      "metadata": {
        "id": "zsYPJRq9UvIn"
      },
      "execution_count": null,
      "outputs": []
    }
  ]
}