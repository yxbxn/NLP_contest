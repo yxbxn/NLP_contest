{
  "nbformat": 4,
  "nbformat_minor": 0,
  "metadata": {
    "colab": {
      "name": "deeplearning_model_ver0.1.ipynb",
      "provenance": []
    },
    "kernelspec": {
      "name": "python3",
      "display_name": "Python 3"
    },
    "language_info": {
      "name": "python"
    },
    "accelerator": "GPU"
  },
  "cells": [
    {
      "cell_type": "code",
      "source": [
        "from google.colab import drive\n",
        "drive.mount('/content/MyDrive')"
      ],
      "metadata": {
        "colab": {
          "base_uri": "https://localhost:8080/"
        },
        "id": "-z-cxDo78sr3",
        "outputId": "1c2d43f4-7d26-4db0-a7b5-567d120c379c"
      },
      "execution_count": null,
      "outputs": [
        {
          "output_type": "stream",
          "name": "stdout",
          "text": [
            "Mounted at /content/MyDrive\n"
          ]
        }
      ]
    },
    {
      "cell_type": "markdown",
      "source": [
        "\n",
        "\n",
        "\n",
        "# 학습된 Fasttext 적용 해서 X_train, y_train, X_test 만들기\n",
        "\n",
        "\n"
      ],
      "metadata": {
        "id": "hB3WVbBij78h"
      }
    },
    {
      "cell_type": "code",
      "source": [
        "import pandas as pd\n",
        "train_preprocessed = pd.read_csv(\"/content/MyDrive/MyDrive/통계청/train_preprocesed.csv\")\n",
        "test_preprocessed = pd.read_csv(\"/content/MyDrive/MyDrive/통계청/test_preprocessed.csv\")"
      ],
      "metadata": {
        "id": "jIcRoS3r8yAb"
      },
      "execution_count": null,
      "outputs": []
    },
    {
      "cell_type": "code",
      "source": [
        "!pip install jamo"
      ],
      "metadata": {
        "colab": {
          "base_uri": "https://localhost:8080/"
        },
        "id": "1UlDCRL19Dev",
        "outputId": "06cae0b7-53ad-4d2e-8e1f-cb7980b7e080"
      },
      "execution_count": null,
      "outputs": [
        {
          "output_type": "stream",
          "name": "stdout",
          "text": [
            "Collecting jamo\n",
            "  Downloading jamo-0.4.1-py3-none-any.whl (9.5 kB)\n",
            "Installing collected packages: jamo\n",
            "Successfully installed jamo-0.4.1\n"
          ]
        }
      ]
    },
    {
      "cell_type": "code",
      "source": [
        "from jamo import h2j, j2hcj\n",
        "#자모단위 자르는 함수\n",
        "def word2jamo(sen):\n",
        "    return j2hcj(h2j(sen))\n",
        "train_preprocessed['jamo'] = train_preprocessed['document'].apply(word2jamo)\n",
        "test_preprocessed['jamo'] = test_preprocessed['document'].apply(word2jamo)"
      ],
      "metadata": {
        "id": "aJZzUAzM8yCP"
      },
      "execution_count": null,
      "outputs": []
    },
    {
      "cell_type": "code",
      "source": [
        "!pip install fasttext"
      ],
      "metadata": {
        "colab": {
          "base_uri": "https://localhost:8080/"
        },
        "id": "o-HXgIWr_6wd",
        "outputId": "cd6622dc-0236-4898-f2fb-cbf3caacbb6b"
      },
      "execution_count": null,
      "outputs": [
        {
          "output_type": "stream",
          "name": "stdout",
          "text": [
            "Collecting fasttext\n",
            "  Downloading fasttext-0.9.2.tar.gz (68 kB)\n",
            "\u001b[?25l\r\u001b[K     |████▊                           | 10 kB 23.0 MB/s eta 0:00:01\r\u001b[K     |█████████▌                      | 20 kB 9.5 MB/s eta 0:00:01\r\u001b[K     |██████████████▎                 | 30 kB 7.7 MB/s eta 0:00:01\r\u001b[K     |███████████████████             | 40 kB 7.4 MB/s eta 0:00:01\r\u001b[K     |███████████████████████▉        | 51 kB 3.6 MB/s eta 0:00:01\r\u001b[K     |████████████████████████████▋   | 61 kB 4.3 MB/s eta 0:00:01\r\u001b[K     |████████████████████████████████| 68 kB 3.1 MB/s \n",
            "\u001b[?25hCollecting pybind11>=2.2\n",
            "  Using cached pybind11-2.9.1-py2.py3-none-any.whl (211 kB)\n",
            "Requirement already satisfied: setuptools>=0.7.0 in /usr/local/lib/python3.7/dist-packages (from fasttext) (57.4.0)\n",
            "Requirement already satisfied: numpy in /usr/local/lib/python3.7/dist-packages (from fasttext) (1.21.5)\n",
            "Building wheels for collected packages: fasttext\n",
            "  Building wheel for fasttext (setup.py) ... \u001b[?25l\u001b[?25hdone\n",
            "  Created wheel for fasttext: filename=fasttext-0.9.2-cp37-cp37m-linux_x86_64.whl size=3132201 sha256=f10cc4c64d74072c6dbdbc47f2c2056522a1ac3c9dc71db8434fb450225d2208\n",
            "  Stored in directory: /root/.cache/pip/wheels/4e/ca/bf/b020d2be95f7641801a6597a29c8f4f19e38f9c02a345bab9b\n",
            "Successfully built fasttext\n",
            "Installing collected packages: pybind11, fasttext\n",
            "Successfully installed fasttext-0.9.2 pybind11-2.9.1\n"
          ]
        }
      ]
    },
    {
      "cell_type": "code",
      "source": [
        "import fasttext"
      ],
      "metadata": {
        "id": "rA-1iBqx-EWz"
      },
      "execution_count": null,
      "outputs": []
    },
    {
      "cell_type": "code",
      "source": [
        ""
      ],
      "metadata": {
        "id": "W5-HnCWE88pi"
      },
      "execution_count": null,
      "outputs": []
    },
    {
      "cell_type": "markdown",
      "source": [
        "fasttext_embedding_학습_ver0.1에서 학습한 fasttext 임베딩 모델 불러오기"
      ],
      "metadata": {
        "id": "osWHP-_F886G"
      }
    },
    {
      "cell_type": "code",
      "source": [
        "model = fasttext.load_model('/content/MyDrive/MyDrive/통계청/embeddingmodels/fasttext_ver0.1.bin')"
      ],
      "metadata": {
        "colab": {
          "base_uri": "https://localhost:8080/"
        },
        "id": "qJIsm2429Khp",
        "outputId": "c6dc65cd-6586-4db2-ff6f-3004b53f75fc"
      },
      "execution_count": null,
      "outputs": [
        {
          "output_type": "stream",
          "name": "stderr",
          "text": [
            "Warning : `load_model` does not return WordVectorModel or SupervisedModel any more, but a `FastText` object which is very similar.\n"
          ]
        }
      ]
    },
    {
      "cell_type": "code",
      "source": [
        "vec_list_train = []\n",
        "for i in train_preprocessed['jamo']:\n",
        "    vec = model.get_sentence_vector(i)\n",
        "    vec_list_train.append(vec)\n",
        "\n",
        "vec_list_test = []\n",
        "for i in test_preprocessed['jamo']:\n",
        "    vec = model.get_sentence_vector(i)\n",
        "    vec_list_test.append(vec)"
      ],
      "metadata": {
        "id": "YvD-VxaP9tDf"
      },
      "execution_count": null,
      "outputs": []
    },
    {
      "cell_type": "markdown",
      "source": [
        "label 개수가 230개미만인것 없애기"
      ],
      "metadata": {
        "id": "Jgzp9f8X9usn"
      }
    },
    {
      "cell_type": "code",
      "source": [
        "train_preprocessed['emb_vec'] = vec_list_train\n",
        "test_preprocessed['emb_vec'] = vec_list_test"
      ],
      "metadata": {
        "id": "XgtYSPpp8yD3"
      },
      "execution_count": null,
      "outputs": []
    },
    {
      "cell_type": "code",
      "source": [
        "countdf = train_preprocessed.groupby('label').count().sort_values(by='document')\n",
        "over230labels = countdf[countdf['document']>230].index.to_list()\n",
        "train_preprocessed = train_preprocessed[train_preprocessed['label'].isin(over230labels)]"
      ],
      "metadata": {
        "id": "Y1J8vEWg_DoW"
      },
      "execution_count": null,
      "outputs": []
    },
    {
      "cell_type": "code",
      "source": [
        ""
      ],
      "metadata": {
        "id": "jMTtA3qBDBMj"
      },
      "execution_count": null,
      "outputs": []
    },
    {
      "cell_type": "markdown",
      "source": [
        "train_processed 에서 임베딩벡터와 label을 각각 X_train,y_train 로 뽑아내서 저장, test_preprecessed의 임베딩벡터를 X_test로 저장"
      ],
      "metadata": {
        "id": "Q8pFoFIO90GV"
      }
    },
    {
      "cell_type": "code",
      "source": [
        "X_train = np.array(train_preprocessed['emb_vec'].to_list())\n",
        "y_train = np.array(train_preprocessed['label'].to_list())\n",
        "X_test = np.array(test_preprocessed['emb_vec'].to_list())\n"
      ],
      "metadata": {
        "id": "7OaRGxsF-gho"
      },
      "execution_count": null,
      "outputs": []
    },
    {
      "cell_type": "code",
      "source": [
        "X_train.shape"
      ],
      "metadata": {
        "id": "U-vT7N9WE1Rp",
        "colab": {
          "base_uri": "https://localhost:8080/"
        },
        "outputId": "ca1fa439-c0d7-455b-ca4b-3c477de36099"
      },
      "execution_count": null,
      "outputs": [
        {
          "output_type": "execute_result",
          "data": {
            "text/plain": [
              "(995442, 100)"
            ]
          },
          "metadata": {},
          "execution_count": 24
        }
      ]
    },
    {
      "cell_type": "code",
      "source": [
        "np.save('/content/MyDrive/MyDrive/통계청/embedded_numpy/X_train_ver0.2.npy', X_train)"
      ],
      "metadata": {
        "id": "WnQUfVJvBGuj"
      },
      "execution_count": null,
      "outputs": []
    },
    {
      "cell_type": "code",
      "source": [
        "np.save('/content/MyDrive/MyDrive/통계청/embedded_numpy/X_test_ver0.2.npy', X_test)"
      ],
      "metadata": {
        "id": "ZiFgKaeCBJGM"
      },
      "execution_count": null,
      "outputs": []
    },
    {
      "cell_type": "code",
      "source": [
        "np.save('/content/MyDrive/MyDrive/통계청/embedded_numpy/y_train_ver0.2.npy', y_train)"
      ],
      "metadata": {
        "id": "7zaVg68TBJIQ"
      },
      "execution_count": null,
      "outputs": []
    },
    {
      "cell_type": "markdown",
      "source": [
        "# 딥러닝 모델 구축 시작"
      ],
      "metadata": {
        "id": "pUZUHPvHksAI"
      }
    },
    {
      "cell_type": "code",
      "source": [
        "import numpy as np\n",
        "X_train = np.load('/content/MyDrive/MyDrive/통계청/embedded_numpy/X_train_ver0.2.npy',allow_pickle=True)\n",
        "y_train = np.load('/content/MyDrive/MyDrive/통계청/embedded_numpy/y_train_ver0.2.npy',allow_pickle=True)"
      ],
      "metadata": {
        "id": "iCrbY1aQBJL-"
      },
      "execution_count": null,
      "outputs": []
    },
    {
      "cell_type": "code",
      "source": [
        "X_train"
      ],
      "metadata": {
        "id": "bYaEGUki1SI9",
        "colab": {
          "base_uri": "https://localhost:8080/"
        },
        "outputId": "c8444544-d5be-4a5c-f5df-9edea0a5c4e1"
      },
      "execution_count": null,
      "outputs": [
        {
          "output_type": "execute_result",
          "data": {
            "text/plain": [
              "array([[ 0.06743513,  0.02341077, -0.07920723, ...,  0.15397546,\n",
              "        -0.00648655, -0.10477634],\n",
              "       [ 0.04290798,  0.09327256, -0.06156277, ...,  0.09845879,\n",
              "         0.03878662, -0.03403267],\n",
              "       [ 0.0573958 ,  0.0902684 , -0.01492267, ...,  0.02671049,\n",
              "         0.07588854,  0.01236362],\n",
              "       ...,\n",
              "       [ 0.08015418,  0.05722065, -0.02062835, ...,  0.06784131,\n",
              "         0.03634049,  0.00606036],\n",
              "       [ 0.02017494, -0.01451707, -0.0489815 , ...,  0.05661954,\n",
              "        -0.01008923,  0.00932857],\n",
              "       [ 0.06786437,  0.03006427,  0.02305304, ...,  0.11821701,\n",
              "        -0.02131855,  0.0513864 ]], dtype=float32)"
            ]
          },
          "metadata": {},
          "execution_count": 29
        }
      ]
    },
    {
      "cell_type": "code",
      "source": [
        "y_train"
      ],
      "metadata": {
        "colab": {
          "base_uri": "https://localhost:8080/"
        },
        "id": "ot3sE0sJ_Cxz",
        "outputId": "d7313acd-9786-496f-8fbb-15530a1f21a8"
      },
      "execution_count": null,
      "outputs": [
        {
          "output_type": "execute_result",
          "data": {
            "text/plain": [
              "array(['S95952', 'G47472', 'G46467', ..., 'G47474', 'P85856', 'I56561'],\n",
              "      dtype='<U6')"
            ]
          },
          "metadata": {},
          "execution_count": 30
        }
      ]
    },
    {
      "cell_type": "markdown",
      "source": [
        ""
      ],
      "metadata": {
        "id": "Jn_nSEIfaoiz"
      }
    },
    {
      "cell_type": "code",
      "source": [
        "import tensorflow as tf\n",
        "import pandas as pd\n",
        "\n",
        "import matplotlib.pyplot as plt\n",
        "\n",
        "from tensorflow.keras.layers import Dense,BatchNormalization,Dropout\n",
        "from tensorflow.keras.optimizers import Adam\n",
        "from keras.callbacks import EarlyStopping\n"
      ],
      "metadata": {
        "id": "YTdGQoOy8ZsT"
      },
      "execution_count": null,
      "outputs": []
    },
    {
      "cell_type": "markdown",
      "source": [
        ""
      ],
      "metadata": {
        "id": "9TcxTdak8ZS-"
      }
    },
    {
      "cell_type": "code",
      "source": [
        "y_train"
      ],
      "metadata": {
        "colab": {
          "base_uri": "https://localhost:8080/"
        },
        "id": "iOtD3sPOqEo5",
        "outputId": "fbce0606-ec96-4f69-b95e-9f1256d42f73"
      },
      "execution_count": null,
      "outputs": [
        {
          "output_type": "execute_result",
          "data": {
            "text/plain": [
              "array(['S95952', 'G47472', 'G46467', ..., 'G47474', 'P85856', 'I56561'],\n",
              "      dtype='<U6')"
            ]
          },
          "metadata": {},
          "execution_count": 32
        }
      ]
    },
    {
      "cell_type": "markdown",
      "source": [
        "X_train과 y_train을 trainset,validation set으로 분할"
      ],
      "metadata": {
        "id": "i1LXCqDO-b-S"
      }
    },
    {
      "cell_type": "code",
      "source": [
        "from sklearn.model_selection import train_test_split\n",
        "from sklearn.preprocessing import LabelEncoder\n",
        "encoder=LabelEncoder()\n",
        "encoder.fit(y_train)\n",
        "y_train_digit = encoder.transform(y_train)\n",
        "x_train, x_val, y_train, y_val = train_test_split(X_train,y_train_digit, \n",
        "                                                    test_size=0.2,  \n",
        "                                                    random_state=1004)\n",
        "\n"
      ],
      "metadata": {
        "id": "tm1ampEano0A"
      },
      "execution_count": null,
      "outputs": []
    },
    {
      "cell_type": "code",
      "source": [
        "len(set(y_train))"
      ],
      "metadata": {
        "colab": {
          "base_uri": "https://localhost:8080/"
        },
        "id": "H8p6AHYXqqTR",
        "outputId": "f246ac77-f490-404f-b523-8e9445a747b8"
      },
      "execution_count": null,
      "outputs": [
        {
          "output_type": "execute_result",
          "data": {
            "text/plain": [
              "168"
            ]
          },
          "metadata": {},
          "execution_count": 70
        }
      ]
    },
    {
      "cell_type": "code",
      "source": [
        "y_train.shape"
      ],
      "metadata": {
        "colab": {
          "base_uri": "https://localhost:8080/"
        },
        "id": "4EuBgXlnqthx",
        "outputId": "9b1e1919-dc40-4df4-b2fb-f2bc203bb00a"
      },
      "execution_count": null,
      "outputs": [
        {
          "output_type": "execute_result",
          "data": {
            "text/plain": [
              "(796353,)"
            ]
          },
          "metadata": {},
          "execution_count": 35
        }
      ]
    },
    {
      "cell_type": "code",
      "source": [
        "from keras.models import Sequential\n",
        "from keras.layers import Dense, Activation\n",
        "\n",
        "\n",
        "model1 = Sequential(name = 'model1')\n",
        "model1.add(Dense(100, activation='relu', input_dim=(100)))\n",
        "model1.add(Dense(1024, activation='relu'))\n",
        "model1.add(Dropout(0.2))\n",
        "model1.add(Dense(1024, activation='relu'))\n",
        "model1.add(Dropout(0.2))\n",
        "model1.add(Dense(168, activation='softmax'))\n",
        "model1.summary()\n"
      ],
      "metadata": {
        "colab": {
          "base_uri": "https://localhost:8080/"
        },
        "id": "81H8D0JQ_MHA",
        "outputId": "9b25843b-faa3-4527-c212-03974a49eaca"
      },
      "execution_count": null,
      "outputs": [
        {
          "output_type": "stream",
          "name": "stdout",
          "text": [
            "Model: \"model1\"\n",
            "_________________________________________________________________\n",
            " Layer (type)                Output Shape              Param #   \n",
            "=================================================================\n",
            " dense_24 (Dense)            (None, 100)               10100     \n",
            "                                                                 \n",
            " dense_25 (Dense)            (None, 1024)              103424    \n",
            "                                                                 \n",
            " dropout_12 (Dropout)        (None, 1024)              0         \n",
            "                                                                 \n",
            " dense_26 (Dense)            (None, 1024)              1049600   \n",
            "                                                                 \n",
            " dropout_13 (Dropout)        (None, 1024)              0         \n",
            "                                                                 \n",
            " dense_27 (Dense)            (None, 168)               172200    \n",
            "                                                                 \n",
            "=================================================================\n",
            "Total params: 1,335,324\n",
            "Trainable params: 1,335,324\n",
            "Non-trainable params: 0\n",
            "_________________________________________________________________\n"
          ]
        }
      ]
    },
    {
      "cell_type": "code",
      "source": [
        "model1.compile(optimizer='adam',\n",
        "              loss='sparse_categorical_crossentropy',\n",
        "              metrics=['accuracy'])"
      ],
      "metadata": {
        "id": "4XTDZte6o5Jh"
      },
      "execution_count": null,
      "outputs": []
    },
    {
      "cell_type": "code",
      "source": [
        "import keras"
      ],
      "metadata": {
        "id": "o1x2XrlasJOP"
      },
      "execution_count": null,
      "outputs": []
    },
    {
      "cell_type": "code",
      "source": [
        "early_stop = keras.callbacks.EarlyStopping(monitor='val_loss', patience=2,restore_best_weights=True)\n",
        "history = model1.fit(x_train,y_train,\n",
        "                    epochs=100,\n",
        "                    batch_size=100,\n",
        "                    validation_data=(x_val,y_val),\n",
        "                    callbacks=early_stop)"
      ],
      "metadata": {
        "colab": {
          "base_uri": "https://localhost:8080/"
        },
        "id": "5_NCPohQ-JkG",
        "outputId": "ee9fb732-7e92-4f9e-f560-9f9d3f6abd28"
      },
      "execution_count": null,
      "outputs": [
        {
          "output_type": "stream",
          "name": "stdout",
          "text": [
            "Epoch 1/100\n",
            "7964/7964 [==============================] - 32s 4ms/step - loss: 0.3003 - accuracy: 0.9129 - val_loss: 0.3342 - val_accuracy: 0.9084\n",
            "Epoch 2/100\n",
            "7964/7964 [==============================] - 28s 4ms/step - loss: 0.2963 - accuracy: 0.9138 - val_loss: 0.3352 - val_accuracy: 0.9081\n",
            "Epoch 3/100\n",
            "7964/7964 [==============================] - 28s 3ms/step - loss: 0.2931 - accuracy: 0.9146 - val_loss: 0.3370 - val_accuracy: 0.9091\n"
          ]
        }
      ]
    },
    {
      "cell_type": "code",
      "source": [
        "model1.save('/content/MyDrive/MyDrive/통계청/deeplearningmodel/model_ver0.1.h5')"
      ],
      "metadata": {
        "id": "jR5rr2b_A-Si"
      },
      "execution_count": null,
      "outputs": []
    },
    {
      "cell_type": "code",
      "source": [
        "y_test_encoded = model1.predict(X_test)"
      ],
      "metadata": {
        "id": "1gQ4OcTrCbNN"
      },
      "execution_count": null,
      "outputs": []
    },
    {
      "cell_type": "code",
      "source": [
        "answer = encoder.inverse_transform(y_test_encoded.argmax(axis=1))"
      ],
      "metadata": {
        "id": "zaUyABXOHqEV"
      },
      "execution_count": 99,
      "outputs": []
    },
    {
      "cell_type": "code",
      "source": [
        ""
      ],
      "metadata": {
        "id": "7osQYRtbI17k"
      },
      "execution_count": null,
      "outputs": []
    },
    {
      "cell_type": "code",
      "source": [
        "ansdf = pd.DataFrame(columns = ['label','digit_1','digit_2','digit_3'])\n",
        "ansdf['label'] = answer\n",
        "ansdf['digit_1'] = ansdf['label'].str[:1]\n",
        "ansdf['digit_2'] = ansdf['label'].str[1:3]\n",
        "ansdf['digit_3'] = ansdf['label'].str[3:]\n",
        "ansdf[['digit_1','digit_2','digit_3']].to_csv('/content/MyDrive/MyDrive/통계청/deeplearning_model_Ver0.1.csv',encoding='utf-8')"
      ],
      "metadata": {
        "id": "4SfnbkeAH4Wz"
      },
      "execution_count": 100,
      "outputs": []
    },
    {
      "cell_type": "code",
      "source": [
        ""
      ],
      "metadata": {
        "id": "epdEEqyrCbTJ"
      },
      "execution_count": null,
      "outputs": []
    },
    {
      "cell_type": "code",
      "source": [
        ""
      ],
      "metadata": {
        "id": "xsBwjovVtYhX"
      },
      "execution_count": null,
      "outputs": []
    },
    {
      "cell_type": "code",
      "source": [
        ""
      ],
      "metadata": {
        "id": "IP1Ia26t8sqM"
      },
      "execution_count": null,
      "outputs": []
    }
  ]
}