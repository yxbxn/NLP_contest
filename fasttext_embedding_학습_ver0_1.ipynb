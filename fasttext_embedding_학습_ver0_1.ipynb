{
  "nbformat": 4,
  "nbformat_minor": 0,
  "metadata": {
    "colab": {
      "name": "fasttext_embedding_학습_ver0.1.ipynb",
      "provenance": []
    },
    "kernelspec": {
      "name": "python3",
      "display_name": "Python 3"
    },
    "language_info": {
      "name": "python"
    }
  },
  "cells": [
    {
      "cell_type": "code",
      "execution_count": 1,
      "metadata": {
        "colab": {
          "base_uri": "https://localhost:8080/"
        },
        "id": "O0_wFjczXAg_",
        "outputId": "498f403e-76ca-4e9b-b06e-38d935713e47"
      },
      "outputs": [
        {
          "output_type": "stream",
          "name": "stdout",
          "text": [
            "Mounted at /content/MyDrive\n"
          ]
        }
      ],
      "source": [
        "from google.colab import drive\n",
        "drive.mount('/content/MyDrive')\n"
      ]
    },
    {
      "cell_type": "code",
      "source": [
        "import pandas as pd\n",
        "train_preprocessed = pd.read_csv(\"/content/MyDrive/MyDrive/통계청/train_preprocesed.csv\")\n",
        "test_preprocessed = pd.read_csv(\"/content/MyDrive/MyDrive/통계청/test_preprocessed.csv\")"
      ],
      "metadata": {
        "id": "jCnQ7zo-XRxB"
      },
      "execution_count": null,
      "outputs": []
    },
    {
      "cell_type": "code",
      "source": [
        "from jamo import h2j, j2hcj\n",
        "sample_text = \"가나다한글\"\n",
        "j2hcj(h2j(sample_text))\n",
        "# 'ㄱㅏㄴㅏㄷㅏㅎㅏㄴㄱㅡㄹ'"
      ],
      "metadata": {
        "colab": {
          "base_uri": "https://localhost:8080/",
          "height": 36
        },
        "id": "2LGIe88geArW",
        "outputId": "6374a34d-7219-4bab-b724-46d649662c49"
      },
      "execution_count": null,
      "outputs": [
        {
          "output_type": "execute_result",
          "data": {
            "text/plain": [
              "'ㄱㅏㄴㅏㄷㅏㅎㅏㄴㄱㅡㄹ'"
            ],
            "application/vnd.google.colaboratory.intrinsic+json": {
              "type": "string"
            }
          },
          "metadata": {},
          "execution_count": 3
        }
      ]
    },
    {
      "cell_type": "code",
      "source": [
        ""
      ],
      "metadata": {
        "id": "ZyKYD36u8qIO"
      },
      "execution_count": null,
      "outputs": []
    },
    {
      "cell_type": "markdown",
      "source": [
        "## 자모로 자르기"
      ],
      "metadata": {
        "id": "qeWnjx_C8reW"
      }
    },
    {
      "cell_type": "code",
      "source": [
        "import fasttext"
      ],
      "metadata": {
        "id": "TtuxuRpTeoFM"
      },
      "execution_count": null,
      "outputs": []
    },
    {
      "cell_type": "code",
      "source": [
        "def word2jamo(sen):\n",
        "    return j2hcj(h2j(sen))"
      ],
      "metadata": {
        "id": "12MkS42ceDXM"
      },
      "execution_count": null,
      "outputs": []
    },
    {
      "cell_type": "code",
      "source": [
        "train_preprocessed['jamo'] = train_preprocessed['document'].apply(word2jamo)"
      ],
      "metadata": {
        "id": "L1jhB2f1eE1U"
      },
      "execution_count": null,
      "outputs": []
    },
    {
      "cell_type": "code",
      "source": [
        "train_preprocessed['jamo'].to_csv('/content/MyDrive/MyDrive/통계청/fasttext_embedding_ver0.1_corpus.txt', sep = '\\t', index = False)"
      ],
      "metadata": {
        "id": "oTcLsFC0e7uh"
      },
      "execution_count": null,
      "outputs": []
    },
    {
      "cell_type": "code",
      "source": [
        ""
      ],
      "metadata": {
        "id": "xowB9aUE8GXs"
      },
      "execution_count": null,
      "outputs": []
    },
    {
      "cell_type": "markdown",
      "source": [
        "## fasttext로 jamo에 대해 임베딩 진행"
      ],
      "metadata": {
        "id": "R8TpGses8diz"
      }
    },
    {
      "cell_type": "code",
      "source": [
        "model = fasttext.train_unsupervised(\"/content/MyDrive/MyDrive/통계청/fasttext_embedding_ver0.1_corpus.txt\", wordNgrams=3,model='skipgram', epoch=50, lr=0.05,verbose=0)"
      ],
      "metadata": {
        "id": "jY6NoWOwXTlI"
      },
      "execution_count": null,
      "outputs": []
    },
    {
      "cell_type": "code",
      "source": [
        "model.save_model(\"/content/MyDrive/MyDrive/통계청/embeddingmodels/fasttext_ver0.1.bin\")"
      ],
      "metadata": {
        "id": "FHZwBUN0ieQC"
      },
      "execution_count": null,
      "outputs": []
    },
    {
      "cell_type": "code",
      "source": [
        "model = fasttext.load_model('/content/MyDrive/MyDrive/통계청/embeddingmodels/fasttext_ver0.1.bin')"
      ],
      "metadata": {
        "colab": {
          "base_uri": "https://localhost:8080/"
        },
        "id": "Tr639YLY4NZ8",
        "outputId": "304441df-77c6-4665-e5ca-d62acbe1c90a"
      },
      "execution_count": null,
      "outputs": [
        {
          "output_type": "stream",
          "name": "stderr",
          "text": [
            "Warning : `load_model` does not return WordVectorModel or SupervisedModel any more, but a `FastText` object which is very similar.\n"
          ]
        }
      ]
    }
  ]
}