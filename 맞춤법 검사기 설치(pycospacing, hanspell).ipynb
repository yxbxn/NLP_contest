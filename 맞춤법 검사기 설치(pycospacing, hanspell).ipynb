{
 "cells": [
  {
   "cell_type": "markdown",
   "id": "70509a4a",
   "metadata": {},
   "source": [
    "### 맞춤법 검사기 설치\n",
    "- pycospacing\n",
    "- hanspell"
   ]
  },
  {
   "cell_type": "markdown",
   "id": "0a9d17c4",
   "metadata": {},
   "source": [
    "pycospacing"
   ]
  },
  {
   "cell_type": "code",
   "execution_count": null,
   "id": "07c2ee14",
   "metadata": {},
   "outputs": [],
   "source": [
    "pip install --user git+https://github.com/haven-jeon/PyKoSpacing.git"
   ]
  },
  {
   "cell_type": "markdown",
   "id": "37e47cc1",
   "metadata": {},
   "source": [
    "실습용_모델개발용자료에 대한 맞춤법 검사 시작"
   ]
  },
  {
   "cell_type": "code",
   "execution_count": null,
   "id": "20dbbcc7",
   "metadata": {},
   "outputs": [],
   "source": [
    "from pykospacing import Spacing\n",
    "import pandas as pd\n",
    "spacing = Spacing()\n",
    "set_df_clean = pd.read_csv(\"실습용_모델개발용자료.csv\")"
   ]
  },
  {
   "cell_type": "code",
   "execution_count": null,
   "id": "4d5ebf00",
   "metadata": {},
   "outputs": [],
   "source": [
    "from tqdm import tqdm\n",
    "tqdm.pandas()\n",
    "set_df_clean[\"text_sum\"] = set_df_clean[\"text_sum\"].progress_apply(lambda x : spacing(x))"
   ]
  },
  {
   "cell_type": "markdown",
   "id": "981bc775",
   "metadata": {},
   "source": [
    "hanspell"
   ]
  },
  {
   "cell_type": "code",
   "execution_count": null,
   "id": "e25a7522",
   "metadata": {},
   "outputs": [],
   "source": [
    "pip install --user git+https://github.com/ssut/py-hanspell.git"
   ]
  },
  {
   "cell_type": "code",
   "execution_count": null,
   "id": "ff66204f",
   "metadata": {},
   "outputs": [],
   "source": [
    "from tqdm import tqdm\n",
    "from hanspell import spell_checker\n",
    "from hanspell.constants import CheckResult\n",
    "tqdm.pandas()\n",
    "set_df_clean[\"text_sum\"] = set_df_clean[\"text_sum\"].progress_apply(lambda x : spell_checker.check(x).checked)"
   ]
  },
  {
   "cell_type": "code",
   "execution_count": null,
   "id": "7e87c6e4",
   "metadata": {},
   "outputs": [],
   "source": []
  },
  {
   "cell_type": "code",
   "execution_count": null,
   "id": "0158bb54",
   "metadata": {},
   "outputs": [],
   "source": []
  }
 ],
 "metadata": {
  "kernelspec": {
   "display_name": "Python 3",
   "language": "python",
   "name": "python3"
  },
  "language_info": {
   "codemirror_mode": {
    "name": "ipython",
    "version": 3
   },
   "file_extension": ".py",
   "mimetype": "text/x-python",
   "name": "python",
   "nbconvert_exporter": "python",
   "pygments_lexer": "ipython3",
   "version": "3.8.8"
  }
 },
 "nbformat": 4,
 "nbformat_minor": 5
}
