{
  "nbformat": 4,
  "nbformat_minor": 0,
  "metadata": {
    "colab": {
      "name": "KoBERT.ipynb",
      "private_outputs": true,
      "provenance": [],
      "collapsed_sections": [],
      "authorship_tag": "ABX9TyMO7rHuMQJtsinaHcdV83He",
      "include_colab_link": true
    },
    "kernelspec": {
      "name": "python3",
      "display_name": "Python 3"
    },
    "language_info": {
      "name": "python"
    }
  },
  "cells": [
    {
      "cell_type": "markdown",
      "metadata": {
        "id": "view-in-github",
        "colab_type": "text"
      },
      "source": [
        "<a href=\"https://colab.research.google.com/github/yxbxn/NLP_contest/blob/main/KoBERT.ipynb\" target=\"_parent\"><img src=\"https://colab.research.google.com/assets/colab-badge.svg\" alt=\"Open In Colab\"/></a>"
      ]
    },
    {
      "cell_type": "code",
      "execution_count": null,
      "metadata": {
        "id": "zsv7j-rr8yA1"
      },
      "outputs": [],
      "source": [
        "!pip install mxnet\n",
        "!pip install gluonnlp pandas tqdm\n",
        "!pip install sentencepiece\n",
        "!pip install transformers==3.0.2\n",
        "!pip install torch"
      ]
    },
    {
      "cell_type": "code",
      "source": [
        "#깃허브에서 KoBERT 파일 로드\n",
        "!pip install git+https://git@github.com/SKTBrain/KoBERT.git@master"
      ],
      "metadata": {
        "id": "jjNeAl-V_5C6"
      },
      "execution_count": null,
      "outputs": []
    },
    {
      "cell_type": "code",
      "source": [
        "import torch\n",
        "from torch import nn\n",
        "import torch.nn.functional as F\n",
        "import torch.optim as optim\n",
        "from torch.utils.data import Dataset, DataLoader\n",
        "import gluonnlp as nlp\n",
        "import numpy as np\n",
        "from tqdm import tqdm, tqdm_notebook"
      ],
      "metadata": {
        "id": "IzmR6U-MBXML"
      },
      "execution_count": null,
      "outputs": []
    },
    {
      "cell_type": "code",
      "source": [
        "#kobert\n",
        "from kobert.utils import get_tokenizer\n",
        "from kobert.pytorch_kobert import get_pytorch_kobert_model\n",
        "\n",
        "#transformers\n",
        "from transformers import AdamW\n",
        "from transformers.optimization import get_cosine_schedule_with_warmup"
      ],
      "metadata": {
        "id": "aXAckokWBXIf"
      },
      "execution_count": null,
      "outputs": []
    },
    {
      "cell_type": "code",
      "source": [
        "#GPU 사용\n",
        "device = torch.device(\"cuda:0\")"
      ],
      "metadata": {
        "id": "q6kvIa24BXF2"
      },
      "execution_count": null,
      "outputs": []
    },
    {
      "cell_type": "code",
      "source": [
        "#BERT 모델, Vocabulary 불러오기\n",
        "bertmodel, vocab = get_pytorch_kobert_model()"
      ],
      "metadata": {
        "id": "H6H77sZCBXDC"
      },
      "execution_count": null,
      "outputs": []
    },
    {
      "cell_type": "code",
      "source": [
        "# 구글드라이브 연동\n",
        "from google.colab import drive\n",
        "drive.mount('/content/MyDrive')"
      ],
      "metadata": {
        "id": "X09ehhqCBW6s"
      },
      "execution_count": null,
      "outputs": []
    },
    {
      "cell_type": "code",
      "source": [
        "# 특정 파일 불러오기\n",
        "import pandas as pd\n",
        "train_preprocessed = pd.read_csv(\"/content/MyDrive/MyDrive/test/train_preprocessed.csv\")\n",
        "test_preprocessed = pd.read_csv(\"/content/MyDrive/MyDrive/test/test_preprocessed.csv\")"
      ],
      "metadata": {
        "id": "wKg1kvzxBVfr"
      },
      "execution_count": null,
      "outputs": []
    },
    {
      "cell_type": "markdown",
      "source": [
        "tsv로 변환\n",
        "- NaN 채우기\n",
        "- tst 파일로 변환"
      ],
      "metadata": {
        "id": "3fKGoG5kMVpB"
      }
    },
    {
      "cell_type": "code",
      "source": [
        "# Dataset 변환 위해 test label NaN 채우기\n",
        "test_preprocessed[\"label\"] = 0"
      ],
      "metadata": {
        "id": "Pa5Nh9OoPtYW"
      },
      "execution_count": null,
      "outputs": []
    },
    {
      "cell_type": "code",
      "source": [
        "test_preprocessed.to_csv(\"/content/MyDrive/MyDrive/test/test_preprocessed.tsv\",encoding=\"utf-8-sig\",index=False,sep=\"\\t\")\n",
        "train_preprocessed.to_csv(\"/content/MyDrive/MyDrive/test/train_preprocessed.tsv\",encoding=\"utf-8-sig\",index=False,sep=\"\\t\")"
      ],
      "metadata": {
        "id": "7k-zusUHMURD"
      },
      "execution_count": null,
      "outputs": []
    },
    {
      "cell_type": "markdown",
      "source": [
        "label 너무 적은 것들 제외하기\n",
        "- 20미만 제외\n",
        "- except_label : 해당 label들은 제외하기 개수가 20개 미만"
      ],
      "metadata": {
        "id": "X4qb7NxtH4hd"
      }
    },
    {
      "cell_type": "code",
      "source": [
        "train_preprocessed[\"label\"].value_counts().describe()"
      ],
      "metadata": {
        "id": "SPwH-FKkJx9O"
      },
      "execution_count": null,
      "outputs": []
    },
    {
      "cell_type": "code",
      "source": [
        "except_label = train_preprocessed[\"label\"].value_counts()[train_preprocessed[\"label\"].value_counts() < 230].index\n",
        "except_label"
      ],
      "metadata": {
        "id": "NQPBkpB2H4Nc"
      },
      "execution_count": null,
      "outputs": []
    },
    {
      "cell_type": "markdown",
      "source": [
        "230개 미만인 label 제거"
      ],
      "metadata": {
        "id": "rhynBELoKWMF"
      }
    },
    {
      "cell_type": "code",
      "source": [
        "mask = train_preprocessed['label'].isin(except_label)\n",
        "train_preprocessed = train_preprocessed[~mask].reset_index(drop=True)\n",
        "train_preprocessed"
      ],
      "metadata": {
        "id": "zC5BCe7wJJyk"
      },
      "execution_count": null,
      "outputs": []
    },
    {
      "cell_type": "markdown",
      "source": [
        "KoBERT 모델의 입력형식에 맞게 데이터 형식 변환하기\n",
        "- label을 인코딩하기"
      ],
      "metadata": {
        "id": "Wa01IBwdFRb4"
      }
    },
    {
      "cell_type": "code",
      "source": [
        "train_preprocessed.head(3)"
      ],
      "metadata": {
        "id": "DfbVYsNBFO0Z"
      },
      "execution_count": null,
      "outputs": []
    },
    {
      "cell_type": "code",
      "source": [
        "from sklearn.preprocessing import LabelEncoder\n",
        "le = LabelEncoder()\n",
        "le.fit(train_preprocessed[\"label\"])"
      ],
      "metadata": {
        "id": "33fqQv00FPaG"
      },
      "execution_count": null,
      "outputs": []
    },
    {
      "cell_type": "code",
      "source": [
        "# 인코딩 정보 기반 transform : https://pinkwink.kr/1247\n",
        "label = le.transform(train_preprocessed[\"label\"])\n",
        "train_preprocessed[\"label\"] = label"
      ],
      "metadata": {
        "id": "WpLKLPYkPlUa"
      },
      "execution_count": null,
      "outputs": []
    },
    {
      "cell_type": "markdown",
      "source": [
        "label 개수"
      ],
      "metadata": {
        "id": "frmTj2MHKtgQ"
      }
    },
    {
      "cell_type": "code",
      "source": [
        "print(\"라벨개수\",len(train_preprocessed[\"label\"].value_counts()))\n",
        "train_preprocessed[\"label\"].value_counts()"
      ],
      "metadata": {
        "id": "SxQovweKH4G3"
      },
      "execution_count": null,
      "outputs": []
    },
    {
      "cell_type": "markdown",
      "source": [
        "텍스트 데이터와 label 데이터 담기"
      ],
      "metadata": {
        "id": "3tgyng3FRFQZ"
      }
    },
    {
      "cell_type": "code",
      "source": [
        "# dataframe 형태의 데이터를 리스트 형태로 변경\n",
        "# bert 모델을 위한 데이터\n",
        "def transform_df_lst(df):\n",
        "    data_lst = []\n",
        "    for q, label in zip(df['document'], df['label'])  :\n",
        "        data = []\n",
        "        data.append(q)\n",
        "        data.append(str(label))\n",
        "\n",
        "        data_lst.append(data)\n",
        "    return data_lst"
      ],
      "metadata": {
        "id": "j8Y_IwviQSqh"
      },
      "execution_count": null,
      "outputs": []
    },
    {
      "cell_type": "code",
      "source": [
        "train_preprocessed"
      ],
      "metadata": {
        "id": "DvCODGmtQ-6l"
      },
      "execution_count": null,
      "outputs": []
    },
    {
      "cell_type": "markdown",
      "source": [
        "학습, 평가 데이터 20% 비율로 나누기\n",
        "- stratify 추가"
      ],
      "metadata": {
        "id": "wIXDa0slRUpa"
      }
    },
    {
      "cell_type": "code",
      "source": [
        "#train & test 데이터로 나누기 동일 비율\n",
        "from sklearn.model_selection import train_test_split                                                   \n",
        "dataset_train, dataset_test = train_test_split(train_preprocessed, stratify = train_preprocessed[\"label\"]\n",
        "                                               , test_size=0.20, random_state=0,shuffle=True)"
      ],
      "metadata": {
        "id": "NKDjG-iZFPpw"
      },
      "execution_count": null,
      "outputs": []
    },
    {
      "cell_type": "code",
      "source": [
        "dataset_train = transform_df_lst(dataset_train)\n",
        "dataset_test = transform_df_lst(dataset_test)"
      ],
      "metadata": {
        "id": "iuyYw-sTPg0p"
      },
      "execution_count": null,
      "outputs": []
    },
    {
      "cell_type": "code",
      "source": [
        "print(\"학습 데이터 개수\",len(dataset_train))"
      ],
      "metadata": {
        "id": "2oEFztd9KheM"
      },
      "execution_count": null,
      "outputs": []
    },
    {
      "cell_type": "markdown",
      "source": [
        "KoBERT의 입력데이터로 만들기"
      ],
      "metadata": {
        "id": "4-XtVhDxRkea"
      }
    },
    {
      "cell_type": "code",
      "source": [
        "class BERTDataset(Dataset):\n",
        "    def __init__(self, dataset, sent_idx, label_idx, bert_tokenizer, max_len,\n",
        "                 pad, pair):\n",
        "        transform = nlp.data.BERTSentenceTransform(\n",
        "            bert_tokenizer, max_seq_length=max_len, pad=pad, pair=pair)\n",
        "\n",
        "        self.sentences = [transform([i[sent_idx]]) for i in dataset]\n",
        "        self.labels = [np.int32(i[label_idx]) for i in dataset]\n",
        "\n",
        "    def __getitem__(self, i):\n",
        "        return (self.sentences[i] + (self.labels[i], ))\n",
        "\n",
        "    def __len__(self):\n",
        "        return (len(self.labels))"
      ],
      "metadata": {
        "id": "oWet9w6DFPz8"
      },
      "execution_count": null,
      "outputs": []
    },
    {
      "cell_type": "code",
      "source": [
        "# 파라미터 셋팅\n",
        "max_len = 64\n",
        "batch_size = 64\n",
        "warmup_ratio = 0.1\n",
        "num_epochs = 10\n",
        "max_grad_norm = 1\n",
        "log_interval = 200\n",
        "learning_rate =  5e-5"
      ],
      "metadata": {
        "id": "9jnIj3N0FQo4"
      },
      "execution_count": null,
      "outputs": []
    },
    {
      "cell_type": "markdown",
      "source": [
        "data_train : 토큰화 및 패딩된 학습데이터 80%\n",
        "data_test : 토큰화 및 패딩된 학습데이터 20%"
      ],
      "metadata": {
        "id": "RC1v8gCoR7lc"
      }
    },
    {
      "cell_type": "code",
      "source": [
        "#토큰화\n",
        "tokenizer = get_tokenizer()\n",
        "tok = nlp.data.BERTSPTokenizer(tokenizer, vocab, lower=False)\n",
        "\n",
        "data_train = BERTDataset(dataset_train, 0, 1, tok, max_len, True, False)\n",
        "data_test = BERTDataset(dataset_test, 0, 1, tok, max_len, True, False)"
      ],
      "metadata": {
        "id": "KPsuji73FQr9"
      },
      "execution_count": null,
      "outputs": []
    },
    {
      "cell_type": "code",
      "source": [
        "data_train[0]\n",
        "# 첫번째 array : 패딩된 시퀀스\n",
        "# 두번째 array : 길이와 타입\n",
        "# 세번째 array : 어텐션 마스크 시퀀스"
      ],
      "metadata": {
        "id": "FF7eIg4fFQw7"
      },
      "execution_count": null,
      "outputs": []
    },
    {
      "cell_type": "markdown",
      "source": [
        "torch 형식의 데이터로 만들기"
      ],
      "metadata": {
        "id": "I3CzWxK4SkLW"
      }
    },
    {
      "cell_type": "code",
      "source": [
        "train_dataloader = torch.utils.data.DataLoader(data_train, batch_size=batch_size, num_workers=5)\n",
        "test_dataloader = torch.utils.data.DataLoader(data_test, batch_size=batch_size, num_workers=5)"
      ],
      "metadata": {
        "id": "wECa5aI6FQzz"
      },
      "execution_count": null,
      "outputs": []
    },
    {
      "cell_type": "markdown",
      "source": [
        "KoBERT 학습모델 만들기\n",
        "- 클래스 수 조정하기"
      ],
      "metadata": {
        "id": "rDU95MaaSsTW"
      }
    },
    {
      "cell_type": "code",
      "source": [
        "class BERTClassifier(nn.Module):\n",
        "    def __init__(self,\n",
        "                 bert,\n",
        "                 hidden_size = 768,\n",
        "                 num_classes=169,   ##클래스 수 조정##\n",
        "                 dr_rate=None,\n",
        "                 params=None):\n",
        "        super(BERTClassifier, self).__init__()\n",
        "        self.bert = bert\n",
        "        self.dr_rate = dr_rate\n",
        "                 \n",
        "        self.classifier = nn.Linear(hidden_size , num_classes)\n",
        "        if dr_rate:\n",
        "            self.dropout = nn.Dropout(p=dr_rate)\n",
        "    \n",
        "    def gen_attention_mask(self, token_ids, valid_length):\n",
        "        attention_mask = torch.zeros_like(token_ids)\n",
        "        for i, v in enumerate(valid_length):\n",
        "            attention_mask[i][:v] = 1\n",
        "        return attention_mask.float()\n",
        "\n",
        "    def forward(self, token_ids, valid_length, segment_ids):\n",
        "        attention_mask = self.gen_attention_mask(token_ids, valid_length)\n",
        "        \n",
        "        _, pooler = self.bert(input_ids = token_ids, token_type_ids = segment_ids.long(), attention_mask = attention_mask.float().to(token_ids.device))\n",
        "        if self.dr_rate:\n",
        "            out = self.dropout(pooler)\n",
        "        return self.classifier(out)"
      ],
      "metadata": {
        "id": "MFT3Hc_0SmHD"
      },
      "execution_count": null,
      "outputs": []
    },
    {
      "cell_type": "code",
      "source": [
        "#BERT 모델 불러오기\n",
        "model = BERTClassifier(bertmodel,  dr_rate=0.3).to(device)\n",
        "\n",
        "#optimizer와 schedule 설정\n",
        "no_decay = ['bias', 'LayerNorm.weight']\n",
        "optimizer_grouped_parameters = [\n",
        "    {'params': [p for n, p in model.named_parameters() if not any(nd in n for nd in no_decay)], 'weight_decay': 0.01},\n",
        "    {'params': [p for n, p in model.named_parameters() if any(nd in n for nd in no_decay)], 'weight_decay': 0.0}\n",
        "]\n",
        "\n",
        "optimizer = AdamW(optimizer_grouped_parameters, lr=learning_rate)\n",
        "loss_fn = nn.CrossEntropyLoss()\n",
        "\n",
        "t_total = len(train_dataloader) * num_epochs\n",
        "warmup_step = int(t_total * warmup_ratio)\n",
        "\n",
        "scheduler = get_cosine_schedule_with_warmup(optimizer, num_warmup_steps=warmup_step, num_training_steps=t_total)\n",
        "\n",
        "#정확도 측정을 위한 함수 정의\n",
        "def calc_accuracy(X,Y):\n",
        "    max_vals, max_indices = torch.max(X, 1)\n",
        "    train_acc = (max_indices == Y).sum().data.cpu().numpy()/max_indices.size()[0]\n",
        "    return train_acc\n",
        "    \n",
        "train_dataloader"
      ],
      "metadata": {
        "id": "AkbzU7cHS3br"
      },
      "execution_count": null,
      "outputs": []
    },
    {
      "cell_type": "markdown",
      "source": [
        "데이터 학습하기"
      ],
      "metadata": {
        "id": "RzUzS2rfTK_q"
      }
    },
    {
      "cell_type": "code",
      "source": [
        "for e in range(num_epochs):\n",
        "    train_acc = 0.0\n",
        "    test_acc = 0.0\n",
        "    model.train()\n",
        "    for batch_id, (token_ids, valid_length, segment_ids, label) in enumerate(tqdm_notebook(train_dataloader)):\n",
        "        optimizer.zero_grad()\n",
        "        token_ids = token_ids.long().to(device)\n",
        "        segment_ids = segment_ids.long().to(device)\n",
        "        valid_length= valid_length\n",
        "        label = label.long().to(device)\n",
        "        out = model(token_ids, valid_length, segment_ids)\n",
        "        loss = loss_fn(out, label)\n",
        "        loss.backward()\n",
        "        torch.nn.utils.clip_grad_norm_(model.parameters(), max_grad_norm)\n",
        "        optimizer.step()\n",
        "        scheduler.step()  # Update learning rate schedule\n",
        "        train_acc += calc_accuracy(out, label)\n",
        "        if batch_id % log_interval == 0:\n",
        "            print(\"epoch {} batch id {} loss {} train acc {}\".format(e+1, batch_id+1, loss.data.cpu().numpy(), train_acc / (batch_id+1)))\n",
        "    print(\"epoch {} train acc {}\".format(e+1, train_acc / (batch_id+1)))\n",
        "    \n",
        "    model.eval()\n",
        "    for batch_id, (token_ids, valid_length, segment_ids, label) in enumerate(tqdm_notebook(test_dataloader)):\n",
        "        token_ids = token_ids.long().to(device)\n",
        "        segment_ids = segment_ids.long().to(device)\n",
        "        valid_length= valid_length\n",
        "        label = label.long().to(device)\n",
        "        out = model(token_ids, valid_length, segment_ids)\n",
        "        test_acc += calc_accuracy(out, label)\n",
        "    print(\"epoch {} test acc {}\".format(e+1, test_acc / (batch_id+1)))"
      ],
      "metadata": {
        "id": "lJm2R2WES3eY"
      },
      "execution_count": null,
      "outputs": []
    },
    {
      "cell_type": "markdown",
      "source": [
        "모델 저장하기"
      ],
      "metadata": {
        "id": "plocCOUIugur"
      }
    },
    {
      "cell_type": "code",
      "source": [
        "model_save_name = 'classifier.bert'\n",
        "path = F\"/content/MyDrive/MyDrive/test/{model_save_name}\" \n",
        "torch.save(model.state_dict(), path)"
      ],
      "metadata": {
        "id": "sQIBf21hS3hB"
      },
      "execution_count": null,
      "outputs": []
    },
    {
      "cell_type": "markdown",
      "source": [
        "모델 불러오기"
      ],
      "metadata": {
        "id": "ZCRHACNFuhPD"
      }
    },
    {
      "cell_type": "code",
      "source": [
        "model_save_name = 'classifier.bert'\n",
        "path = F\"/content/MyDrive/MyDrive/test/{model_save_name}\"\n",
        "model.load_state_dict(torch.load(path))"
      ],
      "metadata": {
        "id": "FTkL5Sq_S3jc"
      },
      "execution_count": null,
      "outputs": []
    },
    {
      "cell_type": "code",
      "source": [
        "model"
      ],
      "metadata": {
        "id": "wFsq8uUP5mi5"
      },
      "execution_count": null,
      "outputs": []
    },
    {
      "cell_type": "markdown",
      "source": [
        "예측하기"
      ],
      "metadata": {
        "id": "ivxteQyzGcDm"
      }
    },
    {
      "cell_type": "code",
      "source": [
        "max_len = 64"
      ],
      "metadata": {
        "id": "1cMkOUO3It0G"
      },
      "execution_count": null,
      "outputs": []
    },
    {
      "cell_type": "code",
      "source": [
        "new_test = nlp.data.TSVDataset('/content/MyDrive/MyDrive/test/test_preprocessed.tsv', field_indices=[3,4], num_discard_samples=1)"
      ],
      "metadata": {
        "id": "WYpexvMoOA_T"
      },
      "execution_count": null,
      "outputs": []
    },
    {
      "cell_type": "code",
      "source": [
        "test_set = BERTDataset(new_test , 0, 1, tok, max_len, True, False)\n",
        "test_input = torch.utils.data.DataLoader(test_set, batch_size=1, num_workers=4)"
      ],
      "metadata": {
        "id": "i0Tue0j_7NXR"
      },
      "execution_count": null,
      "outputs": []
    },
    {
      "cell_type": "code",
      "source": [
        "predict_val = []\n",
        "for batch_id, (token_ids, valid_length, segment_ids, label) in enumerate(tqdm_notebook(test_input)): \n",
        "  token_ids = token_ids.long().to(device) \n",
        "  segment_ids = segment_ids.long().to(device) \n",
        "  valid_length= valid_length \n",
        "  out = model(token_ids, valid_length, segment_ids)\n",
        "  prediction = out.cpu().detach().numpy().argmax()\n",
        "  predict_val.append(prediction)\n",
        "  if batch_id % 5000 == 0:\n",
        "     print(str(batch_id) + \"번째 문장의 분류 예측값은\" + str(prediction) + \"입니다.\")"
      ],
      "metadata": {
        "id": "0HLRlPNhGdav"
      },
      "execution_count": null,
      "outputs": []
    },
    {
      "cell_type": "markdown",
      "source": [
        "인코딩된 label 값 디코딩하기"
      ],
      "metadata": {
        "id": "FUFeb42Wu2Hn"
      }
    },
    {
      "cell_type": "code",
      "source": [
        "le.inverse_transform(predict_val)"
      ],
      "metadata": {
        "id": "crv6NYzpQMZz"
      },
      "execution_count": null,
      "outputs": []
    },
    {
      "cell_type": "code",
      "source": [
        "predict_df = test_preprocessed.copy().drop(\"len\",axis=1)\n",
        "predict_df[\"label\"] = le.inverse_transform(predict_val)\n",
        "predict_df.head()"
      ],
      "metadata": {
        "id": "CiTnTge8QPES"
      },
      "execution_count": null,
      "outputs": []
    },
    {
      "cell_type": "markdown",
      "source": [
        "예측된 결과물 저장"
      ],
      "metadata": {
        "id": "i89XYjjJu48Q"
      }
    },
    {
      "cell_type": "code",
      "source": [
        "predict_df.to_csv(\"/content/MyDrive/MyDrive/test/predict.csv\",encoding=\"utf-8-sig\",index=False)"
      ],
      "metadata": {
        "id": "p58ffhuIX0kh"
      },
      "execution_count": null,
      "outputs": []
    },
    {
      "cell_type": "code",
      "source": [
        ""
      ],
      "metadata": {
        "id": "TJFci2f2YFvo"
      },
      "execution_count": null,
      "outputs": []
    }
  ]
}