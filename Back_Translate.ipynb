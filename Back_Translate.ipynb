{
  "nbformat": 4,
  "nbformat_minor": 0,
  "metadata": {
    "colab": {
      "name": "Back Translate.ipynb",
      "private_outputs": true,
      "provenance": [],
      "collapsed_sections": [],
      "authorship_tag": "ABX9TyNYrqPrB3WIoMDYfjXq2UTs",
      "include_colab_link": true
    },
    "kernelspec": {
      "name": "python3",
      "display_name": "Python 3"
    },
    "language_info": {
      "name": "python"
    }
  },
  "cells": [
    {
      "cell_type": "markdown",
      "metadata": {
        "id": "view-in-github",
        "colab_type": "text"
      },
      "source": [
        "<a href=\"https://colab.research.google.com/github/yxbxn/NLP_contest/blob/main/Back_Translate.ipynb\" target=\"_parent\"><img src=\"https://colab.research.google.com/assets/colab-badge.svg\" alt=\"Open In Colab\"/></a>"
      ]
    },
    {
      "cell_type": "code",
      "source": [
        "!pip install selenium\n",
        "!apt-get update\n",
        "!apt install chromium-chromedriver\n",
        "!cp /usr/lib/chromium-browser/chromedriver /usr/bin"
      ],
      "metadata": {
        "id": "Z5zL_FJsqlPf"
      },
      "execution_count": null,
      "outputs": []
    },
    {
      "cell_type": "code",
      "source": [
        "import pandas as pd\n",
        "import selenium\n",
        "from selenium import webdriver\n",
        "from bs4 import BeautifulSoup\n",
        "import time\n",
        "from tqdm import tnrange\n",
        "from urllib.request import urlopen\n",
        "import re\n",
        "import requests\n",
        "import urllib.request\n",
        "from tqdm import tqdm\n",
        "\n",
        "import selenium\n",
        "from selenium import webdriver\n",
        "from selenium.webdriver.common.by import By\n",
        "from selenium.webdriver.support.ui import WebDriverWait\n",
        "from selenium.webdriver.support import expected_conditions as EC\n",
        "\n",
        "import sys\n",
        "import numpy as np\n",
        "import pandas as pd\n",
        "import random\n",
        "from tqdm.notebook import tqdm"
      ],
      "metadata": {
        "id": "_58KDYqyqlJ6"
      },
      "execution_count": null,
      "outputs": []
    },
    {
      "cell_type": "code",
      "source": [
        "def chrome_setting():\n",
        "  chrome_options = webdriver.ChromeOptions()\n",
        "  chrome_options.add_argument('--headless')\n",
        "  chrome_options.add_argument('--no-sandbox')\n",
        "  chrome_options.add_argument('--disable-dev-shm-usage')\n",
        "  driver = webdriver.Chrome('chromedriver', options=chrome_options)\n",
        "  return driver"
      ],
      "metadata": {
        "id": "nf-oyRA0qKqG"
      },
      "execution_count": null,
      "outputs": []
    },
    {
      "cell_type": "code",
      "source": [
        "driver=chrome_setting()"
      ],
      "metadata": {
        "id": "EswS_vi0qcnF"
      },
      "execution_count": null,
      "outputs": []
    },
    {
      "cell_type": "code",
      "source": [
        "# 구글드라이브 연동\n",
        "from google.colab import drive\n",
        "drive.mount('/content/MyDrive')"
      ],
      "metadata": {
        "id": "Fa0ZN2WbuZzp"
      },
      "execution_count": null,
      "outputs": []
    },
    {
      "cell_type": "code",
      "source": [
        "# 특정 파일 불러오기\n",
        "import pandas as pd\n",
        "train_preprocessed = pd.read_csv(\"/content/MyDrive/MyDrive/test/train_preprocessed.csv\")\n",
        "test_preprocessed = pd.read_csv(\"/content/MyDrive/MyDrive/test/test_preprocessed.csv\")"
      ],
      "metadata": {
        "id": "R4mtIqy8uaAD"
      },
      "execution_count": null,
      "outputs": []
    },
    {
      "cell_type": "code",
      "source": [
        "train_preprocessed.shape"
      ],
      "metadata": {
        "id": "reRk4hKJw7dJ"
      },
      "execution_count": null,
      "outputs": []
    },
    {
      "cell_type": "markdown",
      "source": [
        "AI_id 컬럼 부여\n",
        "- 정수 자릿수 맞추기 : https://jlog1016.tistory.com/4"
      ],
      "metadata": {
        "id": "KFJlEEOBz2EL"
      }
    },
    {
      "cell_type": "code",
      "source": [
        "train_id = []\n",
        "for i in range(1,1000001):\n",
        "    num = str(i).zfill(7)\n",
        "    train_id.append(\"id_\" + num)"
      ],
      "metadata": {
        "id": "3ug-Fxeuz13Z"
      },
      "execution_count": null,
      "outputs": []
    },
    {
      "cell_type": "code",
      "source": [
        "test_id = []\n",
        "for i in range(1,100001):\n",
        "    num = str(i).zfill(6)\n",
        "    test_id.append(\"id_\" + num)"
      ],
      "metadata": {
        "id": "5gOgSlBpz1tB"
      },
      "execution_count": null,
      "outputs": []
    },
    {
      "cell_type": "code",
      "source": [
        "train_preprocessed[\"AI_id\"] = train_id\n",
        "test_preprocessed[\"AI_id\"] = test_id"
      ],
      "metadata": {
        "id": "7UW5MRMVz1fQ"
      },
      "execution_count": null,
      "outputs": []
    },
    {
      "cell_type": "markdown",
      "source": [
        "# **Data Augmentation**"
      ],
      "metadata": {
        "id": "UFMV5qW9uwvz"
      }
    },
    {
      "cell_type": "code",
      "source": [
        "train_preprocessed[\"label\"].value_counts().describe()"
      ],
      "metadata": {
        "id": "LSDrOijNuv2O"
      },
      "execution_count": null,
      "outputs": []
    },
    {
      "cell_type": "markdown",
      "source": [
        "230개 미만인 label 제거"
      ],
      "metadata": {
        "id": "CLLqWU4Mu29h"
      }
    },
    {
      "cell_type": "code",
      "source": [
        "except_label = train_preprocessed[\"label\"].value_counts()[train_preprocessed[\"label\"].value_counts() < 230].index\n",
        "except_label"
      ],
      "metadata": {
        "id": "5UJ7iZTduwLd"
      },
      "execution_count": null,
      "outputs": []
    },
    {
      "cell_type": "code",
      "source": [
        "mask = train_preprocessed['label'].isin(except_label)\n",
        "train_preprocessed = train_preprocessed[~mask].reset_index(drop=True)\n",
        "train_preprocessed.head()"
      ],
      "metadata": {
        "id": "FNdQ9O0wu5pN"
      },
      "execution_count": null,
      "outputs": []
    },
    {
      "cell_type": "code",
      "source": [
        "train_preprocessed[\"label\"].value_counts().describe()"
      ],
      "metadata": {
        "id": "QS16J3b4wfRh"
      },
      "execution_count": null,
      "outputs": []
    },
    {
      "cell_type": "markdown",
      "source": [
        "남아있는 label Q1 : 660\n",
        "- label 개수가 660개 이하인 데이터 증강"
      ],
      "metadata": {
        "id": "paP6fHmfvQuW"
      }
    },
    {
      "cell_type": "code",
      "source": [
        "augment_label = train_preprocessed[\"label\"].value_counts()[train_preprocessed[\"label\"].value_counts() < 230].index\n",
        "mask = train_preprocessed['label'].isin(augment_label)\n",
        "augment_preprocessed = train_preprocessed[mask].reset_index(drop=True)\n",
        "augment_preprocessed.head()"
      ],
      "metadata": {
        "id": "TZQJz_u0vAX5"
      },
      "execution_count": null,
      "outputs": []
    },
    {
      "cell_type": "code",
      "source": [
        "# 증강시킬 데이터\n",
        "augment_preprocessed"
      ],
      "metadata": {
        "id": "QnghNOSAvAN_"
      },
      "execution_count": null,
      "outputs": []
    },
    {
      "cell_type": "markdown",
      "source": [
        "### Pororo를 이용한 Back Translation"
      ],
      "metadata": {
        "id": "fDDRvQJAxnlV"
      }
    },
    {
      "cell_type": "code",
      "source": [
        "!pip install pororo"
      ],
      "metadata": {
        "id": "6xANGuzIzd0w"
      },
      "execution_count": null,
      "outputs": []
    },
    {
      "cell_type": "code",
      "source": [
        "import pororo\n",
        "from pororo import Pororo"
      ],
      "metadata": {
        "id": "alPnfFAu0L0l"
      },
      "execution_count": null,
      "outputs": []
    },
    {
      "cell_type": "code",
      "source": [
        "test = augment_preprocessed.loc[:10,:]"
      ],
      "metadata": {
        "id": "fYrfTOzH0QZb"
      },
      "execution_count": null,
      "outputs": []
    },
    {
      "cell_type": "code",
      "source": [
        "# Translating using pororo\n",
        "pr = Pororo(task=\"translation\", lang=\"multi\")\n",
        "\n",
        "pr_transed = []\n",
        "\n",
        "for k,i in tqdm(enumerate(test[\"document\"])):\n",
        "  eng = pr(i, src=\"ko\", tgt=\"en\")\n",
        "  ko = pr(eng, src=\"en\", tgt=\"ko\")\n",
        "\n",
        "  pr_transed.append(ko)"
      ],
      "metadata": {
        "id": "cFJl87KPqX6L"
      },
      "execution_count": null,
      "outputs": []
    },
    {
      "cell_type": "code",
      "source": [
        "pr_transed"
      ],
      "metadata": {
        "id": "uN4kHoxJqX3L"
      },
      "execution_count": null,
      "outputs": []
    },
    {
      "cell_type": "code",
      "source": [
        "test[\"back_translate\"] = pr_transed\n",
        "test"
      ],
      "metadata": {
        "id": "fL3ptMk3qXz7"
      },
      "execution_count": null,
      "outputs": []
    },
    {
      "cell_type": "code",
      "source": [
        "import requests\n",
        "import time\n",
        "url = \"https://translate.kakao.com/translator/translate.json\"\n",
        "\n",
        "def kakao_translate(query,from_lang,to_lang):\n",
        "\n",
        "    headers = {\n",
        "        \"Referer\": \"https://translate.kakao.com/\",\n",
        "        \"User-Agent\": \"Mozilla/5.0\"}\n",
        "\n",
        "    data = {\n",
        "        \"queryLanguage\": from_lang,\n",
        "        \"resultLanguage\": to_lang,\n",
        "        \"q\": query}\n",
        "\n",
        "    resp = requests.post(url, headers=headers, data=data)\n",
        "    time.sleep(3)\n",
        "\n",
        "    try:\n",
        "        if resp.json()[\"result\"][\"status_code\"] == 200:\n",
        "            data = resp.json()['result']['output'][0][0]\n",
        "    except:\n",
        "        data = \"None\"\n",
        "    return data"
      ],
      "metadata": {
        "id": "rGAM03J0bkaw"
      },
      "execution_count": null,
      "outputs": []
    },
    {
      "cell_type": "markdown",
      "source": [
        "def back_translate(query,to_lang):\n",
        "    #try: \n",
        "        # 한국어 -> 특정언어 번역\n",
        "    data = kakao_translate(query,\"kr\",to_lang)\n",
        "\n",
        "        # 특정언어 -> 한국어 번역\n",
        "    back_data = kakao_translate(data,to_lang,\"kr\")\n",
        "    #except:\n",
        "    #    back_data = \"None\"\n",
        "    return  back_data"
      ],
      "metadata": {
        "id": "0ZM8XcnPxSr_"
      }
    },
    {
      "cell_type": "code",
      "source": [
        "txt = \"니트 테이프 티리올 수지 중합 수지 배합\"\n",
        "\n",
        "if __name__ == \"__main__\":\n",
        "    print(back_translate(txt,\"cn\"))\n",
        "    print(back_translate(txt,\"en\"))\n",
        "    print(back_translate(txt,\"jp\"))"
      ],
      "metadata": {
        "id": "YNnStdWauVFf"
      },
      "execution_count": null,
      "outputs": []
    },
    {
      "cell_type": "code",
      "source": [
        "augment_preprocessed.iloc[1126:1130,:]"
      ],
      "metadata": {
        "id": "6Ac-mo9I9wwO"
      },
      "execution_count": null,
      "outputs": []
    },
    {
      "cell_type": "code",
      "source": [
        "tqdm.pandas()\n",
        "test = augment_preprocessed.iloc[:500,:]\n",
        "test[\"eng\"] = test[\"document\"].progress_apply(lambda x : kakao_translate(x,\"kr\",\"en\"))"
      ],
      "metadata": {
        "id": "sxWcmFCw5NZ0"
      },
      "execution_count": null,
      "outputs": []
    },
    {
      "cell_type": "markdown",
      "source": [
        "### 분할 시행"
      ],
      "metadata": {
        "id": "Pf552CUdG1PP"
      }
    },
    {
      "cell_type": "code",
      "source": [
        "augment_preprocessed[\"eng\"] = augment_preprocessed[\"document\"].progress_apply(lambda x : kakao_translate(x,\"kr\",\"en\"))"
      ],
      "metadata": {
        "id": "zYJ5InXMF6Xo"
      },
      "execution_count": null,
      "outputs": []
    },
    {
      "cell_type": "code",
      "source": [
        "augment_preprocessed[\"chn\"] = augment_preprocessed[\"document\"].progress_apply(lambda x : kakao_translate(x,\"kr\",\"cn\"))"
      ],
      "metadata": {
        "id": "Pk_-AN-EGE7y"
      },
      "execution_count": null,
      "outputs": []
    },
    {
      "cell_type": "code",
      "source": [
        "augment_preprocessed[\"jpn\"] = augment_preprocessed[\"document\"].progress_apply(lambda x : kakao_translate(x,\"kr\",\"jp\"))"
      ],
      "metadata": {
        "id": "cMtMe4_nx92i"
      },
      "execution_count": null,
      "outputs": []
    },
    {
      "cell_type": "markdown",
      "source": [
        "스크래핑 기반 파파고 번역"
      ],
      "metadata": {
        "id": "w9ygY_z4awq3"
      }
    },
    {
      "cell_type": "code",
      "source": [
        "!pip install selenium\n",
        "!apt-get update\n",
        "!apt install chromium-chromedriver\n",
        "!cp /usr/lib/chromium-browser/chromedriver /usr/bin"
      ],
      "metadata": {
        "id": "EPXQ_Leia9XM"
      },
      "execution_count": null,
      "outputs": []
    },
    {
      "cell_type": "code",
      "source": [
        "import pandas as pd\n",
        "import selenium\n",
        "from selenium import webdriver\n",
        "from bs4 import BeautifulSoup\n",
        "import time\n",
        "from tqdm import tnrange\n",
        "from urllib.request import urlopen\n",
        "import re\n",
        "import requests\n",
        "import urllib.request\n",
        "from tqdm import tqdm"
      ],
      "metadata": {
        "id": "e4yOVBF2awO-"
      },
      "execution_count": null,
      "outputs": []
    },
    {
      "cell_type": "code",
      "source": [
        "options = webdriver.ChromeOptions()\n",
        "options.add_argument('--headless')        # Head-less 설정\n",
        "options.add_argument('--no-sandbox')\n",
        "options.add_argument('--disable-dev-shm-usage')\n",
        "driver = webdriver.Chrome('chromedriver', options=options)"
      ],
      "metadata": {
        "id": "LWq0Dy2cb3SH"
      },
      "execution_count": null,
      "outputs": []
    },
    {
      "cell_type": "code",
      "source": [
        ""
      ],
      "metadata": {
        "id": "ox6YemnrtOC4"
      },
      "execution_count": null,
      "outputs": []
    },
    {
      "cell_type": "code",
      "source": [
        "trans_list = []\n",
        "backtrans_list = []\n",
        "\n",
        "def kor_to_trans(text_data, trans_lang):\n",
        "    \"\"\"\n",
        "    trans_lang에 넣는 파라미터 값:\n",
        "    'en' -> 영어\n",
        "    'ja&hn=0' -> 일본어\n",
        "    'zh-CN' -> 중국어(간체)\n",
        "    \"\"\"\n",
        "    for i in tqdm(range(len(text_data))):\n",
        "        try:\n",
        "            driver.get('https://papago.naver.com/?sk=ko&tk='+trans_lang+'&st='+text_data[i])\n",
        "            time.sleep(2.5)\n",
        "            backtrans = driver.find_element_by_xpath('//*[@id=\"txtTarget\"]').text\n",
        "            trans_list.append(backtrans)\n",
        "        except:\n",
        "            driver.get('https://papago.naver.com/?sk=ko&tk='+trans_lang)\n",
        "            driver.find_element_by_xpath('//*[@id=\"txtSource\"]').send_keys(text_data[i])\n",
        "            time.sleep(2.5)\n",
        "            backtrans = driver.find_element_by_xpath('//*[@id=\"txtTarget\"]').text\n",
        "            trans_list.append(backtrans)\n",
        "\n",
        "def trans_to_kor(transed_list, transed_lang):\n",
        "    for i in tqdm(range(len(transed_list))):\n",
        "        try:\n",
        "            driver.get('https://papago.naver.com/?sk='+transed_lang+'&tk=ko&st='+transed_list[i])\n",
        "            time.sleep(2.5)\n",
        "            backtrans = driver.find_element_by_xpath('//*[@id=\"txtTarget\"]').text\n",
        "            backtrans_list.append(backtrans)\n",
        "        except:  \n",
        "            driver.get('https://papago.naver.com/?sk='+transed_lang+'&tk=ko')\n",
        "            driver.find_element_by_xpath('//*[@id=\"txtSource\"]').send_keys(transed_list[i])\n",
        "            time.sleep(2.5)\n",
        "            backtrans = driver.find_element_by_xpath('//*[@id=\"txtTarget\"]').text\n",
        "            backtrans_list.append(backtrans)\n",
        "            "
      ],
      "metadata": {
        "id": "5h96YR7Aa1vE"
      },
      "execution_count": null,
      "outputs": []
    },
    {
      "cell_type": "code",
      "source": [
        "text = \"연로원에서 일상생활에 지장이 없는 노인을 입소시켜 노인양로 복지시설 운영\"\n",
        "\n",
        "# 한글에서 영어로 변환\n",
        "kor_to_trans(text,'en')"
      ],
      "metadata": {
        "id": "dfio3rLLa3wd"
      },
      "execution_count": null,
      "outputs": []
    },
    {
      "cell_type": "markdown",
      "source": [
        "### 구글 번역기 파이썬"
      ],
      "metadata": {
        "id": "zU_pmvU-uo9A"
      }
    },
    {
      "cell_type": "code",
      "source": [
        "pip install googletrans==4.0.0-rc1"
      ],
      "metadata": {
        "id": "jfwvh0J-t3Gf"
      },
      "execution_count": null,
      "outputs": []
    },
    {
      "cell_type": "code",
      "source": [
        "import googletrans\n",
        "translator = googletrans.Translator()\n",
        "str1 = \"요양보호 센터에서 고객에 의뢰를 받아 요양보호사 파견\"\n",
        "\n",
        "# 1차 번역\n",
        "result1 = translator.translate(str1,src=\"ko\",dest='en')\n",
        "\n",
        "# 2차 번역\n",
        "result2 = translator.translate(result1.text,src=\"en\",dest='ko')"
      ],
      "metadata": {
        "id": "ctnA-vDeurZT"
      },
      "execution_count": null,
      "outputs": []
    },
    {
      "cell_type": "code",
      "source": [
        "result2.text"
      ],
      "metadata": {
        "id": "AinXtsYSvCMe"
      },
      "execution_count": null,
      "outputs": []
    },
    {
      "cell_type": "code",
      "source": [
        ""
      ],
      "metadata": {
        "id": "ezo3sxcdwMSt"
      },
      "execution_count": null,
      "outputs": []
    }
  ]
}