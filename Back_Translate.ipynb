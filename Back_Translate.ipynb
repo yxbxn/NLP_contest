{
  "nbformat": 4,
  "nbformat_minor": 0,
  "metadata": {
    "colab": {
      "name": "Back Translate.ipynb",
      "private_outputs": true,
      "provenance": [],
      "collapsed_sections": [],
      "authorship_tag": "ABX9TyNzPoau9oHk7T2bmGUfKxow",
      "include_colab_link": true
    },
    "kernelspec": {
      "name": "python3",
      "display_name": "Python 3"
    },
    "language_info": {
      "name": "python"
    }
  },
  "cells": [
    {
      "cell_type": "markdown",
      "metadata": {
        "id": "view-in-github",
        "colab_type": "text"
      },
      "source": [
        "<a href=\"https://colab.research.google.com/github/yxbxn/NLP_contest/blob/main/Back_Translate.ipynb\" target=\"_parent\"><img src=\"https://colab.research.google.com/assets/colab-badge.svg\" alt=\"Open In Colab\"/></a>"
      ]
    },
    {
      "cell_type": "code",
      "source": [
        "!pip install selenium\n",
        "!apt-get update\n",
        "!apt install chromium-chromedriver\n",
        "!cp /usr/lib/chromium-browser/chromedriver /usr/bin"
      ],
      "metadata": {
        "id": "Z5zL_FJsqlPf"
      },
      "execution_count": null,
      "outputs": []
    },
    {
      "cell_type": "code",
      "source": [
        "import pandas as pd\n",
        "import selenium\n",
        "from selenium import webdriver\n",
        "from bs4 import BeautifulSoup\n",
        "import time\n",
        "from tqdm import tnrange\n",
        "from urllib.request import urlopen\n",
        "import re\n",
        "import requests\n",
        "import urllib.request\n",
        "from tqdm import tqdm\n",
        "\n",
        "import selenium\n",
        "from selenium import webdriver\n",
        "from selenium.webdriver.common.by import By\n",
        "from selenium.webdriver.support.ui import WebDriverWait\n",
        "from selenium.webdriver.support import expected_conditions as EC\n",
        "\n",
        "import sys\n",
        "import numpy as np\n",
        "import pandas as pd\n",
        "import random\n",
        "from tqdm.notebook import tqdm"
      ],
      "metadata": {
        "id": "_58KDYqyqlJ6"
      },
      "execution_count": null,
      "outputs": []
    },
    {
      "cell_type": "code",
      "source": [
        "def chrome_setting():\n",
        "  chrome_options = webdriver.ChromeOptions()\n",
        "  chrome_options.add_argument('--headless')\n",
        "  chrome_options.add_argument('--no-sandbox')\n",
        "  chrome_options.add_argument('--disable-dev-shm-usage')\n",
        "  driver = webdriver.Chrome('chromedriver', options=chrome_options)\n",
        "  return driver"
      ],
      "metadata": {
        "id": "nf-oyRA0qKqG"
      },
      "execution_count": null,
      "outputs": []
    },
    {
      "cell_type": "code",
      "source": [
        "driver=chrome_setting()"
      ],
      "metadata": {
        "id": "EswS_vi0qcnF"
      },
      "execution_count": null,
      "outputs": []
    },
    {
      "cell_type": "code",
      "source": [
        "# 구글드라이브 연동\n",
        "from google.colab import drive\n",
        "drive.mount('/content/MyDrive')"
      ],
      "metadata": {
        "id": "Fa0ZN2WbuZzp"
      },
      "execution_count": null,
      "outputs": []
    },
    {
      "cell_type": "code",
      "source": [
        "# 특정 파일 불러오기\n",
        "import pandas as pd\n",
        "train_preprocessed = pd.read_csv(\"/content/MyDrive/MyDrive/test/train_preprocessed.csv\")\n",
        "test_preprocessed = pd.read_csv(\"/content/MyDrive/MyDrive/test/test_preprocessed.csv\")"
      ],
      "metadata": {
        "id": "R4mtIqy8uaAD"
      },
      "execution_count": null,
      "outputs": []
    },
    {
      "cell_type": "code",
      "source": [
        "train_preprocessed.shape"
      ],
      "metadata": {
        "id": "reRk4hKJw7dJ"
      },
      "execution_count": null,
      "outputs": []
    },
    {
      "cell_type": "markdown",
      "source": [
        "# **Data Augmentation**"
      ],
      "metadata": {
        "id": "UFMV5qW9uwvz"
      }
    },
    {
      "cell_type": "code",
      "source": [
        "train_preprocessed[\"label\"].value_counts().describe()"
      ],
      "metadata": {
        "id": "LSDrOijNuv2O"
      },
      "execution_count": null,
      "outputs": []
    },
    {
      "cell_type": "markdown",
      "source": [
        "남아있는 label Q1 : 230\n",
        "- label 개수가 230개 이하인 데이터 증강"
      ],
      "metadata": {
        "id": "paP6fHmfvQuW"
      }
    },
    {
      "cell_type": "code",
      "source": [
        "augment_label = train_preprocessed[\"label\"].value_counts()[train_preprocessed[\"label\"].value_counts() < 230].index\n",
        "mask = train_preprocessed['label'].isin(augment_label)\n",
        "augment_preprocessed = train_preprocessed[mask].reset_index(drop=True)\n",
        "augment_preprocessed.head()"
      ],
      "metadata": {
        "id": "TZQJz_u0vAX5"
      },
      "execution_count": null,
      "outputs": []
    },
    {
      "cell_type": "code",
      "source": [
        "# 증강시킬 데이터\n",
        "augment_preprocessed"
      ],
      "metadata": {
        "id": "QnghNOSAvAN_"
      },
      "execution_count": null,
      "outputs": []
    },
    {
      "cell_type": "markdown",
      "source": [
        "### 카카오 번역기 크롤링"
      ],
      "metadata": {
        "id": "cV-Ey6zfxj4O"
      }
    },
    {
      "cell_type": "code",
      "source": [
        "import requests\n",
        "import time\n",
        "url = \"https://translate.kakao.com/translator/translate.json\"\n",
        "\n",
        "def kakao_translate(query,from_lang,to_lang):\n",
        "\n",
        "    headers = {\n",
        "        \"Referer\": \"https://translate.kakao.com/\",\n",
        "        \"User-Agent\": \"Mozilla/5.0\"}\n",
        "\n",
        "    data = {\n",
        "        \"queryLanguage\": from_lang,\n",
        "        \"resultLanguage\": to_lang,\n",
        "        \"q\": query}\n",
        "\n",
        "    resp = requests.post(url, headers=headers, data=data)\n",
        "    time.sleep(3)\n",
        "\n",
        "    try:\n",
        "        if resp.json()[\"result\"][\"status_code\"] == 200:\n",
        "            data = resp.json()['result']['output'][0][0]\n",
        "    except:\n",
        "        data = \"None\"\n",
        "    return data"
      ],
      "metadata": {
        "id": "rGAM03J0bkaw"
      },
      "execution_count": null,
      "outputs": []
    },
    {
      "cell_type": "code",
      "source": [
        "txt = \"니트 테이프 티리올 수지 중합 수지 배합\"\n",
        "\n",
        "if __name__ == \"__main__\":\n",
        "    print(back_translate(txt,\"cn\"))\n",
        "    print(back_translate(txt,\"en\"))\n",
        "    print(back_translate(txt,\"jp\"))"
      ],
      "metadata": {
        "id": "YNnStdWauVFf"
      },
      "execution_count": null,
      "outputs": []
    },
    {
      "cell_type": "markdown",
      "source": [
        "### 분할 시행"
      ],
      "metadata": {
        "id": "Pf552CUdG1PP"
      }
    },
    {
      "cell_type": "code",
      "source": [
        "tqdm.pandas()\n",
        "augment_preprocessed[\"eng\"] = augment_preprocessed[\"document\"].progress_apply(lambda x : kakao_translate(x,\"kr\",\"en\"))\n",
        "augment_preprocessed[\"chn\"] = augment_preprocessed[\"document\"].progress_apply(lambda x : kakao_translate(x,\"kr\",\"cn\"))\n",
        "augment_preprocessed[\"jpn\"] = augment_preprocessed[\"document\"].progress_apply(lambda x : kakao_translate(x,\"kr\",\"jp\"))"
      ],
      "metadata": {
        "id": "zYJ5InXMF6Xo"
      },
      "execution_count": null,
      "outputs": []
    },
    {
      "cell_type": "markdown",
      "source": [
        "### 파파코 크롤링 번역"
      ],
      "metadata": {
        "id": "L7Zmh42Vxujr"
      }
    },
    {
      "cell_type": "code",
      "source": [
        "# 한국어에서 다른 언어로 번역\n",
        "\n",
        "def kor_to_trans(text_data, trans_lang,start_index,final_index):\n",
        "    trans_list = []\n",
        "    target_present = EC.presence_of_element_located((By.XPATH, '//*[@id=\"txtTarget\"]'))\n",
        "\n",
        "    for i in tqdm(range(start_index,final_index)): \n",
        "    \n",
        "        if (i!=0)&(i%99==0):\n",
        "            time.sleep(2)\n",
        "            print('{}th : '.format(i), backtrans)\n",
        "    \n",
        "        try:\n",
        "            driver.get('https://papago.naver.com/?sk=ko&tk='+trans_lang+'&st='+text_data[i])\n",
        "            time.sleep(1.5)\n",
        "            element=WebDriverWait(driver, 10).until(target_present)\n",
        "            time.sleep(0.1)\n",
        "            backtrans = element.text \n",
        "\n",
        "            if (backtrans=='')|(backtrans==' '):\n",
        "                element=WebDriverWait(driver, 10).until(target_present)\n",
        "                backtrans = element.text \n",
        "                trans_list.append(backtrans)\n",
        "            else:\n",
        "                trans_list.append(backtrans)\n",
        "        \n",
        "        except:\n",
        "            trans_list.append('')\n",
        "\n",
        "    return trans_list"
      ],
      "metadata": {
        "id": "SKCW5wXv_5AB"
      },
      "execution_count": null,
      "outputs": []
    },
    {
      "cell_type": "code",
      "source": [
        "# 다른언어에서 한국어로 번역\n",
        "\n",
        "def trans_to_kor(transed_list, transed_lang,start_index,final_index): \n",
        "  \n",
        "    trans_list = []\n",
        "    target_present = EC.presence_of_element_located((By.XPATH, '//*[@id=\"txtTarget\"]'))\n",
        "\n",
        "    for i in tqdm(range(start_index,final_index)): \n",
        "    \n",
        "        if (i!=0)&(i%99==0):\n",
        "            time.sleep(1.5)\n",
        "            print('{}th : '.format(i), backtrans)\n",
        "    \n",
        "        try:\n",
        "            driver.get('https://papago.naver.com/?sk=en&tk='+transed_lang+'&st='+transed_list[i])\n",
        "            time.sleep(2)\n",
        "            element=WebDriverWait(driver, 10).until(target_present)\n",
        "            time.sleep(0.2)\n",
        "            backtrans = element.text \n",
        "\n",
        "            if (backtrans=='')|(backtrans==' '):\n",
        "                element=WebDriverWait(driver, 10).until(target_present)\n",
        "                backtrans = element.text\n",
        "                trans_list.append(backtrans)\n",
        "            else:\n",
        "                trans_list.append(backtrans)\n",
        "    \n",
        "        except:\n",
        "            trans_list.append('')\n",
        "    return trans_list"
      ],
      "metadata": {
        "id": "vVKA7PPlx2G_"
      },
      "execution_count": null,
      "outputs": []
    },
    {
      "cell_type": "code",
      "source": [
        "# 한글 -> 영어 번역\n",
        "trans_list = kor_to_trans(augment_preprocessed['document'], 'en',0,len(augment_preprocessed))\n",
        "augment_preprocessed[\"eng\"] = augment_preprocessed\n",
        "\n",
        "# 영어 -> 한글 재번역\n",
        "trans_list = trans_to_kor(augment_preprocessed['eng'], 'en',0,len(augment_preprocessed))"
      ],
      "metadata": {
        "id": "dbraZBCYx3Mo"
      },
      "execution_count": null,
      "outputs": []
    }
  ]
}