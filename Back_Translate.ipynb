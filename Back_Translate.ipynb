{
  "nbformat": 4,
  "nbformat_minor": 0,
  "metadata": {
    "colab": {
      "name": "Back Translate.ipynb",
      "private_outputs": true,
      "provenance": [],
      "collapsed_sections": [],
      "authorship_tag": "ABX9TyO1/yFWb18h3xQKdQdSJSpn",
      "include_colab_link": true
    },
    "kernelspec": {
      "name": "python3",
      "display_name": "Python 3"
    },
    "language_info": {
      "name": "python"
    }
  },
  "cells": [
    {
      "cell_type": "markdown",
      "metadata": {
        "id": "view-in-github",
        "colab_type": "text"
      },
      "source": [
        "<a href=\"https://colab.research.google.com/github/yxbxn/NLP_contest/blob/main/Back_Translate.ipynb\" target=\"_parent\"><img src=\"https://colab.research.google.com/assets/colab-badge.svg\" alt=\"Open In Colab\"/></a>"
      ]
    },
    {
      "cell_type": "code",
      "execution_count": null,
      "metadata": {
        "id": "Q4sm33T8ayf_"
      },
      "outputs": [],
      "source": [
        "pip install googletrans==4.0.0-rc1"
      ]
    },
    {
      "cell_type": "code",
      "source": [
        ""
      ],
      "metadata": {
        "id": "zHy-Ik__EPTB"
      },
      "execution_count": null,
      "outputs": []
    },
    {
      "cell_type": "code",
      "source": [
        "# 구글드라이브 연동\n",
        "from google.colab import drive\n",
        "drive.mount('/content/MyDrive')"
      ],
      "metadata": {
        "id": "Fa0ZN2WbuZzp"
      },
      "execution_count": null,
      "outputs": []
    },
    {
      "cell_type": "code",
      "source": [
        "# 특정 파일 불러오기\n",
        "import pandas as pd\n",
        "train_preprocessed = pd.read_csv(\"/content/MyDrive/MyDrive/test/train_preprocessed.csv\")\n",
        "test_preprocessed = pd.read_csv(\"/content/MyDrive/MyDrive/test/test_preprocessed.csv\")"
      ],
      "metadata": {
        "id": "R4mtIqy8uaAD"
      },
      "execution_count": null,
      "outputs": []
    },
    {
      "cell_type": "markdown",
      "source": [
        "AI_id 컬럼 부여\n",
        "- 정수 자릿수 맞추기 : https://jlog1016.tistory.com/4"
      ],
      "metadata": {
        "id": "KFJlEEOBz2EL"
      }
    },
    {
      "cell_type": "code",
      "source": [
        "train_id = []\n",
        "for i in range(1,1000001):\n",
        "    num = str(i).zfill(7)\n",
        "    train_id.append(\"id_\" + num)"
      ],
      "metadata": {
        "id": "3ug-Fxeuz13Z"
      },
      "execution_count": null,
      "outputs": []
    },
    {
      "cell_type": "code",
      "source": [
        "test_id = []\n",
        "for i in range(1,100001):\n",
        "    num = str(i).zfill(6)\n",
        "    test_id.append(\"id_\" + num)"
      ],
      "metadata": {
        "id": "5gOgSlBpz1tB"
      },
      "execution_count": null,
      "outputs": []
    },
    {
      "cell_type": "code",
      "source": [
        "train_preprocessed[\"AI_id\"] = train_id\n",
        "test_preprocessed[\"AI_id\"] = test_id"
      ],
      "metadata": {
        "id": "7UW5MRMVz1fQ"
      },
      "execution_count": null,
      "outputs": []
    },
    {
      "cell_type": "markdown",
      "source": [
        "# **Data Augmentation**"
      ],
      "metadata": {
        "id": "UFMV5qW9uwvz"
      }
    },
    {
      "cell_type": "code",
      "source": [
        "train_preprocessed[\"label\"].value_counts().describe()"
      ],
      "metadata": {
        "id": "LSDrOijNuv2O"
      },
      "execution_count": null,
      "outputs": []
    },
    {
      "cell_type": "markdown",
      "source": [
        "230개 미만인 label 제거"
      ],
      "metadata": {
        "id": "CLLqWU4Mu29h"
      }
    },
    {
      "cell_type": "code",
      "source": [
        "except_label = train_preprocessed[\"label\"].value_counts()[train_preprocessed[\"label\"].value_counts() < 230].index\n",
        "except_label"
      ],
      "metadata": {
        "id": "5UJ7iZTduwLd"
      },
      "execution_count": null,
      "outputs": []
    },
    {
      "cell_type": "code",
      "source": [
        "mask = train_preprocessed['label'].isin(except_label)\n",
        "train_preprocessed = train_preprocessed[~mask].reset_index(drop=True)\n",
        "train_preprocessed.head()"
      ],
      "metadata": {
        "id": "FNdQ9O0wu5pN"
      },
      "execution_count": null,
      "outputs": []
    },
    {
      "cell_type": "code",
      "source": [
        "train_preprocessed[\"label\"].value_counts().describe()"
      ],
      "metadata": {
        "id": "QS16J3b4wfRh"
      },
      "execution_count": null,
      "outputs": []
    },
    {
      "cell_type": "code",
      "source": [
        ""
      ],
      "metadata": {
        "id": "014JATPFDC09"
      },
      "execution_count": null,
      "outputs": []
    },
    {
      "cell_type": "markdown",
      "source": [
        "남아있는 label Q1 : 660\n",
        "- label 개수가 660개 이하인 데이터 증강"
      ],
      "metadata": {
        "id": "paP6fHmfvQuW"
      }
    },
    {
      "cell_type": "code",
      "source": [
        "augment_label = train_preprocessed[\"label\"].value_counts()[train_preprocessed[\"label\"].value_counts() < 230].index\n",
        "mask = train_preprocessed['label'].isin(augment_label)\n",
        "augment_preprocessed = train_preprocessed[mask].reset_index(drop=True)\n",
        "augment_preprocessed.head()"
      ],
      "metadata": {
        "id": "TZQJz_u0vAX5"
      },
      "execution_count": null,
      "outputs": []
    },
    {
      "cell_type": "code",
      "source": [
        "# 증강시킬 데이터\n",
        "augment_preprocessed"
      ],
      "metadata": {
        "id": "QnghNOSAvAN_"
      },
      "execution_count": null,
      "outputs": []
    },
    {
      "cell_type": "code",
      "source": [
        "from googletrans import Translator\n",
        "\n",
        "# Translator 클래스 객체 선언\n",
        "translator = Translator()"
      ],
      "metadata": {
        "id": "TACrtoema21F"
      },
      "execution_count": null,
      "outputs": []
    },
    {
      "cell_type": "code",
      "source": [
        "import requests\n",
        "url = \"https://translate.kakao.com/translator/translate.json\"\n",
        "\n",
        "def kakao_translate(query,from_lang,to_lang):\n",
        "\n",
        "    headers = {\n",
        "        \"Referer\": \"https://translate.kakao.com/\",\n",
        "        \"User-Agent\": \"Mozilla/5.0\"}\n",
        "\n",
        "    data = {\n",
        "        \"queryLanguage\": from_lang,\n",
        "        \"resultLanguage\": to_lang,\n",
        "        \"q\": query}\n",
        "\n",
        "    resp = requests.post(url, headers=headers, data=data)\n",
        "    data = resp.json()['result']['output'][0][0]\n",
        "    return data\n",
        "\n",
        "def back_translate(query,to_lang):\n",
        "    # 한국어 -> 특정언어 번역\n",
        "    data = kakao_translate(query,\"kr\",to_lang)\n",
        "    \n",
        "    # 특정언어 -> 한국어 번역\n",
        "    back_data = kakao_translate(data,to_lang,\"kr\")\n",
        "    \n",
        "    return  back_data"
      ],
      "metadata": {
        "id": "rGAM03J0bkaw"
      },
      "execution_count": null,
      "outputs": []
    },
    {
      "cell_type": "code",
      "source": [
        "txt = \"시청에서 재정과 인력 일반 공공행정 지방행정 집행\"\n",
        "\n",
        "if __name__ == \"__main__\":\n",
        "    print(back_translate(txt,\"cn\"))\n",
        "    print(back_translate(txt,\"en\"))\n",
        "    print(back_translate(txt,\"jp\"))"
      ],
      "metadata": {
        "id": "YNnStdWauVFf"
      },
      "execution_count": null,
      "outputs": []
    },
    {
      "cell_type": "code",
      "source": [
        "from tqdm import tqdm, tqdm_notebook\n",
        "cn_df = augment_preprocessed.copy()\n",
        "en_df = augment_preprocessed.copy()\n",
        "jp_df = augment_preprocessed.copy()\n",
        "\n",
        "for idx, row in tqdm_notebook(augment_preprocessed.iterrows()):\n",
        "    cn_df.loc[idx,\"document\"] = back_translate(cn_df.loc[idx,\"document\"]\n",
        "                                               ,\"cn\")\n",
        "    en_df.loc[idx,\"document\"] = back_translate(cn_df.loc[idx,\"document\"]\n",
        "                                               ,\"en\")\n",
        "    jp_df.loc[idx,\"document\"] = back_translate(cn_df.loc[idx,\"document\"]\n",
        "                                               ,\"jp\")"
      ],
      "metadata": {
        "id": "cMtMe4_nx92i"
      },
      "execution_count": null,
      "outputs": []
    },
    {
      "cell_type": "code",
      "source": [
        "for idx, row in tqdm_notebook(augment_preprocessed.iterrows()):\n",
        "    en_df.loc[idx,\"document\"] = back_translate(cn_df.loc[idx,\"document\"]\n",
        "                                               ,\"en\")"
      ],
      "metadata": {
        "id": "ed9Hdr9H6Feq"
      },
      "execution_count": null,
      "outputs": []
    },
    {
      "cell_type": "code",
      "source": [
        "for idx, row in tqdm_notebook(augment_preprocessed.iterrows()):\n",
        "    jp_df.loc[idx,\"document\"] = back_translate(cn_df.loc[idx,\"document\"]\n",
        "                                               ,\"jp\")"
      ],
      "metadata": {
        "id": "UZArS5Hu6FUP"
      },
      "execution_count": null,
      "outputs": []
    }
  ]
}