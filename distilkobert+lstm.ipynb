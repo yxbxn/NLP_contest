{
  "nbformat": 4,
  "nbformat_minor": 0,
  "metadata": {
    "colab": {
      "name": "distilkobert+lstm.ipynb",
      "provenance": []
    },
    "kernelspec": {
      "name": "python3",
      "display_name": "Python 3"
    },
    "language_info": {
      "name": "python"
    },
    "accelerator": "GPU",
    "widgets": {
      "application/vnd.jupyter.widget-state+json": {
        "8e1ec8fbc7824448babdc23e69ce4e43": {
          "model_module": "@jupyter-widgets/controls",
          "model_name": "HBoxModel",
          "model_module_version": "1.5.0",
          "state": {
            "_dom_classes": [],
            "_model_module": "@jupyter-widgets/controls",
            "_model_module_version": "1.5.0",
            "_model_name": "HBoxModel",
            "_view_count": null,
            "_view_module": "@jupyter-widgets/controls",
            "_view_module_version": "1.5.0",
            "_view_name": "HBoxView",
            "box_style": "",
            "children": [
              "IPY_MODEL_833769bddd6c484ca2b508f9c1b04dff",
              "IPY_MODEL_bd84652a550345179537dac8c4ce1188",
              "IPY_MODEL_94b8a5bae3a947508c0c94da4c967d35"
            ],
            "layout": "IPY_MODEL_0272a6b568794eaea802a5faf10a0c6c"
          }
        },
        "833769bddd6c484ca2b508f9c1b04dff": {
          "model_module": "@jupyter-widgets/controls",
          "model_name": "HTMLModel",
          "model_module_version": "1.5.0",
          "state": {
            "_dom_classes": [],
            "_model_module": "@jupyter-widgets/controls",
            "_model_module_version": "1.5.0",
            "_model_name": "HTMLModel",
            "_view_count": null,
            "_view_module": "@jupyter-widgets/controls",
            "_view_module_version": "1.5.0",
            "_view_name": "HTMLView",
            "description": "",
            "description_tooltip": null,
            "layout": "IPY_MODEL_48edc2d896ac40c4bc0197ce07b1a50c",
            "placeholder": "​",
            "style": "IPY_MODEL_9a1ba8c57d76494ab8be7c0047ebf98c",
            "value": "Downloading: 100%"
          }
        },
        "bd84652a550345179537dac8c4ce1188": {
          "model_module": "@jupyter-widgets/controls",
          "model_name": "FloatProgressModel",
          "model_module_version": "1.5.0",
          "state": {
            "_dom_classes": [],
            "_model_module": "@jupyter-widgets/controls",
            "_model_module_version": "1.5.0",
            "_model_name": "FloatProgressModel",
            "_view_count": null,
            "_view_module": "@jupyter-widgets/controls",
            "_view_module_version": "1.5.0",
            "_view_name": "ProgressView",
            "bar_style": "success",
            "description": "",
            "description_tooltip": null,
            "layout": "IPY_MODEL_e2e7a8a5a27949cf8033ffc4e80002ae",
            "max": 371391,
            "min": 0,
            "orientation": "horizontal",
            "style": "IPY_MODEL_3f7a659e0f454f5f95a49d10f7d9c5d3",
            "value": 371391
          }
        },
        "94b8a5bae3a947508c0c94da4c967d35": {
          "model_module": "@jupyter-widgets/controls",
          "model_name": "HTMLModel",
          "model_module_version": "1.5.0",
          "state": {
            "_dom_classes": [],
            "_model_module": "@jupyter-widgets/controls",
            "_model_module_version": "1.5.0",
            "_model_name": "HTMLModel",
            "_view_count": null,
            "_view_module": "@jupyter-widgets/controls",
            "_view_module_version": "1.5.0",
            "_view_name": "HTMLView",
            "description": "",
            "description_tooltip": null,
            "layout": "IPY_MODEL_e3809381042542fab432da043ab83cb0",
            "placeholder": "​",
            "style": "IPY_MODEL_adb981e5651d44dba3168401d3d47003",
            "value": " 363k/363k [00:00&lt;00:00, 6.23MB/s]"
          }
        },
        "0272a6b568794eaea802a5faf10a0c6c": {
          "model_module": "@jupyter-widgets/base",
          "model_name": "LayoutModel",
          "model_module_version": "1.2.0",
          "state": {
            "_model_module": "@jupyter-widgets/base",
            "_model_module_version": "1.2.0",
            "_model_name": "LayoutModel",
            "_view_count": null,
            "_view_module": "@jupyter-widgets/base",
            "_view_module_version": "1.2.0",
            "_view_name": "LayoutView",
            "align_content": null,
            "align_items": null,
            "align_self": null,
            "border": null,
            "bottom": null,
            "display": null,
            "flex": null,
            "flex_flow": null,
            "grid_area": null,
            "grid_auto_columns": null,
            "grid_auto_flow": null,
            "grid_auto_rows": null,
            "grid_column": null,
            "grid_gap": null,
            "grid_row": null,
            "grid_template_areas": null,
            "grid_template_columns": null,
            "grid_template_rows": null,
            "height": null,
            "justify_content": null,
            "justify_items": null,
            "left": null,
            "margin": null,
            "max_height": null,
            "max_width": null,
            "min_height": null,
            "min_width": null,
            "object_fit": null,
            "object_position": null,
            "order": null,
            "overflow": null,
            "overflow_x": null,
            "overflow_y": null,
            "padding": null,
            "right": null,
            "top": null,
            "visibility": null,
            "width": null
          }
        },
        "48edc2d896ac40c4bc0197ce07b1a50c": {
          "model_module": "@jupyter-widgets/base",
          "model_name": "LayoutModel",
          "model_module_version": "1.2.0",
          "state": {
            "_model_module": "@jupyter-widgets/base",
            "_model_module_version": "1.2.0",
            "_model_name": "LayoutModel",
            "_view_count": null,
            "_view_module": "@jupyter-widgets/base",
            "_view_module_version": "1.2.0",
            "_view_name": "LayoutView",
            "align_content": null,
            "align_items": null,
            "align_self": null,
            "border": null,
            "bottom": null,
            "display": null,
            "flex": null,
            "flex_flow": null,
            "grid_area": null,
            "grid_auto_columns": null,
            "grid_auto_flow": null,
            "grid_auto_rows": null,
            "grid_column": null,
            "grid_gap": null,
            "grid_row": null,
            "grid_template_areas": null,
            "grid_template_columns": null,
            "grid_template_rows": null,
            "height": null,
            "justify_content": null,
            "justify_items": null,
            "left": null,
            "margin": null,
            "max_height": null,
            "max_width": null,
            "min_height": null,
            "min_width": null,
            "object_fit": null,
            "object_position": null,
            "order": null,
            "overflow": null,
            "overflow_x": null,
            "overflow_y": null,
            "padding": null,
            "right": null,
            "top": null,
            "visibility": null,
            "width": null
          }
        },
        "9a1ba8c57d76494ab8be7c0047ebf98c": {
          "model_module": "@jupyter-widgets/controls",
          "model_name": "DescriptionStyleModel",
          "model_module_version": "1.5.0",
          "state": {
            "_model_module": "@jupyter-widgets/controls",
            "_model_module_version": "1.5.0",
            "_model_name": "DescriptionStyleModel",
            "_view_count": null,
            "_view_module": "@jupyter-widgets/base",
            "_view_module_version": "1.2.0",
            "_view_name": "StyleView",
            "description_width": ""
          }
        },
        "e2e7a8a5a27949cf8033ffc4e80002ae": {
          "model_module": "@jupyter-widgets/base",
          "model_name": "LayoutModel",
          "model_module_version": "1.2.0",
          "state": {
            "_model_module": "@jupyter-widgets/base",
            "_model_module_version": "1.2.0",
            "_model_name": "LayoutModel",
            "_view_count": null,
            "_view_module": "@jupyter-widgets/base",
            "_view_module_version": "1.2.0",
            "_view_name": "LayoutView",
            "align_content": null,
            "align_items": null,
            "align_self": null,
            "border": null,
            "bottom": null,
            "display": null,
            "flex": null,
            "flex_flow": null,
            "grid_area": null,
            "grid_auto_columns": null,
            "grid_auto_flow": null,
            "grid_auto_rows": null,
            "grid_column": null,
            "grid_gap": null,
            "grid_row": null,
            "grid_template_areas": null,
            "grid_template_columns": null,
            "grid_template_rows": null,
            "height": null,
            "justify_content": null,
            "justify_items": null,
            "left": null,
            "margin": null,
            "max_height": null,
            "max_width": null,
            "min_height": null,
            "min_width": null,
            "object_fit": null,
            "object_position": null,
            "order": null,
            "overflow": null,
            "overflow_x": null,
            "overflow_y": null,
            "padding": null,
            "right": null,
            "top": null,
            "visibility": null,
            "width": null
          }
        },
        "3f7a659e0f454f5f95a49d10f7d9c5d3": {
          "model_module": "@jupyter-widgets/controls",
          "model_name": "ProgressStyleModel",
          "model_module_version": "1.5.0",
          "state": {
            "_model_module": "@jupyter-widgets/controls",
            "_model_module_version": "1.5.0",
            "_model_name": "ProgressStyleModel",
            "_view_count": null,
            "_view_module": "@jupyter-widgets/base",
            "_view_module_version": "1.2.0",
            "_view_name": "StyleView",
            "bar_color": null,
            "description_width": ""
          }
        },
        "e3809381042542fab432da043ab83cb0": {
          "model_module": "@jupyter-widgets/base",
          "model_name": "LayoutModel",
          "model_module_version": "1.2.0",
          "state": {
            "_model_module": "@jupyter-widgets/base",
            "_model_module_version": "1.2.0",
            "_model_name": "LayoutModel",
            "_view_count": null,
            "_view_module": "@jupyter-widgets/base",
            "_view_module_version": "1.2.0",
            "_view_name": "LayoutView",
            "align_content": null,
            "align_items": null,
            "align_self": null,
            "border": null,
            "bottom": null,
            "display": null,
            "flex": null,
            "flex_flow": null,
            "grid_area": null,
            "grid_auto_columns": null,
            "grid_auto_flow": null,
            "grid_auto_rows": null,
            "grid_column": null,
            "grid_gap": null,
            "grid_row": null,
            "grid_template_areas": null,
            "grid_template_columns": null,
            "grid_template_rows": null,
            "height": null,
            "justify_content": null,
            "justify_items": null,
            "left": null,
            "margin": null,
            "max_height": null,
            "max_width": null,
            "min_height": null,
            "min_width": null,
            "object_fit": null,
            "object_position": null,
            "order": null,
            "overflow": null,
            "overflow_x": null,
            "overflow_y": null,
            "padding": null,
            "right": null,
            "top": null,
            "visibility": null,
            "width": null
          }
        },
        "adb981e5651d44dba3168401d3d47003": {
          "model_module": "@jupyter-widgets/controls",
          "model_name": "DescriptionStyleModel",
          "model_module_version": "1.5.0",
          "state": {
            "_model_module": "@jupyter-widgets/controls",
            "_model_module_version": "1.5.0",
            "_model_name": "DescriptionStyleModel",
            "_view_count": null,
            "_view_module": "@jupyter-widgets/base",
            "_view_module_version": "1.2.0",
            "_view_name": "StyleView",
            "description_width": ""
          }
        },
        "334d599010cc4971b65451cbba9c56d2": {
          "model_module": "@jupyter-widgets/controls",
          "model_name": "HBoxModel",
          "model_module_version": "1.5.0",
          "state": {
            "_dom_classes": [],
            "_model_module": "@jupyter-widgets/controls",
            "_model_module_version": "1.5.0",
            "_model_name": "HBoxModel",
            "_view_count": null,
            "_view_module": "@jupyter-widgets/controls",
            "_view_module_version": "1.5.0",
            "_view_name": "HBoxView",
            "box_style": "",
            "children": [
              "IPY_MODEL_3f49e6740b774b2296576c6536fc184f",
              "IPY_MODEL_14423a28d1ef4790bae83459ef14c93b",
              "IPY_MODEL_674e78e08ed342319dabda885cd4a30c"
            ],
            "layout": "IPY_MODEL_18a8f5cfb7784e3ebc3e229d9dec23e2"
          }
        },
        "3f49e6740b774b2296576c6536fc184f": {
          "model_module": "@jupyter-widgets/controls",
          "model_name": "HTMLModel",
          "model_module_version": "1.5.0",
          "state": {
            "_dom_classes": [],
            "_model_module": "@jupyter-widgets/controls",
            "_model_module_version": "1.5.0",
            "_model_name": "HTMLModel",
            "_view_count": null,
            "_view_module": "@jupyter-widgets/controls",
            "_view_module_version": "1.5.0",
            "_view_name": "HTMLView",
            "description": "",
            "description_tooltip": null,
            "layout": "IPY_MODEL_b372a51b202144d3bae8b4ec39d519e8",
            "placeholder": "​",
            "style": "IPY_MODEL_2269f87921f348b4877e552671e2fe8b",
            "value": "Downloading: 100%"
          }
        },
        "14423a28d1ef4790bae83459ef14c93b": {
          "model_module": "@jupyter-widgets/controls",
          "model_name": "FloatProgressModel",
          "model_module_version": "1.5.0",
          "state": {
            "_dom_classes": [],
            "_model_module": "@jupyter-widgets/controls",
            "_model_module_version": "1.5.0",
            "_model_name": "FloatProgressModel",
            "_view_count": null,
            "_view_module": "@jupyter-widgets/controls",
            "_view_module_version": "1.5.0",
            "_view_name": "ProgressView",
            "bar_style": "success",
            "description": "",
            "description_tooltip": null,
            "layout": "IPY_MODEL_38fb549a2edc4d159e87567f9f27981b",
            "max": 483,
            "min": 0,
            "orientation": "horizontal",
            "style": "IPY_MODEL_27ef54a05e7745f1bd0610e6c3726f18",
            "value": 483
          }
        },
        "674e78e08ed342319dabda885cd4a30c": {
          "model_module": "@jupyter-widgets/controls",
          "model_name": "HTMLModel",
          "model_module_version": "1.5.0",
          "state": {
            "_dom_classes": [],
            "_model_module": "@jupyter-widgets/controls",
            "_model_module_version": "1.5.0",
            "_model_name": "HTMLModel",
            "_view_count": null,
            "_view_module": "@jupyter-widgets/controls",
            "_view_module_version": "1.5.0",
            "_view_name": "HTMLView",
            "description": "",
            "description_tooltip": null,
            "layout": "IPY_MODEL_9420db5b08044055a5759db673a649dd",
            "placeholder": "​",
            "style": "IPY_MODEL_25cf5ac703b5466c95863084a5f75134",
            "value": " 483/483 [00:00&lt;00:00, 15.9kB/s]"
          }
        },
        "18a8f5cfb7784e3ebc3e229d9dec23e2": {
          "model_module": "@jupyter-widgets/base",
          "model_name": "LayoutModel",
          "model_module_version": "1.2.0",
          "state": {
            "_model_module": "@jupyter-widgets/base",
            "_model_module_version": "1.2.0",
            "_model_name": "LayoutModel",
            "_view_count": null,
            "_view_module": "@jupyter-widgets/base",
            "_view_module_version": "1.2.0",
            "_view_name": "LayoutView",
            "align_content": null,
            "align_items": null,
            "align_self": null,
            "border": null,
            "bottom": null,
            "display": null,
            "flex": null,
            "flex_flow": null,
            "grid_area": null,
            "grid_auto_columns": null,
            "grid_auto_flow": null,
            "grid_auto_rows": null,
            "grid_column": null,
            "grid_gap": null,
            "grid_row": null,
            "grid_template_areas": null,
            "grid_template_columns": null,
            "grid_template_rows": null,
            "height": null,
            "justify_content": null,
            "justify_items": null,
            "left": null,
            "margin": null,
            "max_height": null,
            "max_width": null,
            "min_height": null,
            "min_width": null,
            "object_fit": null,
            "object_position": null,
            "order": null,
            "overflow": null,
            "overflow_x": null,
            "overflow_y": null,
            "padding": null,
            "right": null,
            "top": null,
            "visibility": null,
            "width": null
          }
        },
        "b372a51b202144d3bae8b4ec39d519e8": {
          "model_module": "@jupyter-widgets/base",
          "model_name": "LayoutModel",
          "model_module_version": "1.2.0",
          "state": {
            "_model_module": "@jupyter-widgets/base",
            "_model_module_version": "1.2.0",
            "_model_name": "LayoutModel",
            "_view_count": null,
            "_view_module": "@jupyter-widgets/base",
            "_view_module_version": "1.2.0",
            "_view_name": "LayoutView",
            "align_content": null,
            "align_items": null,
            "align_self": null,
            "border": null,
            "bottom": null,
            "display": null,
            "flex": null,
            "flex_flow": null,
            "grid_area": null,
            "grid_auto_columns": null,
            "grid_auto_flow": null,
            "grid_auto_rows": null,
            "grid_column": null,
            "grid_gap": null,
            "grid_row": null,
            "grid_template_areas": null,
            "grid_template_columns": null,
            "grid_template_rows": null,
            "height": null,
            "justify_content": null,
            "justify_items": null,
            "left": null,
            "margin": null,
            "max_height": null,
            "max_width": null,
            "min_height": null,
            "min_width": null,
            "object_fit": null,
            "object_position": null,
            "order": null,
            "overflow": null,
            "overflow_x": null,
            "overflow_y": null,
            "padding": null,
            "right": null,
            "top": null,
            "visibility": null,
            "width": null
          }
        },
        "2269f87921f348b4877e552671e2fe8b": {
          "model_module": "@jupyter-widgets/controls",
          "model_name": "DescriptionStyleModel",
          "model_module_version": "1.5.0",
          "state": {
            "_model_module": "@jupyter-widgets/controls",
            "_model_module_version": "1.5.0",
            "_model_name": "DescriptionStyleModel",
            "_view_count": null,
            "_view_module": "@jupyter-widgets/base",
            "_view_module_version": "1.2.0",
            "_view_name": "StyleView",
            "description_width": ""
          }
        },
        "38fb549a2edc4d159e87567f9f27981b": {
          "model_module": "@jupyter-widgets/base",
          "model_name": "LayoutModel",
          "model_module_version": "1.2.0",
          "state": {
            "_model_module": "@jupyter-widgets/base",
            "_model_module_version": "1.2.0",
            "_model_name": "LayoutModel",
            "_view_count": null,
            "_view_module": "@jupyter-widgets/base",
            "_view_module_version": "1.2.0",
            "_view_name": "LayoutView",
            "align_content": null,
            "align_items": null,
            "align_self": null,
            "border": null,
            "bottom": null,
            "display": null,
            "flex": null,
            "flex_flow": null,
            "grid_area": null,
            "grid_auto_columns": null,
            "grid_auto_flow": null,
            "grid_auto_rows": null,
            "grid_column": null,
            "grid_gap": null,
            "grid_row": null,
            "grid_template_areas": null,
            "grid_template_columns": null,
            "grid_template_rows": null,
            "height": null,
            "justify_content": null,
            "justify_items": null,
            "left": null,
            "margin": null,
            "max_height": null,
            "max_width": null,
            "min_height": null,
            "min_width": null,
            "object_fit": null,
            "object_position": null,
            "order": null,
            "overflow": null,
            "overflow_x": null,
            "overflow_y": null,
            "padding": null,
            "right": null,
            "top": null,
            "visibility": null,
            "width": null
          }
        },
        "27ef54a05e7745f1bd0610e6c3726f18": {
          "model_module": "@jupyter-widgets/controls",
          "model_name": "ProgressStyleModel",
          "model_module_version": "1.5.0",
          "state": {
            "_model_module": "@jupyter-widgets/controls",
            "_model_module_version": "1.5.0",
            "_model_name": "ProgressStyleModel",
            "_view_count": null,
            "_view_module": "@jupyter-widgets/base",
            "_view_module_version": "1.2.0",
            "_view_name": "StyleView",
            "bar_color": null,
            "description_width": ""
          }
        },
        "9420db5b08044055a5759db673a649dd": {
          "model_module": "@jupyter-widgets/base",
          "model_name": "LayoutModel",
          "model_module_version": "1.2.0",
          "state": {
            "_model_module": "@jupyter-widgets/base",
            "_model_module_version": "1.2.0",
            "_model_name": "LayoutModel",
            "_view_count": null,
            "_view_module": "@jupyter-widgets/base",
            "_view_module_version": "1.2.0",
            "_view_name": "LayoutView",
            "align_content": null,
            "align_items": null,
            "align_self": null,
            "border": null,
            "bottom": null,
            "display": null,
            "flex": null,
            "flex_flow": null,
            "grid_area": null,
            "grid_auto_columns": null,
            "grid_auto_flow": null,
            "grid_auto_rows": null,
            "grid_column": null,
            "grid_gap": null,
            "grid_row": null,
            "grid_template_areas": null,
            "grid_template_columns": null,
            "grid_template_rows": null,
            "height": null,
            "justify_content": null,
            "justify_items": null,
            "left": null,
            "margin": null,
            "max_height": null,
            "max_width": null,
            "min_height": null,
            "min_width": null,
            "object_fit": null,
            "object_position": null,
            "order": null,
            "overflow": null,
            "overflow_x": null,
            "overflow_y": null,
            "padding": null,
            "right": null,
            "top": null,
            "visibility": null,
            "width": null
          }
        },
        "25cf5ac703b5466c95863084a5f75134": {
          "model_module": "@jupyter-widgets/controls",
          "model_name": "DescriptionStyleModel",
          "model_module_version": "1.5.0",
          "state": {
            "_model_module": "@jupyter-widgets/controls",
            "_model_module_version": "1.5.0",
            "_model_name": "DescriptionStyleModel",
            "_view_count": null,
            "_view_module": "@jupyter-widgets/base",
            "_view_module_version": "1.2.0",
            "_view_name": "StyleView",
            "description_width": ""
          }
        },
        "c24b47554a994f85b2fba2a988ac478b": {
          "model_module": "@jupyter-widgets/controls",
          "model_name": "HBoxModel",
          "model_module_version": "1.5.0",
          "state": {
            "_dom_classes": [],
            "_model_module": "@jupyter-widgets/controls",
            "_model_module_version": "1.5.0",
            "_model_name": "HBoxModel",
            "_view_count": null,
            "_view_module": "@jupyter-widgets/controls",
            "_view_module_version": "1.5.0",
            "_view_name": "HBoxView",
            "box_style": "",
            "children": [
              "IPY_MODEL_9ff10e1aeec84abc876c6964ece29b5e",
              "IPY_MODEL_ffa14c80f9514fa3baa39abcd8271e31",
              "IPY_MODEL_f984c3eff3f14bbba231ebcc6f472472"
            ],
            "layout": "IPY_MODEL_cfe82edaf79746c9ac092f51d49436c3"
          }
        },
        "9ff10e1aeec84abc876c6964ece29b5e": {
          "model_module": "@jupyter-widgets/controls",
          "model_name": "HTMLModel",
          "model_module_version": "1.5.0",
          "state": {
            "_dom_classes": [],
            "_model_module": "@jupyter-widgets/controls",
            "_model_module_version": "1.5.0",
            "_model_name": "HTMLModel",
            "_view_count": null,
            "_view_module": "@jupyter-widgets/controls",
            "_view_module_version": "1.5.0",
            "_view_name": "HTMLView",
            "description": "",
            "description_tooltip": null,
            "layout": "IPY_MODEL_07122984edfc49c1b8c19dfe89a76d2f",
            "placeholder": "​",
            "style": "IPY_MODEL_2eaa7a7ee1a84611b1504ccc937049b8",
            "value": "Downloading: 100%"
          }
        },
        "ffa14c80f9514fa3baa39abcd8271e31": {
          "model_module": "@jupyter-widgets/controls",
          "model_name": "FloatProgressModel",
          "model_module_version": "1.5.0",
          "state": {
            "_dom_classes": [],
            "_model_module": "@jupyter-widgets/controls",
            "_model_module_version": "1.5.0",
            "_model_name": "FloatProgressModel",
            "_view_count": null,
            "_view_module": "@jupyter-widgets/controls",
            "_view_module_version": "1.5.0",
            "_view_name": "ProgressView",
            "bar_style": "success",
            "description": "",
            "description_tooltip": null,
            "layout": "IPY_MODEL_81cb8191626a4321adb5a1f51182c159",
            "max": 363423424,
            "min": 0,
            "orientation": "horizontal",
            "style": "IPY_MODEL_cb3c5e5fd24d49078f587bb11094638b",
            "value": 363423424
          }
        },
        "f984c3eff3f14bbba231ebcc6f472472": {
          "model_module": "@jupyter-widgets/controls",
          "model_name": "HTMLModel",
          "model_module_version": "1.5.0",
          "state": {
            "_dom_classes": [],
            "_model_module": "@jupyter-widgets/controls",
            "_model_module_version": "1.5.0",
            "_model_name": "HTMLModel",
            "_view_count": null,
            "_view_module": "@jupyter-widgets/controls",
            "_view_module_version": "1.5.0",
            "_view_name": "HTMLView",
            "description": "",
            "description_tooltip": null,
            "layout": "IPY_MODEL_0d5d98a6a8e94aa08f6f4ec867d02325",
            "placeholder": "​",
            "style": "IPY_MODEL_7a3628a06bdc4913b8492e29c50f24c1",
            "value": " 347M/347M [00:28&lt;00:00, 6.15MB/s]"
          }
        },
        "cfe82edaf79746c9ac092f51d49436c3": {
          "model_module": "@jupyter-widgets/base",
          "model_name": "LayoutModel",
          "model_module_version": "1.2.0",
          "state": {
            "_model_module": "@jupyter-widgets/base",
            "_model_module_version": "1.2.0",
            "_model_name": "LayoutModel",
            "_view_count": null,
            "_view_module": "@jupyter-widgets/base",
            "_view_module_version": "1.2.0",
            "_view_name": "LayoutView",
            "align_content": null,
            "align_items": null,
            "align_self": null,
            "border": null,
            "bottom": null,
            "display": null,
            "flex": null,
            "flex_flow": null,
            "grid_area": null,
            "grid_auto_columns": null,
            "grid_auto_flow": null,
            "grid_auto_rows": null,
            "grid_column": null,
            "grid_gap": null,
            "grid_row": null,
            "grid_template_areas": null,
            "grid_template_columns": null,
            "grid_template_rows": null,
            "height": null,
            "justify_content": null,
            "justify_items": null,
            "left": null,
            "margin": null,
            "max_height": null,
            "max_width": null,
            "min_height": null,
            "min_width": null,
            "object_fit": null,
            "object_position": null,
            "order": null,
            "overflow": null,
            "overflow_x": null,
            "overflow_y": null,
            "padding": null,
            "right": null,
            "top": null,
            "visibility": null,
            "width": null
          }
        },
        "07122984edfc49c1b8c19dfe89a76d2f": {
          "model_module": "@jupyter-widgets/base",
          "model_name": "LayoutModel",
          "model_module_version": "1.2.0",
          "state": {
            "_model_module": "@jupyter-widgets/base",
            "_model_module_version": "1.2.0",
            "_model_name": "LayoutModel",
            "_view_count": null,
            "_view_module": "@jupyter-widgets/base",
            "_view_module_version": "1.2.0",
            "_view_name": "LayoutView",
            "align_content": null,
            "align_items": null,
            "align_self": null,
            "border": null,
            "bottom": null,
            "display": null,
            "flex": null,
            "flex_flow": null,
            "grid_area": null,
            "grid_auto_columns": null,
            "grid_auto_flow": null,
            "grid_auto_rows": null,
            "grid_column": null,
            "grid_gap": null,
            "grid_row": null,
            "grid_template_areas": null,
            "grid_template_columns": null,
            "grid_template_rows": null,
            "height": null,
            "justify_content": null,
            "justify_items": null,
            "left": null,
            "margin": null,
            "max_height": null,
            "max_width": null,
            "min_height": null,
            "min_width": null,
            "object_fit": null,
            "object_position": null,
            "order": null,
            "overflow": null,
            "overflow_x": null,
            "overflow_y": null,
            "padding": null,
            "right": null,
            "top": null,
            "visibility": null,
            "width": null
          }
        },
        "2eaa7a7ee1a84611b1504ccc937049b8": {
          "model_module": "@jupyter-widgets/controls",
          "model_name": "DescriptionStyleModel",
          "model_module_version": "1.5.0",
          "state": {
            "_model_module": "@jupyter-widgets/controls",
            "_model_module_version": "1.5.0",
            "_model_name": "DescriptionStyleModel",
            "_view_count": null,
            "_view_module": "@jupyter-widgets/base",
            "_view_module_version": "1.2.0",
            "_view_name": "StyleView",
            "description_width": ""
          }
        },
        "81cb8191626a4321adb5a1f51182c159": {
          "model_module": "@jupyter-widgets/base",
          "model_name": "LayoutModel",
          "model_module_version": "1.2.0",
          "state": {
            "_model_module": "@jupyter-widgets/base",
            "_model_module_version": "1.2.0",
            "_model_name": "LayoutModel",
            "_view_count": null,
            "_view_module": "@jupyter-widgets/base",
            "_view_module_version": "1.2.0",
            "_view_name": "LayoutView",
            "align_content": null,
            "align_items": null,
            "align_self": null,
            "border": null,
            "bottom": null,
            "display": null,
            "flex": null,
            "flex_flow": null,
            "grid_area": null,
            "grid_auto_columns": null,
            "grid_auto_flow": null,
            "grid_auto_rows": null,
            "grid_column": null,
            "grid_gap": null,
            "grid_row": null,
            "grid_template_areas": null,
            "grid_template_columns": null,
            "grid_template_rows": null,
            "height": null,
            "justify_content": null,
            "justify_items": null,
            "left": null,
            "margin": null,
            "max_height": null,
            "max_width": null,
            "min_height": null,
            "min_width": null,
            "object_fit": null,
            "object_position": null,
            "order": null,
            "overflow": null,
            "overflow_x": null,
            "overflow_y": null,
            "padding": null,
            "right": null,
            "top": null,
            "visibility": null,
            "width": null
          }
        },
        "cb3c5e5fd24d49078f587bb11094638b": {
          "model_module": "@jupyter-widgets/controls",
          "model_name": "ProgressStyleModel",
          "model_module_version": "1.5.0",
          "state": {
            "_model_module": "@jupyter-widgets/controls",
            "_model_module_version": "1.5.0",
            "_model_name": "ProgressStyleModel",
            "_view_count": null,
            "_view_module": "@jupyter-widgets/base",
            "_view_module_version": "1.2.0",
            "_view_name": "StyleView",
            "bar_color": null,
            "description_width": ""
          }
        },
        "0d5d98a6a8e94aa08f6f4ec867d02325": {
          "model_module": "@jupyter-widgets/base",
          "model_name": "LayoutModel",
          "model_module_version": "1.2.0",
          "state": {
            "_model_module": "@jupyter-widgets/base",
            "_model_module_version": "1.2.0",
            "_model_name": "LayoutModel",
            "_view_count": null,
            "_view_module": "@jupyter-widgets/base",
            "_view_module_version": "1.2.0",
            "_view_name": "LayoutView",
            "align_content": null,
            "align_items": null,
            "align_self": null,
            "border": null,
            "bottom": null,
            "display": null,
            "flex": null,
            "flex_flow": null,
            "grid_area": null,
            "grid_auto_columns": null,
            "grid_auto_flow": null,
            "grid_auto_rows": null,
            "grid_column": null,
            "grid_gap": null,
            "grid_row": null,
            "grid_template_areas": null,
            "grid_template_columns": null,
            "grid_template_rows": null,
            "height": null,
            "justify_content": null,
            "justify_items": null,
            "left": null,
            "margin": null,
            "max_height": null,
            "max_width": null,
            "min_height": null,
            "min_width": null,
            "object_fit": null,
            "object_position": null,
            "order": null,
            "overflow": null,
            "overflow_x": null,
            "overflow_y": null,
            "padding": null,
            "right": null,
            "top": null,
            "visibility": null,
            "width": null
          }
        },
        "7a3628a06bdc4913b8492e29c50f24c1": {
          "model_module": "@jupyter-widgets/controls",
          "model_name": "DescriptionStyleModel",
          "model_module_version": "1.5.0",
          "state": {
            "_model_module": "@jupyter-widgets/controls",
            "_model_module_version": "1.5.0",
            "_model_name": "DescriptionStyleModel",
            "_view_count": null,
            "_view_module": "@jupyter-widgets/base",
            "_view_module_version": "1.2.0",
            "_view_name": "StyleView",
            "description_width": ""
          }
        }
      }
    }
  },
  "cells": [
    {
      "cell_type": "code",
      "source": [
        "my_path = '/content/drive/MyDrive/additional_package'\n",
        "\n",
        "!pip install --target=$my_path transformers # transformers 대신에 원하는 패키지 이름을 넣으시면 됩니다\n",
        "\n"
      ],
      "metadata": {
        "colab": {
          "base_uri": "https://localhost:8080/"
        },
        "id": "kGPLXe7G9mcE",
        "outputId": "4d21f074-f023-4d00-bddf-26941dc346cb"
      },
      "execution_count": 84,
      "outputs": [
        {
          "output_type": "stream",
          "name": "stdout",
          "text": [
            "Collecting SentencePiece\n",
            "  Downloading sentencepiece-0.1.96-cp37-cp37m-manylinux_2_17_x86_64.manylinux2014_x86_64.whl (1.2 MB)\n",
            "\u001b[?25l\r\u001b[K     |▎                               | 10 kB 32.7 MB/s eta 0:00:01\r\u001b[K     |▌                               | 20 kB 39.6 MB/s eta 0:00:01\r\u001b[K     |▉                               | 30 kB 38.1 MB/s eta 0:00:01\r\u001b[K     |█                               | 40 kB 26.3 MB/s eta 0:00:01\r\u001b[K     |█▍                              | 51 kB 23.9 MB/s eta 0:00:01\r\u001b[K     |█▋                              | 61 kB 27.0 MB/s eta 0:00:01\r\u001b[K     |██                              | 71 kB 23.2 MB/s eta 0:00:01\r\u001b[K     |██▏                             | 81 kB 25.0 MB/s eta 0:00:01\r\u001b[K     |██▍                             | 92 kB 27.2 MB/s eta 0:00:01\r\u001b[K     |██▊                             | 102 kB 27.5 MB/s eta 0:00:01\r\u001b[K     |███                             | 112 kB 27.5 MB/s eta 0:00:01\r\u001b[K     |███▎                            | 122 kB 27.5 MB/s eta 0:00:01\r\u001b[K     |███▌                            | 133 kB 27.5 MB/s eta 0:00:01\r\u001b[K     |███▉                            | 143 kB 27.5 MB/s eta 0:00:01\r\u001b[K     |████                            | 153 kB 27.5 MB/s eta 0:00:01\r\u001b[K     |████▎                           | 163 kB 27.5 MB/s eta 0:00:01\r\u001b[K     |████▋                           | 174 kB 27.5 MB/s eta 0:00:01\r\u001b[K     |████▉                           | 184 kB 27.5 MB/s eta 0:00:01\r\u001b[K     |█████▏                          | 194 kB 27.5 MB/s eta 0:00:01\r\u001b[K     |█████▍                          | 204 kB 27.5 MB/s eta 0:00:01\r\u001b[K     |█████▊                          | 215 kB 27.5 MB/s eta 0:00:01\r\u001b[K     |██████                          | 225 kB 27.5 MB/s eta 0:00:01\r\u001b[K     |██████▏                         | 235 kB 27.5 MB/s eta 0:00:01\r\u001b[K     |██████▌                         | 245 kB 27.5 MB/s eta 0:00:01\r\u001b[K     |██████▊                         | 256 kB 27.5 MB/s eta 0:00:01\r\u001b[K     |███████                         | 266 kB 27.5 MB/s eta 0:00:01\r\u001b[K     |███████▎                        | 276 kB 27.5 MB/s eta 0:00:01\r\u001b[K     |███████▋                        | 286 kB 27.5 MB/s eta 0:00:01\r\u001b[K     |███████▉                        | 296 kB 27.5 MB/s eta 0:00:01\r\u001b[K     |████████                        | 307 kB 27.5 MB/s eta 0:00:01\r\u001b[K     |████████▍                       | 317 kB 27.5 MB/s eta 0:00:01\r\u001b[K     |████████▋                       | 327 kB 27.5 MB/s eta 0:00:01\r\u001b[K     |█████████                       | 337 kB 27.5 MB/s eta 0:00:01\r\u001b[K     |█████████▏                      | 348 kB 27.5 MB/s eta 0:00:01\r\u001b[K     |█████████▌                      | 358 kB 27.5 MB/s eta 0:00:01\r\u001b[K     |█████████▊                      | 368 kB 27.5 MB/s eta 0:00:01\r\u001b[K     |██████████                      | 378 kB 27.5 MB/s eta 0:00:01\r\u001b[K     |██████████▎                     | 389 kB 27.5 MB/s eta 0:00:01\r\u001b[K     |██████████▌                     | 399 kB 27.5 MB/s eta 0:00:01\r\u001b[K     |██████████▉                     | 409 kB 27.5 MB/s eta 0:00:01\r\u001b[K     |███████████                     | 419 kB 27.5 MB/s eta 0:00:01\r\u001b[K     |███████████▍                    | 430 kB 27.5 MB/s eta 0:00:01\r\u001b[K     |███████████▋                    | 440 kB 27.5 MB/s eta 0:00:01\r\u001b[K     |███████████▉                    | 450 kB 27.5 MB/s eta 0:00:01\r\u001b[K     |████████████▏                   | 460 kB 27.5 MB/s eta 0:00:01\r\u001b[K     |████████████▍                   | 471 kB 27.5 MB/s eta 0:00:01\r\u001b[K     |████████████▊                   | 481 kB 27.5 MB/s eta 0:00:01\r\u001b[K     |█████████████                   | 491 kB 27.5 MB/s eta 0:00:01\r\u001b[K     |█████████████▎                  | 501 kB 27.5 MB/s eta 0:00:01\r\u001b[K     |█████████████▌                  | 512 kB 27.5 MB/s eta 0:00:01\r\u001b[K     |█████████████▊                  | 522 kB 27.5 MB/s eta 0:00:01\r\u001b[K     |██████████████                  | 532 kB 27.5 MB/s eta 0:00:01\r\u001b[K     |██████████████▎                 | 542 kB 27.5 MB/s eta 0:00:01\r\u001b[K     |██████████████▋                 | 552 kB 27.5 MB/s eta 0:00:01\r\u001b[K     |██████████████▉                 | 563 kB 27.5 MB/s eta 0:00:01\r\u001b[K     |███████████████▏                | 573 kB 27.5 MB/s eta 0:00:01\r\u001b[K     |███████████████▍                | 583 kB 27.5 MB/s eta 0:00:01\r\u001b[K     |███████████████▋                | 593 kB 27.5 MB/s eta 0:00:01\r\u001b[K     |████████████████                | 604 kB 27.5 MB/s eta 0:00:01\r\u001b[K     |████████████████▏               | 614 kB 27.5 MB/s eta 0:00:01\r\u001b[K     |████████████████▌               | 624 kB 27.5 MB/s eta 0:00:01\r\u001b[K     |████████████████▊               | 634 kB 27.5 MB/s eta 0:00:01\r\u001b[K     |█████████████████               | 645 kB 27.5 MB/s eta 0:00:01\r\u001b[K     |█████████████████▎              | 655 kB 27.5 MB/s eta 0:00:01\r\u001b[K     |█████████████████▌              | 665 kB 27.5 MB/s eta 0:00:01\r\u001b[K     |█████████████████▉              | 675 kB 27.5 MB/s eta 0:00:01\r\u001b[K     |██████████████████              | 686 kB 27.5 MB/s eta 0:00:01\r\u001b[K     |██████████████████▍             | 696 kB 27.5 MB/s eta 0:00:01\r\u001b[K     |██████████████████▋             | 706 kB 27.5 MB/s eta 0:00:01\r\u001b[K     |███████████████████             | 716 kB 27.5 MB/s eta 0:00:01\r\u001b[K     |███████████████████▏            | 727 kB 27.5 MB/s eta 0:00:01\r\u001b[K     |███████████████████▍            | 737 kB 27.5 MB/s eta 0:00:01\r\u001b[K     |███████████████████▊            | 747 kB 27.5 MB/s eta 0:00:01\r\u001b[K     |████████████████████            | 757 kB 27.5 MB/s eta 0:00:01\r\u001b[K     |████████████████████▎           | 768 kB 27.5 MB/s eta 0:00:01\r\u001b[K     |████████████████████▌           | 778 kB 27.5 MB/s eta 0:00:01\r\u001b[K     |████████████████████▉           | 788 kB 27.5 MB/s eta 0:00:01\r\u001b[K     |█████████████████████           | 798 kB 27.5 MB/s eta 0:00:01\r\u001b[K     |█████████████████████▎          | 808 kB 27.5 MB/s eta 0:00:01\r\u001b[K     |█████████████████████▋          | 819 kB 27.5 MB/s eta 0:00:01\r\u001b[K     |█████████████████████▉          | 829 kB 27.5 MB/s eta 0:00:01\r\u001b[K     |██████████████████████▏         | 839 kB 27.5 MB/s eta 0:00:01\r\u001b[K     |██████████████████████▍         | 849 kB 27.5 MB/s eta 0:00:01\r\u001b[K     |██████████████████████▊         | 860 kB 27.5 MB/s eta 0:00:01\r\u001b[K     |███████████████████████         | 870 kB 27.5 MB/s eta 0:00:01\r\u001b[K     |███████████████████████▏        | 880 kB 27.5 MB/s eta 0:00:01\r\u001b[K     |███████████████████████▌        | 890 kB 27.5 MB/s eta 0:00:01\r\u001b[K     |███████████████████████▊        | 901 kB 27.5 MB/s eta 0:00:01\r\u001b[K     |████████████████████████        | 911 kB 27.5 MB/s eta 0:00:01\r\u001b[K     |████████████████████████▎       | 921 kB 27.5 MB/s eta 0:00:01\r\u001b[K     |████████████████████████▋       | 931 kB 27.5 MB/s eta 0:00:01\r\u001b[K     |████████████████████████▉       | 942 kB 27.5 MB/s eta 0:00:01\r\u001b[K     |█████████████████████████       | 952 kB 27.5 MB/s eta 0:00:01\r\u001b[K     |█████████████████████████▍      | 962 kB 27.5 MB/s eta 0:00:01\r\u001b[K     |█████████████████████████▋      | 972 kB 27.5 MB/s eta 0:00:01\r\u001b[K     |██████████████████████████      | 983 kB 27.5 MB/s eta 0:00:01\r\u001b[K     |██████████████████████████▏     | 993 kB 27.5 MB/s eta 0:00:01\r\u001b[K     |██████████████████████████▌     | 1.0 MB 27.5 MB/s eta 0:00:01\r\u001b[K     |██████████████████████████▊     | 1.0 MB 27.5 MB/s eta 0:00:01\r\u001b[K     |███████████████████████████     | 1.0 MB 27.5 MB/s eta 0:00:01\r\u001b[K     |███████████████████████████▎    | 1.0 MB 27.5 MB/s eta 0:00:01\r\u001b[K     |███████████████████████████▌    | 1.0 MB 27.5 MB/s eta 0:00:01\r\u001b[K     |███████████████████████████▉    | 1.1 MB 27.5 MB/s eta 0:00:01\r\u001b[K     |████████████████████████████    | 1.1 MB 27.5 MB/s eta 0:00:01\r\u001b[K     |████████████████████████████▍   | 1.1 MB 27.5 MB/s eta 0:00:01\r\u001b[K     |████████████████████████████▋   | 1.1 MB 27.5 MB/s eta 0:00:01\r\u001b[K     |████████████████████████████▉   | 1.1 MB 27.5 MB/s eta 0:00:01\r\u001b[K     |█████████████████████████████▏  | 1.1 MB 27.5 MB/s eta 0:00:01\r\u001b[K     |█████████████████████████████▍  | 1.1 MB 27.5 MB/s eta 0:00:01\r\u001b[K     |█████████████████████████████▊  | 1.1 MB 27.5 MB/s eta 0:00:01\r\u001b[K     |██████████████████████████████  | 1.1 MB 27.5 MB/s eta 0:00:01\r\u001b[K     |██████████████████████████████▎ | 1.1 MB 27.5 MB/s eta 0:00:01\r\u001b[K     |██████████████████████████████▌ | 1.2 MB 27.5 MB/s eta 0:00:01\r\u001b[K     |██████████████████████████████▊ | 1.2 MB 27.5 MB/s eta 0:00:01\r\u001b[K     |███████████████████████████████ | 1.2 MB 27.5 MB/s eta 0:00:01\r\u001b[K     |███████████████████████████████▎| 1.2 MB 27.5 MB/s eta 0:00:01\r\u001b[K     |███████████████████████████████▋| 1.2 MB 27.5 MB/s eta 0:00:01\r\u001b[K     |███████████████████████████████▉| 1.2 MB 27.5 MB/s eta 0:00:01\r\u001b[K     |████████████████████████████████| 1.2 MB 27.5 MB/s \n",
            "\u001b[?25hInstalling collected packages: SentencePiece\n",
            "Successfully installed SentencePiece-0.1.96\n"
          ]
        }
      ]
    },
    {
      "cell_type": "code",
      "source": [
        "import sys\n",
        "sys.path.append('/content/drive/MyDrive/additional_package')"
      ],
      "metadata": {
        "id": "ugjDuCcsJPIV"
      },
      "execution_count": null,
      "outputs": []
    },
    {
      "cell_type": "code",
      "execution_count": 3,
      "metadata": {
        "id": "Ofq4qTFYwqi0"
      },
      "outputs": [],
      "source": [
        "import os\n",
        "import re\n",
        "import string\n",
        "import numpy as np\n",
        "import pandas as pd\n",
        "import matplotlib.pyplot as plt\n",
        "import seaborn as sns\n",
        "from tqdm import tqdm # Progress Bar\n",
        "import nltk\n",
        "from nltk.corpus import stopwords\n",
        "from nltk.stem.porter import PorterStemmer\n",
        "from sklearn.preprocessing import LabelEncoder\n",
        "from sklearn.feature_extraction.text import TfidfVectorizer\n",
        "from sklearn.naive_bayes import MultinomialNB\n",
        "from sklearn.pipeline import make_pipeline\n",
        "from sklearn.metrics import confusion_matrix, classification_report, accuracy_score\n",
        "import transformers\n",
        "from transformers import DistilBertTokenizer, TFDistilBertModel, DistilBertConfig\n",
        "import tensorflow as tf\n",
        "from tensorflow.keras.callbacks import ModelCheckpoint, ReduceLROnPlateau, EarlyStopping\n",
        "import warnings\n",
        "from transformers import logging as hf_logging\n",
        "hf_logging.set_verbosity_error() # Hidding Huggingface Warnings\n",
        "warnings.filterwarnings(\"ignore\")"
      ]
    },
    {
      "cell_type": "code",
      "source": [
        "from google.colab import drive\n",
        "drive.mount('/content/drive')"
      ],
      "metadata": {
        "colab": {
          "base_uri": "https://localhost:8080/"
        },
        "id": "0VntkBwIw1M7",
        "outputId": "58cf00c4-688a-4e25-8ece-295c0a99cd5a"
      },
      "execution_count": 4,
      "outputs": [
        {
          "output_type": "stream",
          "name": "stdout",
          "text": [
            "Mounted at /content/drive\n"
          ]
        }
      ]
    },
    {
      "cell_type": "code",
      "source": [
        ""
      ],
      "metadata": {
        "id": "qt4_2FTZJRjc"
      },
      "execution_count": null,
      "outputs": []
    },
    {
      "cell_type": "code",
      "source": [
        ""
      ],
      "metadata": {
        "id": "FvltL0gKJRlA"
      },
      "execution_count": null,
      "outputs": []
    },
    {
      "cell_type": "code",
      "source": [
        "gpus = tf.config.experimental.list_physical_devices('GPU')\n",
        "if gpus:\n",
        "  try:\n",
        "    # Currently, memory growth needs to be the same across GPUs\n",
        "    for gpu in gpus:\n",
        "      tf.config.experimental.set_memory_growth(gpu, True)\n",
        "    logical_gpus = tf.config.experimental.list_logical_devices('GPU')\n",
        "    print(len(gpus), \"Physical GPUs,\", len(logical_gpus), \"Logical GPUs\")\n",
        "  except RuntimeError as e:\n",
        "    # Memory growth must be set before GPUs have been initialized\n",
        "    print(e)"
      ],
      "metadata": {
        "colab": {
          "base_uri": "https://localhost:8080/"
        },
        "id": "Be9rhASXw7Iw",
        "outputId": "60792196-4ee0-4bf2-95d1-6a2ccf446c8d"
      },
      "execution_count": 5,
      "outputs": [
        {
          "output_type": "stream",
          "name": "stdout",
          "text": [
            "1 Physical GPUs, 1 Logical GPUs\n"
          ]
        }
      ]
    },
    {
      "cell_type": "code",
      "source": [
        ""
      ],
      "metadata": {
        "id": "KY5zzrCJJSdn"
      },
      "execution_count": null,
      "outputs": []
    },
    {
      "cell_type": "code",
      "source": [
        ""
      ],
      "metadata": {
        "id": "J7tgyHGzJSfa"
      },
      "execution_count": null,
      "outputs": []
    },
    {
      "cell_type": "code",
      "source": [
        "test_df = pd.read_csv('/content/drive/MyDrive/통계청/test_preprocessed.csv')\n",
        "train_preprocessed = pd.read_csv('/content/drive/MyDrive/통계청/train_preprocesed.csv')"
      ],
      "metadata": {
        "id": "BE2QGcgNxKqZ"
      },
      "execution_count": 36,
      "outputs": []
    },
    {
      "cell_type": "code",
      "source": [
        "# label 빈도 230 미만 짤"
      ],
      "metadata": {
        "id": "7oYVYWhryx2F"
      },
      "execution_count": 37,
      "outputs": []
    },
    {
      "cell_type": "markdown",
      "source": [
        "# label 빈도 230 미만 짤"
      ],
      "metadata": {
        "id": "usCT042jJTOs"
      }
    },
    {
      "cell_type": "code",
      "source": [
        "except_label = train_preprocessed[\"label\"].value_counts()[train_preprocessed[\"label\"].value_counts() < 230].index\n",
        "mask = train_preprocessed['label'].isin(except_label)\n",
        "train_preprocessed = train_preprocessed[~mask].reset_index(drop=True)\n",
        "train_preprocessed"
      ],
      "metadata": {
        "colab": {
          "base_uri": "https://localhost:8080/",
          "height": 423
        },
        "id": "0LJjfqjryz95",
        "outputId": "c3197cd3-8f1e-4779-811a-cc06087bb2c9"
      },
      "execution_count": 38,
      "outputs": [
        {
          "output_type": "execute_result",
          "data": {
            "text/plain": [
              "          text_obj    text_mthd  text_deal                          document  \\\n",
              "0            카센터에서      자동차부분정비    타이어오일교환          카센터에서 자동차 부분정비 타이어 오일 교환   \n",
              "1            상점내에서    일반인을 대상으로    채소 과일판매         상점 내에서 일반인을 대상으로 채소 과일 판매   \n",
              "2       절단하여사업체에도매    공업용고무를가지고     합성고무도매  절단하여 사업체에도 매 공업용 고무를 가지고 합성고무도 매   \n",
              "3            영업점에서      일반소비자에게     열쇠잠금장치            영업점에서 일반 소비자에게 열쇠 잠금장치   \n",
              "4             어린이집  보호자의 위탁을 받아    취학전아동보육        어린이집 보호자의 위탁을 받아 취학 전 아동보육   \n",
              "...            ...          ...        ...                               ...   \n",
              "995667        제품입고           워싱      청바지워싱                   제품 입고 워싱 청바지 워싱   \n",
              "995668        현장에서     고객의요청에의해     실내인테리어           현장에서 고객의 요청에 의해 실내 인테리어   \n",
              "995669       영업점에서      일반소비자에게    여성의류 판매            영업점에서 일반 소비자에게 여성의류 판매   \n",
              "995670       사업장에서    일반고객을대상으로       필라테스            사업장에서 일반 고객을 대상으로 필라테스   \n",
              "995671       사업장에서    접객시설을 갖추고  한식 미역구 판매         사업장에서 접객시설을 갖추고 한식 미역국 판매   \n",
              "\n",
              "         label  \n",
              "0       S95952  \n",
              "1       G47472  \n",
              "2       G46467  \n",
              "3       G47475  \n",
              "4       Q87872  \n",
              "...        ...  \n",
              "995667  C13134  \n",
              "995668  F42424  \n",
              "995669  G47474  \n",
              "995670  P85856  \n",
              "995671  I56561  \n",
              "\n",
              "[995672 rows x 5 columns]"
            ],
            "text/html": [
              "\n",
              "  <div id=\"df-a0bb2135-ae09-45a1-8c5a-417e70b8f4b0\">\n",
              "    <div class=\"colab-df-container\">\n",
              "      <div>\n",
              "<style scoped>\n",
              "    .dataframe tbody tr th:only-of-type {\n",
              "        vertical-align: middle;\n",
              "    }\n",
              "\n",
              "    .dataframe tbody tr th {\n",
              "        vertical-align: top;\n",
              "    }\n",
              "\n",
              "    .dataframe thead th {\n",
              "        text-align: right;\n",
              "    }\n",
              "</style>\n",
              "<table border=\"1\" class=\"dataframe\">\n",
              "  <thead>\n",
              "    <tr style=\"text-align: right;\">\n",
              "      <th></th>\n",
              "      <th>text_obj</th>\n",
              "      <th>text_mthd</th>\n",
              "      <th>text_deal</th>\n",
              "      <th>document</th>\n",
              "      <th>label</th>\n",
              "    </tr>\n",
              "  </thead>\n",
              "  <tbody>\n",
              "    <tr>\n",
              "      <th>0</th>\n",
              "      <td>카센터에서</td>\n",
              "      <td>자동차부분정비</td>\n",
              "      <td>타이어오일교환</td>\n",
              "      <td>카센터에서 자동차 부분정비 타이어 오일 교환</td>\n",
              "      <td>S95952</td>\n",
              "    </tr>\n",
              "    <tr>\n",
              "      <th>1</th>\n",
              "      <td>상점내에서</td>\n",
              "      <td>일반인을 대상으로</td>\n",
              "      <td>채소 과일판매</td>\n",
              "      <td>상점 내에서 일반인을 대상으로 채소 과일 판매</td>\n",
              "      <td>G47472</td>\n",
              "    </tr>\n",
              "    <tr>\n",
              "      <th>2</th>\n",
              "      <td>절단하여사업체에도매</td>\n",
              "      <td>공업용고무를가지고</td>\n",
              "      <td>합성고무도매</td>\n",
              "      <td>절단하여 사업체에도 매 공업용 고무를 가지고 합성고무도 매</td>\n",
              "      <td>G46467</td>\n",
              "    </tr>\n",
              "    <tr>\n",
              "      <th>3</th>\n",
              "      <td>영업점에서</td>\n",
              "      <td>일반소비자에게</td>\n",
              "      <td>열쇠잠금장치</td>\n",
              "      <td>영업점에서 일반 소비자에게 열쇠 잠금장치</td>\n",
              "      <td>G47475</td>\n",
              "    </tr>\n",
              "    <tr>\n",
              "      <th>4</th>\n",
              "      <td>어린이집</td>\n",
              "      <td>보호자의 위탁을 받아</td>\n",
              "      <td>취학전아동보육</td>\n",
              "      <td>어린이집 보호자의 위탁을 받아 취학 전 아동보육</td>\n",
              "      <td>Q87872</td>\n",
              "    </tr>\n",
              "    <tr>\n",
              "      <th>...</th>\n",
              "      <td>...</td>\n",
              "      <td>...</td>\n",
              "      <td>...</td>\n",
              "      <td>...</td>\n",
              "      <td>...</td>\n",
              "    </tr>\n",
              "    <tr>\n",
              "      <th>995667</th>\n",
              "      <td>제품입고</td>\n",
              "      <td>워싱</td>\n",
              "      <td>청바지워싱</td>\n",
              "      <td>제품 입고 워싱 청바지 워싱</td>\n",
              "      <td>C13134</td>\n",
              "    </tr>\n",
              "    <tr>\n",
              "      <th>995668</th>\n",
              "      <td>현장에서</td>\n",
              "      <td>고객의요청에의해</td>\n",
              "      <td>실내인테리어</td>\n",
              "      <td>현장에서 고객의 요청에 의해 실내 인테리어</td>\n",
              "      <td>F42424</td>\n",
              "    </tr>\n",
              "    <tr>\n",
              "      <th>995669</th>\n",
              "      <td>영업점에서</td>\n",
              "      <td>일반소비자에게</td>\n",
              "      <td>여성의류 판매</td>\n",
              "      <td>영업점에서 일반 소비자에게 여성의류 판매</td>\n",
              "      <td>G47474</td>\n",
              "    </tr>\n",
              "    <tr>\n",
              "      <th>995670</th>\n",
              "      <td>사업장에서</td>\n",
              "      <td>일반고객을대상으로</td>\n",
              "      <td>필라테스</td>\n",
              "      <td>사업장에서 일반 고객을 대상으로 필라테스</td>\n",
              "      <td>P85856</td>\n",
              "    </tr>\n",
              "    <tr>\n",
              "      <th>995671</th>\n",
              "      <td>사업장에서</td>\n",
              "      <td>접객시설을 갖추고</td>\n",
              "      <td>한식 미역구 판매</td>\n",
              "      <td>사업장에서 접객시설을 갖추고 한식 미역국 판매</td>\n",
              "      <td>I56561</td>\n",
              "    </tr>\n",
              "  </tbody>\n",
              "</table>\n",
              "<p>995672 rows × 5 columns</p>\n",
              "</div>\n",
              "      <button class=\"colab-df-convert\" onclick=\"convertToInteractive('df-a0bb2135-ae09-45a1-8c5a-417e70b8f4b0')\"\n",
              "              title=\"Convert this dataframe to an interactive table.\"\n",
              "              style=\"display:none;\">\n",
              "        \n",
              "  <svg xmlns=\"http://www.w3.org/2000/svg\" height=\"24px\"viewBox=\"0 0 24 24\"\n",
              "       width=\"24px\">\n",
              "    <path d=\"M0 0h24v24H0V0z\" fill=\"none\"/>\n",
              "    <path d=\"M18.56 5.44l.94 2.06.94-2.06 2.06-.94-2.06-.94-.94-2.06-.94 2.06-2.06.94zm-11 1L8.5 8.5l.94-2.06 2.06-.94-2.06-.94L8.5 2.5l-.94 2.06-2.06.94zm10 10l.94 2.06.94-2.06 2.06-.94-2.06-.94-.94-2.06-.94 2.06-2.06.94z\"/><path d=\"M17.41 7.96l-1.37-1.37c-.4-.4-.92-.59-1.43-.59-.52 0-1.04.2-1.43.59L10.3 9.45l-7.72 7.72c-.78.78-.78 2.05 0 2.83L4 21.41c.39.39.9.59 1.41.59.51 0 1.02-.2 1.41-.59l7.78-7.78 2.81-2.81c.8-.78.8-2.07 0-2.86zM5.41 20L4 18.59l7.72-7.72 1.47 1.35L5.41 20z\"/>\n",
              "  </svg>\n",
              "      </button>\n",
              "      \n",
              "  <style>\n",
              "    .colab-df-container {\n",
              "      display:flex;\n",
              "      flex-wrap:wrap;\n",
              "      gap: 12px;\n",
              "    }\n",
              "\n",
              "    .colab-df-convert {\n",
              "      background-color: #E8F0FE;\n",
              "      border: none;\n",
              "      border-radius: 50%;\n",
              "      cursor: pointer;\n",
              "      display: none;\n",
              "      fill: #1967D2;\n",
              "      height: 32px;\n",
              "      padding: 0 0 0 0;\n",
              "      width: 32px;\n",
              "    }\n",
              "\n",
              "    .colab-df-convert:hover {\n",
              "      background-color: #E2EBFA;\n",
              "      box-shadow: 0px 1px 2px rgba(60, 64, 67, 0.3), 0px 1px 3px 1px rgba(60, 64, 67, 0.15);\n",
              "      fill: #174EA6;\n",
              "    }\n",
              "\n",
              "    [theme=dark] .colab-df-convert {\n",
              "      background-color: #3B4455;\n",
              "      fill: #D2E3FC;\n",
              "    }\n",
              "\n",
              "    [theme=dark] .colab-df-convert:hover {\n",
              "      background-color: #434B5C;\n",
              "      box-shadow: 0px 1px 3px 1px rgba(0, 0, 0, 0.15);\n",
              "      filter: drop-shadow(0px 1px 2px rgba(0, 0, 0, 0.3));\n",
              "      fill: #FFFFFF;\n",
              "    }\n",
              "  </style>\n",
              "\n",
              "      <script>\n",
              "        const buttonEl =\n",
              "          document.querySelector('#df-a0bb2135-ae09-45a1-8c5a-417e70b8f4b0 button.colab-df-convert');\n",
              "        buttonEl.style.display =\n",
              "          google.colab.kernel.accessAllowed ? 'block' : 'none';\n",
              "\n",
              "        async function convertToInteractive(key) {\n",
              "          const element = document.querySelector('#df-a0bb2135-ae09-45a1-8c5a-417e70b8f4b0');\n",
              "          const dataTable =\n",
              "            await google.colab.kernel.invokeFunction('convertToInteractive',\n",
              "                                                     [key], {});\n",
              "          if (!dataTable) return;\n",
              "\n",
              "          const docLinkHtml = 'Like what you see? Visit the ' +\n",
              "            '<a target=\"_blank\" href=https://colab.research.google.com/notebooks/data_table.ipynb>data table notebook</a>'\n",
              "            + ' to learn more about interactive tables.';\n",
              "          element.innerHTML = '';\n",
              "          dataTable['output_type'] = 'display_data';\n",
              "          await google.colab.output.renderOutput(dataTable, element);\n",
              "          const docLink = document.createElement('div');\n",
              "          docLink.innerHTML = docLinkHtml;\n",
              "          element.appendChild(docLink);\n",
              "        }\n",
              "      </script>\n",
              "    </div>\n",
              "  </div>\n",
              "  "
            ]
          },
          "metadata": {},
          "execution_count": 38
        }
      ]
    },
    {
      "cell_type": "code",
      "source": [
        "max_words = []\n",
        "for row in train_preprocessed['document']:\n",
        "    max_words.append(len(row.split()))\n",
        "print(f\"The max word count is {np.asarray(max_words).max()}\")"
      ],
      "metadata": {
        "colab": {
          "base_uri": "https://localhost:8080/"
        },
        "id": "D2tYLdsLxxyy",
        "outputId": "2a15ef4b-f7bf-4403-ebe2-cf4ec3bb533d"
      },
      "execution_count": 39,
      "outputs": [
        {
          "output_type": "stream",
          "name": "stdout",
          "text": [
            "The max word count is 25\n"
          ]
        }
      ]
    },
    {
      "cell_type": "code",
      "source": [
        "max_words[:5]"
      ],
      "metadata": {
        "colab": {
          "base_uri": "https://localhost:8080/"
        },
        "id": "5jriUDUOx7te",
        "outputId": "3c87945d-1572-4cd0-f99c-0d3f2806a0e5"
      },
      "execution_count": 40,
      "outputs": [
        {
          "output_type": "execute_result",
          "data": {
            "text/plain": [
              "[6, 7, 8, 5, 7]"
            ]
          },
          "metadata": {},
          "execution_count": 40
        }
      ]
    },
    {
      "cell_type": "code",
      "source": [
        "train_preprocessed.iloc[:,-1]"
      ],
      "metadata": {
        "colab": {
          "base_uri": "https://localhost:8080/"
        },
        "id": "fDjweNRH0eLa",
        "outputId": "e2d75046-204d-4207-a975-ebeaf7700b5e"
      },
      "execution_count": 41,
      "outputs": [
        {
          "output_type": "execute_result",
          "data": {
            "text/plain": [
              "0         S95952\n",
              "1         G47472\n",
              "2         G46467\n",
              "3         G47475\n",
              "4         Q87872\n",
              "           ...  \n",
              "995667    C13134\n",
              "995668    F42424\n",
              "995669    G47474\n",
              "995670    P85856\n",
              "995671    I56561\n",
              "Name: label, Length: 995672, dtype: object"
            ]
          },
          "metadata": {},
          "execution_count": 41
        }
      ]
    },
    {
      "cell_type": "code",
      "source": [
        "train_preprocessed[\"label\"].value_counts()\n"
      ],
      "metadata": {
        "colab": {
          "base_uri": "https://localhost:8080/"
        },
        "id": "tBH_dqnc0J3S",
        "outputId": "955ff524-c637-4e80-8bc3-a6141480b1d2"
      },
      "execution_count": 48,
      "outputs": [
        {
          "output_type": "execute_result",
          "data": {
            "text/plain": [
              "I56561    123703\n",
              "I56562     49756\n",
              "H49493     49115\n",
              "S96961     43040\n",
              "H49492     39176\n",
              "           ...  \n",
              "A112         254\n",
              "C11111       250\n",
              "C26265       239\n",
              "N74743       239\n",
              "J59592       230\n",
              "Name: label, Length: 169, dtype: int64"
            ]
          },
          "metadata": {},
          "execution_count": 48
        }
      ]
    },
    {
      "cell_type": "code",
      "source": [
        "# train 데이터를 8:2로 분할 (train set, val set)\n",
        "train_df = train_preprocessed.sample(frac=0.8, random_state =1)\n",
        "val_df = train_preprocessed.drop(train_df.index)"
      ],
      "metadata": {
        "id": "1E2rzuFSyE4b"
      },
      "execution_count": 49,
      "outputs": []
    },
    {
      "cell_type": "code",
      "source": [
        "#Lable Encode"
      ],
      "metadata": {
        "id": "p1tpIIbwyE_o"
      },
      "execution_count": 50,
      "outputs": []
    },
    {
      "cell_type": "code",
      "source": [
        "le = LabelEncoder()\n",
        "train_df['encoded_label'] = le.fit_transform(train_df['label'])\n",
        "val_df['encoded_label'] = le.transform(val_df['label'])"
      ],
      "metadata": {
        "id": "Zhki0p70yABF"
      },
      "execution_count": 51,
      "outputs": []
    },
    {
      "cell_type": "code",
      "source": [
        "val_df"
      ],
      "metadata": {
        "colab": {
          "base_uri": "https://localhost:8080/",
          "height": 423
        },
        "id": "yGsXOBD_zX27",
        "outputId": "44b9528c-3a0f-4a86-bfe2-3851f7782139"
      },
      "execution_count": 52,
      "outputs": [
        {
          "output_type": "execute_result",
          "data": {
            "text/plain": [
              "          text_obj   text_mthd text_deal                          document  \\\n",
              "5                철       절삭 용접   카프라배관자재                  철 절삭 용접 카프라 배관자재   \n",
              "12            매장에서    일반인 대상으로      의류소매               매장에서 일반인 대상으로 의류 소매   \n",
              "25           영업점에서     일반소비자에게    오징어빵판매           영업점에서 일반 소비자에게 오징어 빵 판매   \n",
              "37            카페에서    접객시설을갖추고    커피 음료수             카페에서 접객시설을 갖추고 커피 음료수   \n",
              "40             여관업         NaN       NaN                             여관업     \n",
              "...            ...         ...       ...                               ...   \n",
              "995645       음식점에서   접객시설을 갖추고     치킨 맥주             음식점에서 접객시설을 갖추고 치킨 맥주   \n",
              "995651       사업장에서    고객의요청에의해     부동산중개           사업장에서 고객의 요청에 의해 부동산 중개   \n",
              "995664    고객의사업장에서     고객요구의따라    조경건설공사        고객의 사업장에서 고객 요구의 따라 조경건설공사   \n",
              "995665  카본열선 퀼팅구조체  조립 배열 봉제하여   의료용매트리스  카본 열선 퀼팅 구조체 조립 배열 봉제하여 의료용 매트리스   \n",
              "995669       영업점에서     일반소비자에게   여성의류 판매            영업점에서 일반 소비자에게 여성의류 판매   \n",
              "\n",
              "         label  encoded_label  \n",
              "5       C29291             51  \n",
              "12      G47474             88  \n",
              "25      I56561            102  \n",
              "37      I56562            103  \n",
              "40      I55551            100  \n",
              "...        ...            ...  \n",
              "995645  I56561            102  \n",
              "995651  L68682            119  \n",
              "995664  F41412             67  \n",
              "995665  C32320             56  \n",
              "995669  G47474             88  \n",
              "\n",
              "[199134 rows x 6 columns]"
            ],
            "text/html": [
              "\n",
              "  <div id=\"df-db19b93e-22df-47db-94e8-34d4b8da3247\">\n",
              "    <div class=\"colab-df-container\">\n",
              "      <div>\n",
              "<style scoped>\n",
              "    .dataframe tbody tr th:only-of-type {\n",
              "        vertical-align: middle;\n",
              "    }\n",
              "\n",
              "    .dataframe tbody tr th {\n",
              "        vertical-align: top;\n",
              "    }\n",
              "\n",
              "    .dataframe thead th {\n",
              "        text-align: right;\n",
              "    }\n",
              "</style>\n",
              "<table border=\"1\" class=\"dataframe\">\n",
              "  <thead>\n",
              "    <tr style=\"text-align: right;\">\n",
              "      <th></th>\n",
              "      <th>text_obj</th>\n",
              "      <th>text_mthd</th>\n",
              "      <th>text_deal</th>\n",
              "      <th>document</th>\n",
              "      <th>label</th>\n",
              "      <th>encoded_label</th>\n",
              "    </tr>\n",
              "  </thead>\n",
              "  <tbody>\n",
              "    <tr>\n",
              "      <th>5</th>\n",
              "      <td>철</td>\n",
              "      <td>절삭 용접</td>\n",
              "      <td>카프라배관자재</td>\n",
              "      <td>철 절삭 용접 카프라 배관자재</td>\n",
              "      <td>C29291</td>\n",
              "      <td>51</td>\n",
              "    </tr>\n",
              "    <tr>\n",
              "      <th>12</th>\n",
              "      <td>매장에서</td>\n",
              "      <td>일반인 대상으로</td>\n",
              "      <td>의류소매</td>\n",
              "      <td>매장에서 일반인 대상으로 의류 소매</td>\n",
              "      <td>G47474</td>\n",
              "      <td>88</td>\n",
              "    </tr>\n",
              "    <tr>\n",
              "      <th>25</th>\n",
              "      <td>영업점에서</td>\n",
              "      <td>일반소비자에게</td>\n",
              "      <td>오징어빵판매</td>\n",
              "      <td>영업점에서 일반 소비자에게 오징어 빵 판매</td>\n",
              "      <td>I56561</td>\n",
              "      <td>102</td>\n",
              "    </tr>\n",
              "    <tr>\n",
              "      <th>37</th>\n",
              "      <td>카페에서</td>\n",
              "      <td>접객시설을갖추고</td>\n",
              "      <td>커피 음료수</td>\n",
              "      <td>카페에서 접객시설을 갖추고 커피 음료수</td>\n",
              "      <td>I56562</td>\n",
              "      <td>103</td>\n",
              "    </tr>\n",
              "    <tr>\n",
              "      <th>40</th>\n",
              "      <td>여관업</td>\n",
              "      <td>NaN</td>\n",
              "      <td>NaN</td>\n",
              "      <td>여관업</td>\n",
              "      <td>I55551</td>\n",
              "      <td>100</td>\n",
              "    </tr>\n",
              "    <tr>\n",
              "      <th>...</th>\n",
              "      <td>...</td>\n",
              "      <td>...</td>\n",
              "      <td>...</td>\n",
              "      <td>...</td>\n",
              "      <td>...</td>\n",
              "      <td>...</td>\n",
              "    </tr>\n",
              "    <tr>\n",
              "      <th>995645</th>\n",
              "      <td>음식점에서</td>\n",
              "      <td>접객시설을 갖추고</td>\n",
              "      <td>치킨 맥주</td>\n",
              "      <td>음식점에서 접객시설을 갖추고 치킨 맥주</td>\n",
              "      <td>I56561</td>\n",
              "      <td>102</td>\n",
              "    </tr>\n",
              "    <tr>\n",
              "      <th>995651</th>\n",
              "      <td>사업장에서</td>\n",
              "      <td>고객의요청에의해</td>\n",
              "      <td>부동산중개</td>\n",
              "      <td>사업장에서 고객의 요청에 의해 부동산 중개</td>\n",
              "      <td>L68682</td>\n",
              "      <td>119</td>\n",
              "    </tr>\n",
              "    <tr>\n",
              "      <th>995664</th>\n",
              "      <td>고객의사업장에서</td>\n",
              "      <td>고객요구의따라</td>\n",
              "      <td>조경건설공사</td>\n",
              "      <td>고객의 사업장에서 고객 요구의 따라 조경건설공사</td>\n",
              "      <td>F41412</td>\n",
              "      <td>67</td>\n",
              "    </tr>\n",
              "    <tr>\n",
              "      <th>995665</th>\n",
              "      <td>카본열선 퀼팅구조체</td>\n",
              "      <td>조립 배열 봉제하여</td>\n",
              "      <td>의료용매트리스</td>\n",
              "      <td>카본 열선 퀼팅 구조체 조립 배열 봉제하여 의료용 매트리스</td>\n",
              "      <td>C32320</td>\n",
              "      <td>56</td>\n",
              "    </tr>\n",
              "    <tr>\n",
              "      <th>995669</th>\n",
              "      <td>영업점에서</td>\n",
              "      <td>일반소비자에게</td>\n",
              "      <td>여성의류 판매</td>\n",
              "      <td>영업점에서 일반 소비자에게 여성의류 판매</td>\n",
              "      <td>G47474</td>\n",
              "      <td>88</td>\n",
              "    </tr>\n",
              "  </tbody>\n",
              "</table>\n",
              "<p>199134 rows × 6 columns</p>\n",
              "</div>\n",
              "      <button class=\"colab-df-convert\" onclick=\"convertToInteractive('df-db19b93e-22df-47db-94e8-34d4b8da3247')\"\n",
              "              title=\"Convert this dataframe to an interactive table.\"\n",
              "              style=\"display:none;\">\n",
              "        \n",
              "  <svg xmlns=\"http://www.w3.org/2000/svg\" height=\"24px\"viewBox=\"0 0 24 24\"\n",
              "       width=\"24px\">\n",
              "    <path d=\"M0 0h24v24H0V0z\" fill=\"none\"/>\n",
              "    <path d=\"M18.56 5.44l.94 2.06.94-2.06 2.06-.94-2.06-.94-.94-2.06-.94 2.06-2.06.94zm-11 1L8.5 8.5l.94-2.06 2.06-.94-2.06-.94L8.5 2.5l-.94 2.06-2.06.94zm10 10l.94 2.06.94-2.06 2.06-.94-2.06-.94-.94-2.06-.94 2.06-2.06.94z\"/><path d=\"M17.41 7.96l-1.37-1.37c-.4-.4-.92-.59-1.43-.59-.52 0-1.04.2-1.43.59L10.3 9.45l-7.72 7.72c-.78.78-.78 2.05 0 2.83L4 21.41c.39.39.9.59 1.41.59.51 0 1.02-.2 1.41-.59l7.78-7.78 2.81-2.81c.8-.78.8-2.07 0-2.86zM5.41 20L4 18.59l7.72-7.72 1.47 1.35L5.41 20z\"/>\n",
              "  </svg>\n",
              "      </button>\n",
              "      \n",
              "  <style>\n",
              "    .colab-df-container {\n",
              "      display:flex;\n",
              "      flex-wrap:wrap;\n",
              "      gap: 12px;\n",
              "    }\n",
              "\n",
              "    .colab-df-convert {\n",
              "      background-color: #E8F0FE;\n",
              "      border: none;\n",
              "      border-radius: 50%;\n",
              "      cursor: pointer;\n",
              "      display: none;\n",
              "      fill: #1967D2;\n",
              "      height: 32px;\n",
              "      padding: 0 0 0 0;\n",
              "      width: 32px;\n",
              "    }\n",
              "\n",
              "    .colab-df-convert:hover {\n",
              "      background-color: #E2EBFA;\n",
              "      box-shadow: 0px 1px 2px rgba(60, 64, 67, 0.3), 0px 1px 3px 1px rgba(60, 64, 67, 0.15);\n",
              "      fill: #174EA6;\n",
              "    }\n",
              "\n",
              "    [theme=dark] .colab-df-convert {\n",
              "      background-color: #3B4455;\n",
              "      fill: #D2E3FC;\n",
              "    }\n",
              "\n",
              "    [theme=dark] .colab-df-convert:hover {\n",
              "      background-color: #434B5C;\n",
              "      box-shadow: 0px 1px 3px 1px rgba(0, 0, 0, 0.15);\n",
              "      filter: drop-shadow(0px 1px 2px rgba(0, 0, 0, 0.3));\n",
              "      fill: #FFFFFF;\n",
              "    }\n",
              "  </style>\n",
              "\n",
              "      <script>\n",
              "        const buttonEl =\n",
              "          document.querySelector('#df-db19b93e-22df-47db-94e8-34d4b8da3247 button.colab-df-convert');\n",
              "        buttonEl.style.display =\n",
              "          google.colab.kernel.accessAllowed ? 'block' : 'none';\n",
              "\n",
              "        async function convertToInteractive(key) {\n",
              "          const element = document.querySelector('#df-db19b93e-22df-47db-94e8-34d4b8da3247');\n",
              "          const dataTable =\n",
              "            await google.colab.kernel.invokeFunction('convertToInteractive',\n",
              "                                                     [key], {});\n",
              "          if (!dataTable) return;\n",
              "\n",
              "          const docLinkHtml = 'Like what you see? Visit the ' +\n",
              "            '<a target=\"_blank\" href=https://colab.research.google.com/notebooks/data_table.ipynb>data table notebook</a>'\n",
              "            + ' to learn more about interactive tables.';\n",
              "          element.innerHTML = '';\n",
              "          dataTable['output_type'] = 'display_data';\n",
              "          await google.colab.output.renderOutput(dataTable, element);\n",
              "          const docLink = document.createElement('div');\n",
              "          docLink.innerHTML = docLinkHtml;\n",
              "          element.appendChild(docLink);\n",
              "        }\n",
              "      </script>\n",
              "    </div>\n",
              "  </div>\n",
              "  "
            ]
          },
          "metadata": {},
          "execution_count": 52
        }
      ]
    },
    {
      "cell_type": "code",
      "source": [
        "label_dict = (val_df[['label','encoded_label']].drop_duplicates()\n",
        "              .sort_values(by='encoded_label')\n",
        "              .reset_index(drop=True)['label']\n",
        "              .to_dict())\n",
        "\n",
        "for index, key in label_dict.items():\n",
        "    print(index, key)"
      ],
      "metadata": {
        "colab": {
          "base_uri": "https://localhost:8080/"
        },
        "id": "58wwnQQsyQAR",
        "outputId": "fbd7b132-4001-44ca-d34f-b1cd049cf94d"
      },
      "execution_count": 53,
      "outputs": [
        {
          "output_type": "stream",
          "name": "stdout",
          "text": [
            "0 A111\n",
            "1 A112\n",
            "2 C10101\n",
            "3 C10102\n",
            "4 C10103\n",
            "5 C10104\n",
            "6 C10106\n",
            "7 C10107\n",
            "8 C10108\n",
            "9 C11111\n",
            "10 C13131\n",
            "11 C13132\n",
            "12 C13134\n",
            "13 C13139\n",
            "14 C14141\n",
            "15 C14143\n",
            "16 C14144\n",
            "17 C15151\n",
            "18 C15152\n",
            "19 C16161\n",
            "20 C16162\n",
            "21 C17172\n",
            "22 C17179\n",
            "23 C18181\n",
            "24 C20201\n",
            "25 C20202\n",
            "26 C20203\n",
            "27 C20204\n",
            "28 C22221\n",
            "29 C22222\n",
            "30 C23231\n",
            "31 C23232\n",
            "32 C23233\n",
            "33 C23239\n",
            "34 C24241\n",
            "35 C24242\n",
            "36 C24243\n",
            "37 C25251\n",
            "38 C25259\n",
            "39 C26261\n",
            "40 C26262\n",
            "41 C26263\n",
            "42 C26264\n",
            "43 C26265\n",
            "44 C27271\n",
            "45 C27272\n",
            "46 C28281\n",
            "47 C28283\n",
            "48 C28284\n",
            "49 C28285\n",
            "50 C28289\n",
            "51 C29291\n",
            "52 C29292\n",
            "53 C30302\n",
            "54 C30303\n",
            "55 C31311\n",
            "56 C32320\n",
            "57 C33331\n",
            "58 C33333\n",
            "59 C33339\n",
            "60 C34340\n",
            "61 D35351\n",
            "62 E37370\n",
            "63 E38381\n",
            "64 E38382\n",
            "65 E38383\n",
            "66 F41411\n",
            "67 F41412\n",
            "68 F42421\n",
            "69 F42422\n",
            "70 F42423\n",
            "71 F42424\n",
            "72 F42425\n",
            "73 F42426\n",
            "74 G45451\n",
            "75 G45452\n",
            "76 G45453\n",
            "77 G46461\n",
            "78 G46462\n",
            "79 G46463\n",
            "80 G46464\n",
            "81 G46465\n",
            "82 G46466\n",
            "83 G46467\n",
            "84 G46468\n",
            "85 G47471\n",
            "86 G47472\n",
            "87 G47473\n",
            "88 G47474\n",
            "89 G47475\n",
            "90 G47476\n",
            "91 G47477\n",
            "92 G47478\n",
            "93 G47479\n",
            "94 H49492\n",
            "95 H49493\n",
            "96 H49494\n",
            "97 H50501\n",
            "98 H52521\n",
            "99 H52529\n",
            "100 I55551\n",
            "101 I55559\n",
            "102 I56561\n",
            "103 I56562\n",
            "104 J58581\n",
            "105 J58582\n",
            "106 J59591\n",
            "107 J59592\n",
            "108 J61611\n",
            "109 J61612\n",
            "110 J62620\n",
            "111 J63631\n",
            "112 J63639\n",
            "113 K64641\n",
            "114 K64649\n",
            "115 K65651\n",
            "116 K66661\n",
            "117 K66662\n",
            "118 L68681\n",
            "119 L68682\n",
            "120 M70701\n",
            "121 M70702\n",
            "122 M71711\n",
            "123 M71712\n",
            "124 M71713\n",
            "125 M71715\n",
            "126 M72721\n",
            "127 M72729\n",
            "128 M73731\n",
            "129 M73732\n",
            "130 M73733\n",
            "131 M73739\n",
            "132 N74741\n",
            "133 N74742\n",
            "134 N74743\n",
            "135 N75751\n",
            "136 N75752\n",
            "137 N75753\n",
            "138 N75759\n",
            "139 N76761\n",
            "140 N76762\n",
            "141 N76763\n",
            "142 O84841\n",
            "143 O84842\n",
            "144 O84844\n",
            "145 P85851\n",
            "146 P85852\n",
            "147 P85853\n",
            "148 P85855\n",
            "149 P85856\n",
            "150 P85857\n",
            "151 Q86861\n",
            "152 Q86862\n",
            "153 Q86863\n",
            "154 Q86869\n",
            "155 Q87871\n",
            "156 Q87872\n",
            "157 R90901\n",
            "158 R90902\n",
            "159 R91911\n",
            "160 R91912\n",
            "161 S94941\n",
            "162 S94942\n",
            "163 S94949\n",
            "164 S95951\n",
            "165 S95952\n",
            "166 S95953\n",
            "167 S96961\n",
            "168 S96969\n"
          ]
        }
      ]
    },
    {
      "cell_type": "markdown",
      "source": [
        ""
      ],
      "metadata": {
        "id": "WiIbzZH6Ep3A"
      }
    },
    {
      "cell_type": "code",
      "source": [
        "MODEL_NAME = 'monologg/distilkobert'"
      ],
      "metadata": {
        "id": "uazTqGe42cgG"
      },
      "execution_count": 54,
      "outputs": []
    },
    {
      "cell_type": "markdown",
      "source": [
        ""
      ],
      "metadata": {
        "id": "Ae6qLKuZEojr"
      }
    },
    {
      "cell_type": "code",
      "source": [
        ""
      ],
      "metadata": {
        "id": "_W140NOb-f09"
      },
      "execution_count": 85,
      "outputs": []
    },
    {
      "cell_type": "code",
      "source": [
        "from kobert_transformers.tokenization_kobert import KoBertTokenizer\n",
        "tokenizer = KoBertTokenizer.from_pretrained('monologg/distilkobert') # monologg/distilkobert도 동일\n",
        "tokenizer.tokenize(\"[CLS] 한국어 모델을 공유합니다. [SEP]\")"
      ],
      "metadata": {
        "colab": {
          "base_uri": "https://localhost:8080/",
          "height": 68,
          "referenced_widgets": [
            "8e1ec8fbc7824448babdc23e69ce4e43",
            "833769bddd6c484ca2b508f9c1b04dff",
            "bd84652a550345179537dac8c4ce1188",
            "94b8a5bae3a947508c0c94da4c967d35",
            "0272a6b568794eaea802a5faf10a0c6c",
            "48edc2d896ac40c4bc0197ce07b1a50c",
            "9a1ba8c57d76494ab8be7c0047ebf98c",
            "e2e7a8a5a27949cf8033ffc4e80002ae",
            "3f7a659e0f454f5f95a49d10f7d9c5d3",
            "e3809381042542fab432da043ab83cb0",
            "adb981e5651d44dba3168401d3d47003"
          ]
        },
        "id": "n0ldlGlh9mpt",
        "outputId": "700c041d-e98c-4f6a-e865-dee7c374b6e9"
      },
      "execution_count": 87,
      "outputs": [
        {
          "output_type": "display_data",
          "data": {
            "text/plain": [
              "Downloading:   0%|          | 0.00/363k [00:00<?, ?B/s]"
            ],
            "application/vnd.jupyter.widget-view+json": {
              "version_major": 2,
              "version_minor": 0,
              "model_id": "8e1ec8fbc7824448babdc23e69ce4e43"
            }
          },
          "metadata": {}
        },
        {
          "output_type": "execute_result",
          "data": {
            "text/plain": [
              "['[CLS]', '▁한국', '어', '▁모델', '을', '▁공유', '합니다', '.', '[SEP]']"
            ]
          },
          "metadata": {},
          "execution_count": 87
        }
      ]
    },
    {
      "cell_type": "code",
      "source": [
        "tokenizer = KoBertTokenizer.from_pretrained(MODEL_NAME) # Loading the tokenizer"
      ],
      "metadata": {
        "id": "u4o4qi6rzTGZ"
      },
      "execution_count": 112,
      "outputs": []
    },
    {
      "cell_type": "code",
      "source": [
        "x_train = train_df['document']\n",
        "y_train = train_df['encoded_label']\n",
        "x_val = val_df['document']\n",
        "y_val = val_df['encoded_label']"
      ],
      "metadata": {
        "id": "8OmNn-1S2fxn"
      },
      "execution_count": 113,
      "outputs": []
    },
    {
      "cell_type": "code",
      "source": [
        "max_val = 0\n",
        "for sent in (x_train.tolist() + x_train.tolist() + x_val.tolist()):\n",
        "    try:\n",
        "        sent_tok_len = len(tokenizer.tokenize(sent))\n",
        "        max_val = sent_tok_len if (sent_tok_len > max_val) else max_val\n",
        "    except:\n",
        "        pass\n",
        "    \n",
        "print(f\"The maximum amount of tokens in the dataset is {max_val}\")"
      ],
      "metadata": {
        "colab": {
          "base_uri": "https://localhost:8080/"
        },
        "id": "dtlsoQNt21A6",
        "outputId": "a9a9bf13-c97b-4144-ec5b-0aa912623332"
      },
      "execution_count": 114,
      "outputs": [
        {
          "output_type": "stream",
          "name": "stdout",
          "text": [
            "The maximum amount of tokens in the dataset is 56\n"
          ]
        }
      ]
    },
    {
      "cell_type": "markdown",
      "source": [
        "max length 와 딥러닝 모델의 input 개수를 27\n",
        "(Max token length + 2 for special characters [CLS] and [SEP])"
      ],
      "metadata": {
        "id": "ZUVVcRcU28pR"
      }
    },
    {
      "cell_type": "code",
      "source": [
        "MAX_LENGTH = 27\n",
        "from kobert_transformers.tokenization_kobert import KoBertTokenizer\n",
        "tokenizer = KoBertTokenizer.from_pretrained(MODEL_NAME,                                              \n",
        "                                            add_special_tokens=True,\n",
        "                                            max_length=MAX_LENGTH, \n",
        "                                            pad_to_max_length=True) # monologg/distilkobert도 동일\n",
        "\n",
        "def tokenize(sentences, tokenizer):\n",
        "    input_ids, input_masks, input_segments = [], [], []\n",
        "    for sentence in tqdm(sentences):\n",
        "        inputs = tokenizer.encode_plus(sentence, \n",
        "                                       add_special_tokens=True, \n",
        "                                       max_length=MAX_LENGTH, \n",
        "                                       pad_to_max_length=True, \n",
        "                                       return_attention_mask=True, \n",
        "                                       return_token_type_ids=True, \n",
        "                                       truncation=True)\n",
        "        input_ids.append(inputs['input_ids'])\n",
        "        input_masks.append(inputs['attention_mask'])\n",
        "        input_segments.append(inputs['token_type_ids'])        \n",
        "        \n",
        "    return np.asarray(input_ids, dtype='int32'), np.asarray(input_masks, dtype='int32')"
      ],
      "metadata": {
        "id": "xXVzR-7u24PG"
      },
      "execution_count": 115,
      "outputs": []
    },
    {
      "cell_type": "code",
      "source": [
        "X_train = tokenize(x_train, tokenizer)\n",
        "x_test = test_df['document']\n",
        "X_test = tokenize(x_test, tokenizer)\n",
        "X_val = tokenize(x_val, tokenizer)"
      ],
      "metadata": {
        "colab": {
          "base_uri": "https://localhost:8080/"
        },
        "id": "Xs-hUAQ63ypj",
        "outputId": "9e72c9df-7548-4d74-a19b-9bca9e80f694"
      },
      "execution_count": 116,
      "outputs": [
        {
          "output_type": "stream",
          "name": "stderr",
          "text": [
            "100%|██████████| 796538/796538 [02:05<00:00, 6355.38it/s]\n",
            "100%|██████████| 100000/100000 [00:15<00:00, 6651.06it/s]\n",
            "100%|██████████| 199134/199134 [00:29<00:00, 6724.70it/s]\n"
          ]
        }
      ]
    },
    {
      "cell_type": "code",
      "source": [
        "X_test"
      ],
      "metadata": {
        "colab": {
          "base_uri": "https://localhost:8080/"
        },
        "id": "DFcCZ6CqA672",
        "outputId": "e0581da2-b4be-430d-802e-f87a098348f1"
      },
      "execution_count": 117,
      "outputs": [
        {
          "output_type": "execute_result",
          "data": {
            "text/plain": [
              "(array([[   2, 4617, 7576, ...,    1,    1,    1],\n",
              "        [   2, 2641, 5452, ...,    1,    1,    1],\n",
              "        [   2, 4067, 6903, ...,    1,    1,    1],\n",
              "        ...,\n",
              "        [   2, 3807, 4085, ...,    1,    1,    1],\n",
              "        [   2, 2609, 7184, ...,    1,    1,    1],\n",
              "        [   2, 2609, 7184, ...,    1,    1,    1]], dtype=int32),\n",
              " array([[1, 1, 1, ..., 0, 0, 0],\n",
              "        [1, 1, 1, ..., 0, 0, 0],\n",
              "        [1, 1, 1, ..., 0, 0, 0],\n",
              "        ...,\n",
              "        [1, 1, 1, ..., 0, 0, 0],\n",
              "        [1, 1, 1, ..., 0, 0, 0],\n",
              "        [1, 1, 1, ..., 0, 0, 0]], dtype=int32))"
            ]
          },
          "metadata": {},
          "execution_count": 117
        }
      ]
    },
    {
      "cell_type": "code",
      "source": [
        "index_num = 10\n",
        "\n",
        "print(train_df.iloc[index_num]['label'], '\\n')\n",
        "\n",
        "print(x_train.iloc[index_num], '\\n')\n",
        "temp_tokens = tokenizer.tokenize(x_train.iloc[index_num])\n",
        "temp_ids = tokenizer.encode(x_train.iloc[index_num])\n",
        "\n",
        "print('ID\\'s', 'Input Tokens', sep='\\t')\n",
        "for i in range(len(temp_ids)):\n",
        "    if i == 0:\n",
        "        print(temp_ids[i], '[CLS]', sep='\\t')\n",
        "        continue\n",
        "    if i == len(temp_ids)-1:\n",
        "        print(temp_ids[i], '[SEP]', sep='\\t')\n",
        "        break\n",
        "    print(temp_ids[i], temp_tokens[i-1], sep='\\t')\n"
      ],
      "metadata": {
        "colab": {
          "base_uri": "https://localhost:8080/"
        },
        "id": "-5dM_SYj4RTu",
        "outputId": "b550126d-407c-4193-9e60-4e2a2b18561a"
      },
      "execution_count": 118,
      "outputs": [
        {
          "output_type": "stream",
          "name": "stdout",
          "text": [
            "G47479 \n",
            "\n",
            "인터넷으로 전자상거래 생활용품 \n",
            "\n",
            "ID's\tInput Tokens\n",
            "2\t[CLS]\n",
            "3794\t▁인터넷\n",
            "7078\t으로\n",
            "4049\t▁전자\n",
            "6527\t상\n",
            "5379\t거래\n",
            "2717\t▁생활\n",
            "7004\t용품\n",
            "3\t[SEP]\n"
          ]
        }
      ]
    },
    {
      "cell_type": "code",
      "source": [
        "model = TFDistilBertModel.from_pretrained(\"distilbert-base-uncased\")"
      ],
      "metadata": {
        "colab": {
          "base_uri": "https://localhost:8080/",
          "height": 81,
          "referenced_widgets": [
            "334d599010cc4971b65451cbba9c56d2",
            "3f49e6740b774b2296576c6536fc184f",
            "14423a28d1ef4790bae83459ef14c93b",
            "674e78e08ed342319dabda885cd4a30c",
            "18a8f5cfb7784e3ebc3e229d9dec23e2",
            "b372a51b202144d3bae8b4ec39d519e8",
            "2269f87921f348b4877e552671e2fe8b",
            "38fb549a2edc4d159e87567f9f27981b",
            "27ef54a05e7745f1bd0610e6c3726f18",
            "9420db5b08044055a5759db673a649dd",
            "25cf5ac703b5466c95863084a5f75134",
            "c24b47554a994f85b2fba2a988ac478b",
            "9ff10e1aeec84abc876c6964ece29b5e",
            "ffa14c80f9514fa3baa39abcd8271e31",
            "f984c3eff3f14bbba231ebcc6f472472",
            "cfe82edaf79746c9ac092f51d49436c3",
            "07122984edfc49c1b8c19dfe89a76d2f",
            "2eaa7a7ee1a84611b1504ccc937049b8",
            "81cb8191626a4321adb5a1f51182c159",
            "cb3c5e5fd24d49078f587bb11094638b",
            "0d5d98a6a8e94aa08f6f4ec867d02325",
            "7a3628a06bdc4913b8492e29c50f24c1"
          ]
        },
        "id": "bV5KFJTyGBFC",
        "outputId": "6646bda8-88d1-4b8b-87b1-438b97e14ec2"
      },
      "execution_count": 119,
      "outputs": [
        {
          "output_type": "display_data",
          "data": {
            "text/plain": [
              "Downloading:   0%|          | 0.00/483 [00:00<?, ?B/s]"
            ],
            "application/vnd.jupyter.widget-view+json": {
              "version_major": 2,
              "version_minor": 0,
              "model_id": "334d599010cc4971b65451cbba9c56d2"
            }
          },
          "metadata": {}
        },
        {
          "output_type": "display_data",
          "data": {
            "text/plain": [
              "Downloading:   0%|          | 0.00/347M [00:00<?, ?B/s]"
            ],
            "application/vnd.jupyter.widget-view+json": {
              "version_major": 2,
              "version_minor": 0,
              "model_id": "c24b47554a994f85b2fba2a988ac478b"
            }
          },
          "metadata": {}
        }
      ]
    },
    {
      "cell_type": "code",
      "source": [
        "config = DistilBertConfig.from_pretrained(MODEL_NAME, output_hidden_states=True, output_attentions=True)\n",
        "DistilBERT = TFDistilBertModel.from_pretrained(MODEL_NAME, config=config,from_pt=True)\n"
      ],
      "metadata": {
        "id": "i5JtFwoq4fB9"
      },
      "execution_count": 120,
      "outputs": []
    },
    {
      "cell_type": "code",
      "source": [
        "DistilBERT"
      ],
      "metadata": {
        "colab": {
          "base_uri": "https://localhost:8080/"
        },
        "id": "CDW4FvVFHOgx",
        "outputId": "ce6a4215-dccc-4038-d418-c24a3fa10e4d"
      },
      "execution_count": 126,
      "outputs": [
        {
          "output_type": "execute_result",
          "data": {
            "text/plain": [
              "<transformers.models.distilbert.modeling_tf_distilbert.TFDistilBertModel at 0x7f93650ed250>"
            ]
          },
          "metadata": {},
          "execution_count": 126
        }
      ]
    },
    {
      "cell_type": "code",
      "source": [
        "\n",
        "input_ids_in = tf.keras.layers.Input(shape=(MAX_LENGTH,), name='input_token', dtype='int32')\n",
        "input_masks_in = tf.keras.layers.Input(shape=(MAX_LENGTH,), name='masked_token', dtype='int32') \n",
        "\n",
        "embedding_layer = DistilBERT(input_ids = input_ids_in, attention_mask = input_masks_in)[0]\n",
        "X = tf.keras.layers.Bidirectional(tf.keras.layers.LSTM(128, return_sequences=True))(embedding_layer)\n",
        "X = tf.keras.layers.GlobalMaxPool1D()(X)\n",
        "X = tf.keras.layers.Dense(1024, activation='relu')(X)\n",
        "X = tf.keras.layers.Dropout(0.2)(X)\n",
        "X = tf.keras.layers.Dense(169, activation='softmax')(X)\n",
        "\n",
        "model = tf.keras.Model(inputs=[input_ids_in, input_masks_in], outputs = X)\n",
        "\n",
        "# for layer in model.layers[:3]:\n",
        "#     layer.trainable = False\n",
        "\n",
        "model.summary()"
      ],
      "metadata": {
        "colab": {
          "base_uri": "https://localhost:8080/"
        },
        "id": "TlHBIw1aG0KZ",
        "outputId": "f181114c-398a-427c-c58b-9f6a5832bec2"
      },
      "execution_count": 133,
      "outputs": [
        {
          "output_type": "stream",
          "name": "stdout",
          "text": [
            "Model: \"model_6\"\n",
            "__________________________________________________________________________________________________\n",
            " Layer (type)                   Output Shape         Param #     Connected to                     \n",
            "==================================================================================================\n",
            " input_token (InputLayer)       [(None, 27)]         0           []                               \n",
            "                                                                                                  \n",
            " masked_token (InputLayer)      [(None, 27)]         0           []                               \n",
            "                                                                                                  \n",
            " tf_distil_bert_model_5 (TFDist  TFBaseModelOutput(l  27803904   ['input_token[0][0]',            \n",
            " ilBertModel)                   ast_hidden_state=(N               'masked_token[0][0]']           \n",
            "                                one, 27, 768),                                                    \n",
            "                                 hidden_states=((No                                               \n",
            "                                ne, 27, 768),                                                     \n",
            "                                 (None, 27, 768),                                                 \n",
            "                                 (None, 27, 768),                                                 \n",
            "                                 (None, 27, 768)),                                                \n",
            "                                 attentions=((None,                                               \n",
            "                                 12, None, 27),                                                   \n",
            "                                 (None, 12, None, 2                                               \n",
            "                                7),                                                               \n",
            "                                 (None, 12, None, 2                                               \n",
            "                                7)))                                                              \n",
            "                                                                                                  \n",
            " bidirectional_6 (Bidirectional  (None, 27, 256)     918528      ['tf_distil_bert_model_5[3][7]'] \n",
            " )                                                                                                \n",
            "                                                                                                  \n",
            " global_max_pooling1d_6 (Global  (None, 256)         0           ['bidirectional_6[0][0]']        \n",
            " MaxPooling1D)                                                                                    \n",
            "                                                                                                  \n",
            " dense_12 (Dense)               (None, 1024)         263168      ['global_max_pooling1d_6[0][0]'] \n",
            "                                                                                                  \n",
            " dropout_75 (Dropout)           (None, 1024)         0           ['dense_12[0][0]']               \n",
            "                                                                                                  \n",
            " dense_13 (Dense)               (None, 169)          173225      ['dropout_75[0][0]']             \n",
            "                                                                                                  \n",
            "==================================================================================================\n",
            "Total params: 29,158,825\n",
            "Trainable params: 29,158,825\n",
            "Non-trainable params: 0\n",
            "__________________________________________________________________________________________________\n"
          ]
        }
      ]
    },
    {
      "cell_type": "code",
      "source": [
        "output_dir = '/content/drive/MyDrive/통계청/model1'\n",
        "if not os.path.exists(output_dir): ### If the file directory doesn't already exists,\n",
        "    os.makedirs(output_dir) ### Make it please"
      ],
      "metadata": {
        "id": "Maz7-IXQ4sRk"
      },
      "execution_count": 134,
      "outputs": []
    },
    {
      "cell_type": "code",
      "source": [
        "model_checkpoint = ModelCheckpoint(filepath=output_dir+'/weights.{epoch:02d}.hdf5',\n",
        "                                  save_weights_only=True)\n",
        "\n",
        "early_stopping = EarlyStopping(patience=3, # Stop after 3 epochs of no improvement\n",
        "                               monitor='val_loss', # Look at validation_loss\n",
        "                               min_delta=0, # After 0 change\n",
        "                               mode='min', # Stop when quantity has stopped decreasing\n",
        "                               restore_best_weights=False, # Don't Restore the best weights\n",
        "                               verbose=1) \n",
        "\n",
        "reduce_lr = ReduceLROnPlateau(monitor='val_loss', # Look at validation loss\n",
        "                              min_lr=0.000001, # Lower bound of learning rate\n",
        "                              patience=1, # Reduce after 1 with little change\n",
        "                              mode='min', # Stop when quantity has stopped decreasing\n",
        "                              factor=0.1, # Reduce by a factor of 1/10\n",
        "                              min_delta=0.01, # Minimumn change needed\n",
        "                              verbose=1)"
      ],
      "metadata": {
        "id": "Q6lVQHlo4yFI"
      },
      "execution_count": 135,
      "outputs": []
    },
    {
      "cell_type": "code",
      "source": [
        "model.compile(loss='sparse_categorical_crossentropy', optimizer='adam', metrics=['accuracy'])\n",
        "\n",
        "history = model.fit(X_train, \n",
        "                    y_train, \n",
        "                    epochs = 3,\n",
        "                    batch_size=16, \n",
        "                    validation_data=(X_val, y_val), \n",
        "                    callbacks=[model_checkpoint, early_stopping, reduce_lr])"
      ],
      "metadata": {
        "colab": {
          "base_uri": "https://localhost:8080/"
        },
        "id": "6REGD4_M4zDZ",
        "outputId": "72abb71c-29f5-4247-ba58-30ee30ac33a0"
      },
      "execution_count": null,
      "outputs": [
        {
          "output_type": "stream",
          "name": "stdout",
          "text": [
            "Epoch 1/3\n",
            "49784/49784 [==============================] - 2027s 41ms/step - loss: 0.8296 - accuracy: 0.7927 - val_loss: 1.0232 - val_accuracy: 0.7422 - lr: 0.0010\n",
            "Epoch 2/3\n",
            "42396/49784 [========================>.....] - ETA: 4:32 - loss: 1.1272 - accuracy: 0.7185"
          ]
        }
      ]
    },
    {
      "cell_type": "code",
      "source": [
        ""
      ],
      "metadata": {
        "id": "Q2ne2jaxIL4k"
      },
      "execution_count": null,
      "outputs": []
    },
    {
      "cell_type": "code",
      "source": [
        "def plot_history(history):\n",
        "    acc = history.history['accuracy']\n",
        "    val_acc = history.history['val_accuracy']\n",
        "    loss = history.history['loss']\n",
        "    val_loss = history.history['val_loss']\n",
        "    x = range(1, len(acc) + 1)\n",
        "\n",
        "    plt.figure(figsize=(12, 5))\n",
        "    plt.subplot(1, 2, 1)\n",
        "    plt.plot(x, acc, 'b', label='Training acc')\n",
        "    plt.plot(x, val_acc, 'r', label='Validation acc')\n",
        "    plt.title('Training and validation accuracy')\n",
        "    plt.legend()\n",
        "    plt.subplot(1, 2, 2)\n",
        "    plt.plot(x, loss, 'b', label='Training loss')\n",
        "    plt.plot(x, val_loss, 'r', label='Validation loss')\n",
        "    plt.title('Training and validation loss')\n",
        "    plt.legend()\n",
        "    print(\"Lowest Validation Loss: epoch {}\".format(np.argmin(val_loss)+1))\n",
        "    print(\"Highest Validation Accuracy: epoch {}\".format(np.argmax(val_acc)+1))\n",
        "\n",
        "plot_history(history)"
      ],
      "metadata": {
        "id": "wBhwewnO4-HO"
      },
      "execution_count": null,
      "outputs": []
    },
    {
      "cell_type": "code",
      "source": [
        "def get_min_val_loss_epoch(history):\n",
        "    return \"0\"+str(np.argmin(history.history['val_loss'])+1)\n",
        "\n",
        "def get_max_val_acc_epoch(history):\n",
        "    return \"0\"+str(np.argmax(history.history['val_accuracy'])+1)"
      ],
      "metadata": {
        "id": "wVs06NRM4_pY"
      },
      "execution_count": null,
      "outputs": []
    },
    {
      "cell_type": "code",
      "source": [
        "epoch_num = get_max_val_acc_epoch(history)\n",
        "model.load_weights(output_dir+\"/weights.\"+epoch_num+\".hdf5\") # Load in model weights"
      ],
      "metadata": {
        "id": "MNYvk6Sp5BF0"
      },
      "execution_count": null,
      "outputs": []
    },
    {
      "cell_type": "code",
      "source": [
        "y_test_probs = model.predict(X_test)\n",
        "\n",
        "# Turn probabilities into an interger prediction\n",
        "y_hat = []\n",
        "for prob in y_test_probs:\n",
        "    y_hat.append(np.argmax(prob))"
      ],
      "metadata": {
        "id": "izJ4d0-D5Ccs"
      },
      "execution_count": null,
      "outputs": []
    },
    {
      "cell_type": "code",
      "source": [
        "print(\"Accuracy:\", accuracy_score(y_test, y_hat))\n",
        "print_cf1(y_test, y_hat)"
      ],
      "metadata": {
        "id": "PfxcXTsT5DYL"
      },
      "execution_count": null,
      "outputs": []
    },
    {
      "cell_type": "code",
      "source": [
        "print(classification_report(y_test, y_hat, target_names=labels_5))"
      ],
      "metadata": {
        "id": "fxFc7lOX5ERs"
      },
      "execution_count": null,
      "outputs": []
    },
    {
      "cell_type": "code",
      "source": [
        "y_hat_df = pd.DataFrame(columns={'label'})\n",
        "y_hat_df['label'] = y_hat\n",
        "y_hat_df.to_csv('/content/drive/MyDrive/통계청/distilkobertresult.csv')\n"
      ],
      "metadata": {
        "id": "TLZQt15DIUvJ"
      },
      "execution_count": null,
      "outputs": []
    },
    {
      "cell_type": "code",
      "source": [
        "y_hat_df.to_csv('/content/drive/MyDrive/통계청/distilkobert_0328.csv')"
      ],
      "metadata": {
        "id": "AsbOnVZJRpR2"
      },
      "execution_count": null,
      "outputs": []
    },
    {
      "cell_type": "code",
      "source": [
        ""
      ],
      "metadata": {
        "id": "j3UaKDPzOk6f"
      },
      "execution_count": null,
      "outputs": []
    }
  ]
}