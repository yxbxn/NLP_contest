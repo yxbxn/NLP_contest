{
  "nbformat": 4,
  "nbformat_minor": 0,
  "metadata": {
    "colab": {
      "name": "Back Translate.ipynb",
      "private_outputs": true,
      "provenance": [],
      "collapsed_sections": [],
      "authorship_tag": "ABX9TyOswcMjL5/Kd2PwFrnpsV+d",
      "include_colab_link": true
    },
    "kernelspec": {
      "name": "python3",
      "display_name": "Python 3"
    },
    "language_info": {
      "name": "python"
    }
  },
  "cells": [
    {
      "cell_type": "markdown",
      "metadata": {
        "id": "view-in-github",
        "colab_type": "text"
      },
      "source": [
        "<a href=\"https://colab.research.google.com/github/yxbxn/NLP_contest/blob/main/Back_Translate.ipynb\" target=\"_parent\"><img src=\"https://colab.research.google.com/assets/colab-badge.svg\" alt=\"Open In Colab\"/></a>"
      ]
    },
    {
      "cell_type": "code",
      "source": [
        "!pip install selenium\n",
        "!apt-get update\n",
        "!apt install chromium-chromedriver\n",
        "!cp /usr/lib/chromium-browser/chromedriver /usr/bin"
      ],
      "metadata": {
        "id": "Z5zL_FJsqlPf"
      },
      "execution_count": null,
      "outputs": []
    },
    {
      "cell_type": "code",
      "source": [
        "import pandas as pd\n",
        "import selenium\n",
        "from selenium import webdriver\n",
        "from bs4 import BeautifulSoup\n",
        "import time\n",
        "from tqdm import tnrange\n",
        "from urllib.request import urlopen\n",
        "import re\n",
        "import requests\n",
        "import urllib.request\n",
        "from tqdm import tqdm\n",
        "\n",
        "import selenium\n",
        "from selenium import webdriver\n",
        "from selenium.webdriver.common.by import By\n",
        "from selenium.webdriver.support.ui import WebDriverWait\n",
        "from selenium.webdriver.support import expected_conditions as EC\n",
        "\n",
        "import sys\n",
        "import numpy as np\n",
        "import pandas as pd\n",
        "import random\n",
        "from tqdm.notebook import tqdm"
      ],
      "metadata": {
        "id": "_58KDYqyqlJ6"
      },
      "execution_count": null,
      "outputs": []
    },
    {
      "cell_type": "code",
      "source": [
        "def chrome_setting():\n",
        "  chrome_options = webdriver.ChromeOptions()\n",
        "  chrome_options.add_argument('--headless')\n",
        "  chrome_options.add_argument('--no-sandbox')\n",
        "  chrome_options.add_argument('--disable-dev-shm-usage')\n",
        "  driver = webdriver.Chrome('chromedriver', options=chrome_options)\n",
        "  return driver"
      ],
      "metadata": {
        "id": "nf-oyRA0qKqG"
      },
      "execution_count": null,
      "outputs": []
    },
    {
      "cell_type": "code",
      "source": [
        "driver=chrome_setting()"
      ],
      "metadata": {
        "id": "EswS_vi0qcnF"
      },
      "execution_count": null,
      "outputs": []
    },
    {
      "cell_type": "code",
      "source": [
        "# 구글드라이브 연동\n",
        "from google.colab import drive\n",
        "drive.mount('/content/MyDrive')"
      ],
      "metadata": {
        "id": "Fa0ZN2WbuZzp"
      },
      "execution_count": null,
      "outputs": []
    },
    {
      "cell_type": "code",
      "source": [
        "# 특정 파일 불러오기\n",
        "import pandas as pd\n",
        "train_preprocessed = pd.read_csv(\"/content/MyDrive/MyDrive/test/train_preprocessed.csv\")\n",
        "test_preprocessed = pd.read_csv(\"/content/MyDrive/MyDrive/test/test_preprocessed.csv\")"
      ],
      "metadata": {
        "id": "R4mtIqy8uaAD"
      },
      "execution_count": null,
      "outputs": []
    },
    {
      "cell_type": "code",
      "source": [
        "train_preprocessed.shape"
      ],
      "metadata": {
        "id": "reRk4hKJw7dJ"
      },
      "execution_count": null,
      "outputs": []
    },
    {
      "cell_type": "markdown",
      "source": [
        "AI_id 컬럼 부여\n",
        "- 정수 자릿수 맞추기 : https://jlog1016.tistory.com/4"
      ],
      "metadata": {
        "id": "KFJlEEOBz2EL"
      }
    },
    {
      "cell_type": "code",
      "source": [
        "train_id = []\n",
        "for i in range(1,1000001):\n",
        "    num = str(i).zfill(7)\n",
        "    train_id.append(\"id_\" + num)"
      ],
      "metadata": {
        "id": "3ug-Fxeuz13Z"
      },
      "execution_count": null,
      "outputs": []
    },
    {
      "cell_type": "code",
      "source": [
        "test_id = []\n",
        "for i in range(1,100001):\n",
        "    num = str(i).zfill(6)\n",
        "    test_id.append(\"id_\" + num)"
      ],
      "metadata": {
        "id": "5gOgSlBpz1tB"
      },
      "execution_count": null,
      "outputs": []
    },
    {
      "cell_type": "code",
      "source": [
        "train_preprocessed[\"AI_id\"] = train_id\n",
        "test_preprocessed[\"AI_id\"] = test_id"
      ],
      "metadata": {
        "id": "7UW5MRMVz1fQ"
      },
      "execution_count": null,
      "outputs": []
    },
    {
      "cell_type": "markdown",
      "source": [
        "# **Data Augmentation**"
      ],
      "metadata": {
        "id": "UFMV5qW9uwvz"
      }
    },
    {
      "cell_type": "code",
      "source": [
        "train_preprocessed[\"label\"].value_counts().describe()"
      ],
      "metadata": {
        "id": "LSDrOijNuv2O"
      },
      "execution_count": null,
      "outputs": []
    },
    {
      "cell_type": "markdown",
      "source": [
        "230개 미만인 label 제거"
      ],
      "metadata": {
        "id": "CLLqWU4Mu29h"
      }
    },
    {
      "cell_type": "markdown",
      "source": [
        "- except_label = train_preprocessed[\"label\"].value_counts()[train_preprocessed[\"label\"].value_counts() < 230].index\n",
        "- except_label"
      ],
      "metadata": {
        "id": "C9ZJCOCsyfT4"
      }
    },
    {
      "cell_type": "code",
      "source": [
        "#mask = train_preprocessed['label'].isin(except_label)\n",
        "#train_preprocessed = train_preprocessed[~mask].reset_index(drop=True)\n",
        "#train_preprocessed.head()"
      ],
      "metadata": {
        "id": "FNdQ9O0wu5pN"
      },
      "execution_count": null,
      "outputs": []
    },
    {
      "cell_type": "code",
      "source": [
        "train_preprocessed[\"label\"].value_counts().describe()"
      ],
      "metadata": {
        "id": "QS16J3b4wfRh"
      },
      "execution_count": null,
      "outputs": []
    },
    {
      "cell_type": "markdown",
      "source": [
        "남아있는 label Q1 : 230\n",
        "- label 개수가 230개 이하인 데이터 증강"
      ],
      "metadata": {
        "id": "paP6fHmfvQuW"
      }
    },
    {
      "cell_type": "code",
      "source": [
        "augment_label = train_preprocessed[\"label\"].value_counts()[train_preprocessed[\"label\"].value_counts() < 230].index\n",
        "mask = train_preprocessed['label'].isin(augment_label)\n",
        "augment_preprocessed = train_preprocessed[mask].reset_index(drop=True)\n",
        "augment_preprocessed.head()"
      ],
      "metadata": {
        "id": "TZQJz_u0vAX5"
      },
      "execution_count": null,
      "outputs": []
    },
    {
      "cell_type": "code",
      "source": [
        "# 증강시킬 데이터\n",
        "augment_preprocessed"
      ],
      "metadata": {
        "id": "QnghNOSAvAN_"
      },
      "execution_count": null,
      "outputs": []
    },
    {
      "cell_type": "code",
      "source": [
        "import requests\n",
        "import time\n",
        "url = \"https://translate.kakao.com/translator/translate.json\"\n",
        "\n",
        "def kakao_translate(query,from_lang,to_lang):\n",
        "\n",
        "    headers = {\n",
        "        \"Referer\": \"https://translate.kakao.com/\",\n",
        "        \"User-Agent\": \"Mozilla/5.0\"}\n",
        "\n",
        "    data = {\n",
        "        \"queryLanguage\": from_lang,\n",
        "        \"resultLanguage\": to_lang,\n",
        "        \"q\": query}\n",
        "\n",
        "    resp = requests.post(url, headers=headers, data=data)\n",
        "    time.sleep(3)\n",
        "\n",
        "    try:\n",
        "        if resp.json()[\"result\"][\"status_code\"] == 200:\n",
        "            data = resp.json()['result']['output'][0][0]\n",
        "    except:\n",
        "        data = \"None\"\n",
        "    return data"
      ],
      "metadata": {
        "id": "rGAM03J0bkaw"
      },
      "execution_count": null,
      "outputs": []
    },
    {
      "cell_type": "code",
      "source": [
        "txt = \"니트 테이프 티리올 수지 중합 수지 배합\"\n",
        "\n",
        "if __name__ == \"__main__\":\n",
        "    print(kakao_translate(txt,\"kr\",\"cn\"))\n",
        "    print(kakao_translate(txt,\"kr\",\"en\"))\n",
        "    print(kakao_translate(txt,\"kr\",\"jp\"))"
      ],
      "metadata": {
        "id": "YNnStdWauVFf"
      },
      "execution_count": null,
      "outputs": []
    },
    {
      "cell_type": "markdown",
      "source": [
        "### 분할 시행"
      ],
      "metadata": {
        "id": "Pf552CUdG1PP"
      }
    },
    {
      "cell_type": "code",
      "source": [
        "tqdm.pandas()\n",
        "\n",
        "augment_preprocessed[\"eng\"] = \"\"\n",
        "augment_preprocessed[\"chn\"] = \"\"\n",
        "augment_preprocessed[\"jpn\"] = \"\""
      ],
      "metadata": {
        "id": "MxLOwpOZNb08"
      },
      "execution_count": null,
      "outputs": []
    },
    {
      "cell_type": "code",
      "source": [
        "# 영어 1번\n",
        "for i in tqdm(range(0,1000)):\n",
        "    augment_preprocessed.loc[i,\"eng\"] = kakao_translate(augment_preprocessed.loc[i,\"document\"],\"kr\",\"en\")\n",
        "\n",
        "augment_preprocessed.to_csv(\"/content/MyDrive/MyDrive/test/augment.csv\",encoding=\"utf-8-sig\",index=False)"
      ],
      "metadata": {
        "id": "zYJ5InXMF6Xo"
      },
      "execution_count": null,
      "outputs": []
    },
    {
      "cell_type": "code",
      "source": [
        "# 영어 2번\n",
        "for i in tqdm(range(1000,2000)):\n",
        "    augment_preprocessed.loc[i,\"eng\"] = kakao_translate(augment_preprocessed.loc[i,\"document\"],\"kr\",\"en\")\n",
        "\n",
        "augment_preprocessed.to_csv(\"/content/MyDrive/MyDrive/test/augment.csv\",encoding=\"utf-8-sig\",index=False)"
      ],
      "metadata": {
        "id": "avbCDe8_N01m"
      },
      "execution_count": null,
      "outputs": []
    },
    {
      "cell_type": "code",
      "source": [
        "augment_preprocessed[augment_preprocessed[\"eng\"] == \"None\"]"
      ],
      "metadata": {
        "id": "uc63z53mjglr"
      },
      "execution_count": null,
      "outputs": []
    },
    {
      "cell_type": "code",
      "source": [
        "# 영어 3번\n",
        "for i in tqdm(range(2000,3000)):\n",
        "    augment_preprocessed.loc[i,\"eng\"] = kakao_translate(augment_preprocessed.loc[i,\"document\"],\"kr\",\"en\")\n",
        "\n",
        "augment_preprocessed.to_csv(\"/content/MyDrive/MyDrive/test/augment.csv\",encoding=\"utf-8-sig\",index=False)"
      ],
      "metadata": {
        "id": "iVPx6Q_gN0p1"
      },
      "execution_count": null,
      "outputs": []
    },
    {
      "cell_type": "code",
      "source": [
        "# 영어 4번\n",
        "for i in tqdm(range(3000,4000)):\n",
        "    augment_preprocessed.loc[i,\"eng\"] = kakao_translate(augment_preprocessed.loc[i,\"document\"],\"kr\",\"en\")\n",
        "\n",
        "augment_preprocessed.to_csv(\"/content/MyDrive/MyDrive/test/augment.csv\",encoding=\"utf-8-sig\",index=False)"
      ],
      "metadata": {
        "id": "ksgC_Td6N0VM"
      },
      "execution_count": null,
      "outputs": []
    },
    {
      "cell_type": "code",
      "source": [
        "# 영어 5번\n",
        "for i in tqdm(range(4000,len(augment_preprocessed))):\n",
        "    augment_preprocessed.loc[i,\"eng\"] = kakao_translate(augment_preprocessed.loc[i,\"document\"],\"kr\",\"en\")\n",
        "\n",
        "augment_preprocessed.to_csv(\"/content/MyDrive/MyDrive/test/augment.csv\",encoding=\"utf-8-sig\",index=False)"
      ],
      "metadata": {
        "id": "_CTmhlosN9p0"
      },
      "execution_count": null,
      "outputs": []
    },
    {
      "cell_type": "markdown",
      "source": [
        "중국어"
      ],
      "metadata": {
        "id": "iWCukx4aOQ4R"
      }
    },
    {
      "cell_type": "code",
      "source": [
        "augment_preprocessed[\"chn\"] = augment_preprocessed[\"document\"].progress_apply(lambda x : kakao_translate(x,\"kr\",\"cn\"))"
      ],
      "metadata": {
        "id": "Pk_-AN-EGE7y"
      },
      "execution_count": null,
      "outputs": []
    },
    {
      "cell_type": "code",
      "source": [
        "augment_preprocessed[\"jpn\"] = augment_preprocessed[\"document\"].progress_apply(lambda x : kakao_translate(x,\"kr\",\"jp\"))"
      ],
      "metadata": {
        "id": "cMtMe4_nx92i"
      },
      "execution_count": null,
      "outputs": []
    },
    {
      "cell_type": "code",
      "source": [
        "augment_preprocessed[augment_preprocessed[\"eng\"] == \"None\"]"
      ],
      "metadata": {
        "id": "3aFmmOjD_4kR"
      },
      "execution_count": null,
      "outputs": []
    },
    {
      "cell_type": "markdown",
      "source": [
        "## Papago Crawling 마지막.."
      ],
      "metadata": {
        "id": "wwWW4HlV7tBC"
      }
    },
    {
      "cell_type": "code",
      "source": [
        "# Crawling\n",
        "\n",
        "def kor_to_trans(text_data, trans_lang,start_index,final_index):\n",
        "    trans_list = []\n",
        "    target_present = EC.presence_of_element_located((By.XPATH, '//*[@id=\"txtTarget\"]'))\n",
        "\n",
        "    for i in tqdm(range(start_index,final_index)): \n",
        "    \n",
        "        if (i!=0)&(i%99==0):\n",
        "            time.sleep(2)\n",
        "            print('{}th : '.format(i), backtrans)\n",
        "    \n",
        "        try:\n",
        "            driver.get('https://papago.naver.com/?sk=ko&tk='+trans_lang+'&st='+text_data[i])\n",
        "            time.sleep(1.5)\n",
        "            element=WebDriverWait(driver, 10).until(target_present)\n",
        "            time.sleep(0.1)\n",
        "            backtrans = element.text \n",
        "\n",
        "            if (backtrans=='')|(backtrans==' '):\n",
        "                element=WebDriverWait(driver, 10).until(target_present)\n",
        "                backtrans = element.text \n",
        "                trans_list.append(backtrans)\n",
        "            else:\n",
        "                trans_list.append(backtrans)\n",
        "        \n",
        "        except:\n",
        "            trans_list.append('')\n",
        "\n",
        "    return trans_list"
      ],
      "metadata": {
        "id": "SKCW5wXv_5AB"
      },
      "execution_count": null,
      "outputs": []
    },
    {
      "cell_type": "code",
      "source": [
        "augment_preprocessed.head(3)"
      ],
      "metadata": {
        "id": "WoW-4QH08dcz"
      },
      "execution_count": null,
      "outputs": []
    },
    {
      "cell_type": "code",
      "source": [
        "data_path = \"/content/MyDrive/MyDrive/test/\""
      ],
      "metadata": {
        "id": "NQRSR18S8zQE"
      },
      "execution_count": null,
      "outputs": []
    },
    {
      "cell_type": "code",
      "source": [
        "trans_list = kor_to_trans(augment_preprocessed['document'], 'en',0,len(augment_preprocessed))\n",
        "np.save(data_path+'kor_to_eng_train_0_4328.npy',trans_list)"
      ],
      "metadata": {
        "id": "_EUZbDqA7wGc"
      },
      "execution_count": null,
      "outputs": []
    },
    {
      "cell_type": "markdown",
      "source": [
        "할당"
      ],
      "metadata": {
        "id": "8NPLNXyheQo-"
      }
    },
    {
      "cell_type": "code",
      "source": [
        "augment_preprocessed[\"eng\"] = trans_list"
      ],
      "metadata": {
        "id": "0g70bi8_eRx1"
      },
      "execution_count": null,
      "outputs": []
    },
    {
      "cell_type": "code",
      "source": [
        "trans_list = kor_to_trans(augment_preprocessed['document'], 'zn-CN',0,len(augment_preprocessed))\n",
        "np.save(data_path+'kor_to_chn_train_0_4328.npy',trans_list)"
      ],
      "metadata": {
        "id": "bIlYY85-8knd"
      },
      "execution_count": null,
      "outputs": []
    },
    {
      "cell_type": "code",
      "source": [
        ""
      ],
      "metadata": {
        "id": "F6bUxzQgdiCp"
      },
      "execution_count": null,
      "outputs": []
    },
    {
      "cell_type": "code",
      "source": [
        ""
      ],
      "metadata": {
        "id": "72hUZSnjeIg-"
      },
      "execution_count": null,
      "outputs": []
    }
  ]
}
